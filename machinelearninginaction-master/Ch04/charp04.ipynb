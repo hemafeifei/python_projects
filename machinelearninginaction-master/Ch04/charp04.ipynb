{
 "cells": [
  {
   "cell_type": "code",
   "execution_count": 2,
   "metadata": {
    "collapsed": false
   },
   "outputs": [],
   "source": [
    "import os\n",
    "os.chdir(\"/Users/weizheng/PycharmProjects/machinelearninginaction-master/Ch04/\")"
   ]
  },
  {
   "cell_type": "code",
   "execution_count": 3,
   "metadata": {
    "collapsed": true
   },
   "outputs": [],
   "source": [
    "import bayes3"
   ]
  },
  {
   "cell_type": "code",
   "execution_count": 4,
   "metadata": {
    "collapsed": true
   },
   "outputs": [],
   "source": [
    "list_posts, list_classes = bayes3.load_dataset()"
   ]
  },
  {
   "cell_type": "code",
   "execution_count": 5,
   "metadata": {
    "collapsed": true
   },
   "outputs": [],
   "source": [
    "my_vocablist = bayes3.create_vocab_list(list_posts)"
   ]
  },
  {
   "cell_type": "code",
   "execution_count": 6,
   "metadata": {
    "collapsed": false
   },
   "outputs": [
    {
     "data": {
      "text/plain": [
       "['has',\n",
       " 'love',\n",
       " 'quit',\n",
       " 'please',\n",
       " 'maybe',\n",
       " 'dog',\n",
       " 'ate',\n",
       " 'problems',\n",
       " 'posting',\n",
       " 'mr',\n",
       " 'licks',\n",
       " 'buying',\n",
       " 'not',\n",
       " 'take',\n",
       " 'worthless',\n",
       " 'stupid',\n",
       " 'steak',\n",
       " 'stop',\n",
       " 'I',\n",
       " 'my',\n",
       " 'help',\n",
       " 'garbage',\n",
       " 'park',\n",
       " 'him',\n",
       " 'how',\n",
       " 'flea',\n",
       " 'food',\n",
       " 'so',\n",
       " 'to',\n",
       " 'cute',\n",
       " 'is',\n",
       " 'dalmation']"
      ]
     },
     "execution_count": 6,
     "metadata": {},
     "output_type": "execute_result"
    }
   ],
   "source": [
    "my_vocablist"
   ]
  },
  {
   "cell_type": "code",
   "execution_count": 7,
   "metadata": {
    "collapsed": false
   },
   "outputs": [
    {
     "data": {
      "text/plain": [
       "[['my', 'dog', 'has', 'flea', 'problems', 'help', 'please'],\n",
       " ['maybe', 'not', 'take', 'him', 'to', 'dog', 'park', 'stupid'],\n",
       " ['my', 'dalmation', 'is', 'so', 'cute', 'I', 'love', 'him'],\n",
       " ['stop', 'posting', 'stupid', 'worthless', 'garbage'],\n",
       " ['mr', 'licks', 'ate', 'my', 'steak', 'how', 'to', 'stop', 'him'],\n",
       " ['quit', 'buying', 'worthless', 'dog', 'food', 'stupid']]"
      ]
     },
     "execution_count": 7,
     "metadata": {},
     "output_type": "execute_result"
    }
   ],
   "source": [
    "list_posts"
   ]
  },
  {
   "cell_type": "code",
   "execution_count": 10,
   "metadata": {
    "collapsed": false
   },
   "outputs": [
    {
     "name": "stdout",
     "output_type": "stream",
     "text": [
      "1,0,0,1,0,1,0,1,0,0,0,0,0,0,0,0,0,0,0,1,1,0,0,0,0,1,0,0,0,0,0,0,"
     ]
    }
   ],
   "source": [
    "for i in bayes3.set_of_word2vec(my_vocablist, list_posts[0]):\n",
    "    print(i, end = ',')"
   ]
  },
  {
   "cell_type": "code",
   "execution_count": 12,
   "metadata": {
    "collapsed": false
   },
   "outputs": [
    {
     "data": {
      "text/plain": [
       "<module 'bayes3' from '/Users/weizheng/PycharmProjects/machinelearninginaction-master/Ch04/bayes3.py'>"
      ]
     },
     "execution_count": 12,
     "metadata": {},
     "output_type": "execute_result"
    }
   ],
   "source": [
    "from imp import reload\n",
    "reload(bayes3)"
   ]
  },
  {
   "cell_type": "code",
   "execution_count": 13,
   "metadata": {
    "collapsed": true
   },
   "outputs": [],
   "source": [
    "list_posts, list_classes = bayes3.load_dataset()"
   ]
  },
  {
   "cell_type": "code",
   "execution_count": 14,
   "metadata": {
    "collapsed": true
   },
   "outputs": [],
   "source": [
    "my_vocablist = bayes3.create_vocab_list(list_posts)"
   ]
  },
  {
   "cell_type": "code",
   "execution_count": 15,
   "metadata": {
    "collapsed": true
   },
   "outputs": [],
   "source": [
    "train_mat = []\n",
    "for postin_doc in list_posts:\n",
    "    train_mat.append(bayes3.set_of_word2vec(my_vocablist, postin_doc))"
   ]
  },
  {
   "cell_type": "code",
   "execution_count": 21,
   "metadata": {
    "collapsed": false
   },
   "outputs": [
    {
     "data": {
      "text/plain": [
       "6"
      ]
     },
     "execution_count": 21,
     "metadata": {},
     "output_type": "execute_result"
    }
   ],
   "source": [
    "len(train_mat)"
   ]
  },
  {
   "cell_type": "code",
   "execution_count": 22,
   "metadata": {
    "collapsed": false
   },
   "outputs": [
    {
     "data": {
      "text/plain": [
       "[1,\n",
       " 0,\n",
       " 0,\n",
       " 1,\n",
       " 0,\n",
       " 1,\n",
       " 0,\n",
       " 1,\n",
       " 0,\n",
       " 0,\n",
       " 0,\n",
       " 0,\n",
       " 0,\n",
       " 0,\n",
       " 0,\n",
       " 0,\n",
       " 0,\n",
       " 0,\n",
       " 0,\n",
       " 1,\n",
       " 1,\n",
       " 0,\n",
       " 0,\n",
       " 0,\n",
       " 0,\n",
       " 1,\n",
       " 0,\n",
       " 0,\n",
       " 0,\n",
       " 0,\n",
       " 0,\n",
       " 0]"
      ]
     },
     "execution_count": 22,
     "metadata": {},
     "output_type": "execute_result"
    }
   ],
   "source": [
    "train_mat[0]"
   ]
  },
  {
   "cell_type": "code",
   "execution_count": 19,
   "metadata": {
    "collapsed": true
   },
   "outputs": [],
   "source": [
    "p0v, p1v, pAb = bayes3.train_NB0(train_mat, list_classes)"
   ]
  },
  {
   "cell_type": "code",
   "execution_count": 20,
   "metadata": {
    "collapsed": false
   },
   "outputs": [
    {
     "data": {
      "text/plain": [
       "0.5"
      ]
     },
     "execution_count": 20,
     "metadata": {},
     "output_type": "execute_result"
    }
   ],
   "source": [
    "pAb"
   ]
  },
  {
   "cell_type": "code",
   "execution_count": 24,
   "metadata": {
    "collapsed": false
   },
   "outputs": [
    {
     "data": {
      "text/plain": [
       "[0.041666666666666664,\n",
       " 0.041666666666666664,\n",
       " -0.052631578947368418,\n",
       " 0.041666666666666664,\n",
       " -0.052631578947368418,\n",
       " -0.063596491228070179,\n",
       " 0.041666666666666664,\n",
       " 0.041666666666666664,\n",
       " -0.052631578947368418,\n",
       " 0.041666666666666664,\n",
       " 0.041666666666666664,\n",
       " -0.052631578947368418,\n",
       " -0.052631578947368418,\n",
       " -0.052631578947368418,\n",
       " -0.10526315789473684,\n",
       " -0.15789473684210525,\n",
       " 0.041666666666666664,\n",
       " -0.010964912280701754,\n",
       " 0.041666666666666664,\n",
       " 0.125,\n",
       " 0.041666666666666664,\n",
       " -0.052631578947368418,\n",
       " -0.052631578947368418,\n",
       " 0.030701754385964911,\n",
       " 0.041666666666666664,\n",
       " 0.041666666666666664,\n",
       " -0.052631578947368418,\n",
       " 0.041666666666666664,\n",
       " -0.010964912280701754,\n",
       " 0.041666666666666664,\n",
       " 0.041666666666666664,\n",
       " 0.041666666666666664]"
      ]
     },
     "execution_count": 24,
     "metadata": {},
     "output_type": "execute_result"
    }
   ],
   "source": [
    "list(p0v -p1v)"
   ]
  },
  {
   "cell_type": "code",
   "execution_count": 25,
   "metadata": {
    "collapsed": true
   },
   "outputs": [],
   "source": [
    "list_abusive = []\n",
    "for i in list(p0v -p1v):\n",
    "    if i >=0:\n",
    "        list_abusive.append(0)\n",
    "    else:\n",
    "        list_abusive.append(1)"
   ]
  },
  {
   "cell_type": "code",
   "execution_count": 26,
   "metadata": {
    "collapsed": false
   },
   "outputs": [
    {
     "data": {
      "text/plain": [
       "[0,\n",
       " 0,\n",
       " 1,\n",
       " 0,\n",
       " 1,\n",
       " 1,\n",
       " 0,\n",
       " 0,\n",
       " 1,\n",
       " 0,\n",
       " 0,\n",
       " 1,\n",
       " 1,\n",
       " 1,\n",
       " 1,\n",
       " 1,\n",
       " 0,\n",
       " 1,\n",
       " 0,\n",
       " 0,\n",
       " 0,\n",
       " 1,\n",
       " 1,\n",
       " 0,\n",
       " 0,\n",
       " 0,\n",
       " 1,\n",
       " 0,\n",
       " 1,\n",
       " 0,\n",
       " 0,\n",
       " 0]"
      ]
     },
     "execution_count": 26,
     "metadata": {},
     "output_type": "execute_result"
    }
   ],
   "source": [
    "list_abusive"
   ]
  },
  {
   "cell_type": "code",
   "execution_count": 27,
   "metadata": {
    "collapsed": false
   },
   "outputs": [
    {
     "data": {
      "text/plain": [
       "['has',\n",
       " 'love',\n",
       " 'quit',\n",
       " 'please',\n",
       " 'maybe',\n",
       " 'dog',\n",
       " 'ate',\n",
       " 'problems',\n",
       " 'posting',\n",
       " 'mr',\n",
       " 'licks',\n",
       " 'buying',\n",
       " 'not',\n",
       " 'take',\n",
       " 'worthless',\n",
       " 'stupid',\n",
       " 'steak',\n",
       " 'stop',\n",
       " 'I',\n",
       " 'my',\n",
       " 'help',\n",
       " 'garbage',\n",
       " 'park',\n",
       " 'him',\n",
       " 'how',\n",
       " 'flea',\n",
       " 'food',\n",
       " 'so',\n",
       " 'to',\n",
       " 'cute',\n",
       " 'is',\n",
       " 'dalmation']"
      ]
     },
     "execution_count": 27,
     "metadata": {},
     "output_type": "execute_result"
    }
   ],
   "source": [
    "my_vocablist"
   ]
  },
  {
   "cell_type": "code",
   "execution_count": 38,
   "metadata": {
    "collapsed": false
   },
   "outputs": [
    {
     "data": {
      "text/plain": [
       "<module 'bayes3' from '/Users/weizheng/PycharmProjects/machinelearninginaction-master/Ch04/bayes3.py'>"
      ]
     },
     "execution_count": 38,
     "metadata": {},
     "output_type": "execute_result"
    }
   ],
   "source": [
    "reload(bayes3)"
   ]
  },
  {
   "cell_type": "code",
   "execution_count": 39,
   "metadata": {
    "collapsed": false
   },
   "outputs": [
    {
     "name": "stdout",
     "output_type": "stream",
     "text": [
      "['love', 'my', 'dalmation'] classified as : 0\n",
      "['quit', 'buying', 'worthless', 'dog', 'food', 'stupid'] classified as : 0\n"
     ]
    },
    {
     "name": "stderr",
     "output_type": "stream",
     "text": [
      "/Users/weizheng/PycharmProjects/machinelearninginaction-master/Ch04/bayes3.py:52: RuntimeWarning: divide by zero encountered in log\n",
      "  p1_vec = log(p1_num/p1_denom)\n",
      "/Users/weizheng/PycharmProjects/machinelearninginaction-master/Ch04/bayes3.py:53: RuntimeWarning: divide by zero encountered in log\n",
      "  p0_vec = log(p0_num/p0_denom)\n",
      "/Users/weizheng/PycharmProjects/machinelearninginaction-master/Ch04/bayes3.py:65: RuntimeWarning: invalid value encountered in multiply\n",
      "  p1 = sum(vec2classify * p1_vec) + log(p_class1)\n",
      "/Users/weizheng/PycharmProjects/machinelearninginaction-master/Ch04/bayes3.py:66: RuntimeWarning: invalid value encountered in multiply\n",
      "  p0 = sum(vec2classify * p0_vec) + log(1.0 - p_class1)\n"
     ]
    }
   ],
   "source": [
    "bayes3.test_NB()"
   ]
  },
  {
   "cell_type": "code",
   "execution_count": null,
   "metadata": {
    "collapsed": true
   },
   "outputs": [],
   "source": []
  }
 ],
 "metadata": {
  "kernelspec": {
   "display_name": "Python 3",
   "language": "python",
   "name": "python3"
  },
  "language_info": {
   "codemirror_mode": {
    "name": "ipython",
    "version": 3
   },
   "file_extension": ".py",
   "mimetype": "text/x-python",
   "name": "python",
   "nbconvert_exporter": "python",
   "pygments_lexer": "ipython3",
   "version": "3.6.0"
  }
 },
 "nbformat": 4,
 "nbformat_minor": 2
}
