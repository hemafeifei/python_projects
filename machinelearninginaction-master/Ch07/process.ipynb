{
 "cells": [
  {
   "cell_type": "code",
   "execution_count": 2,
   "metadata": {
    "collapsed": true
   },
   "outputs": [],
   "source": [
    "import os\n",
    "os.chdir('/Users/weizheng/PycharmProjects/machinelearninginaction-master/Ch07')"
   ]
  },
  {
   "cell_type": "code",
   "execution_count": 1,
   "metadata": {
    "scrolled": true
   },
   "outputs": [],
   "source": [
    "\n",
    "import adaboost3_6"
   ]
  },
  {
   "cell_type": "code",
   "execution_count": 2,
   "metadata": {
    "collapsed": true
   },
   "outputs": [],
   "source": [
    "from imp import reload"
   ]
  },
  {
   "cell_type": "code",
   "execution_count": 17,
   "metadata": {},
   "outputs": [
    {
     "data": {
      "text/plain": [
       "<module 'adaboost3_6' from '/Users/weizheng/PycharmProjects/machinelearninginaction-master/Ch07/adaboost3_6.py'>"
      ]
     },
     "execution_count": 17,
     "metadata": {},
     "output_type": "execute_result"
    }
   ],
   "source": [
    "reload(adaboost3_6)"
   ]
  },
  {
   "cell_type": "code",
   "execution_count": 3,
   "metadata": {},
   "outputs": [],
   "source": [
    "dat_mat, class_labels =adaboost3_6.load_simpdata()"
   ]
  },
  {
   "cell_type": "code",
   "execution_count": 11,
   "metadata": {},
   "outputs": [
    {
     "data": {
      "text/plain": [
       "<module 'adaboost3_6' from 'C:\\\\Users\\\\wei\\\\PycharmProjects\\\\python_projects\\\\machinelearninginaction-master\\\\Ch07\\\\adaboost3_6.py'>"
      ]
     },
     "execution_count": 11,
     "metadata": {},
     "output_type": "execute_result"
    }
   ],
   "source": [
    "reload(adaboost3_6)"
   ]
  },
  {
   "cell_type": "code",
   "execution_count": 5,
   "metadata": {
    "collapsed": true
   },
   "outputs": [],
   "source": [
    "import numpy as np"
   ]
  },
  {
   "cell_type": "code",
   "execution_count": 7,
   "metadata": {},
   "outputs": [],
   "source": [
    "D = np.mat(np.ones((5,1))/5.0)"
   ]
  },
  {
   "cell_type": "code",
   "execution_count": 8,
   "metadata": {},
   "outputs": [
    {
     "data": {
      "text/plain": [
       "matrix([[ 0.2],\n",
       "        [ 0.2],\n",
       "        [ 0.2],\n",
       "        [ 0.2],\n",
       "        [ 0.2]])"
      ]
     },
     "execution_count": 8,
     "metadata": {},
     "output_type": "execute_result"
    }
   ],
   "source": [
    "D"
   ]
  },
  {
   "cell_type": "code",
   "execution_count": 13,
   "metadata": {},
   "outputs": [
    {
     "name": "stdout",
     "output_type": "stream",
     "text": [
      "split: dim 0, thresh 0.90, thresh inequal: lt, the weighted erroris  0.400\n",
      "split: dim 0, thresh 0.90, thresh inequal: gt, the weighted erroris  0.600\n",
      "split: dim 0, thresh 1.00, thresh inequal: lt, the weighted erroris  0.400\n",
      "split: dim 0, thresh 1.00, thresh inequal: gt, the weighted erroris  0.600\n",
      "split: dim 0, thresh 1.10, thresh inequal: lt, the weighted erroris  0.400\n",
      "split: dim 0, thresh 1.10, thresh inequal: gt, the weighted erroris  0.600\n",
      "split: dim 0, thresh 1.20, thresh inequal: lt, the weighted erroris  0.400\n",
      "split: dim 0, thresh 1.20, thresh inequal: gt, the weighted erroris  0.600\n",
      "split: dim 0, thresh 1.30, thresh inequal: lt, the weighted erroris  0.200\n",
      "split: dim 0, thresh 1.30, thresh inequal: gt, the weighted erroris  0.800\n",
      "split: dim 0, thresh 1.40, thresh inequal: lt, the weighted erroris  0.200\n",
      "split: dim 0, thresh 1.40, thresh inequal: gt, the weighted erroris  0.800\n",
      "split: dim 0, thresh 1.50, thresh inequal: lt, the weighted erroris  0.200\n",
      "split: dim 0, thresh 1.50, thresh inequal: gt, the weighted erroris  0.800\n",
      "split: dim 0, thresh 1.60, thresh inequal: lt, the weighted erroris  0.200\n",
      "split: dim 0, thresh 1.60, thresh inequal: gt, the weighted erroris  0.800\n",
      "split: dim 0, thresh 1.70, thresh inequal: lt, the weighted erroris  0.200\n",
      "split: dim 0, thresh 1.70, thresh inequal: gt, the weighted erroris  0.800\n",
      "split: dim 0, thresh 1.80, thresh inequal: lt, the weighted erroris  0.200\n",
      "split: dim 0, thresh 1.80, thresh inequal: gt, the weighted erroris  0.800\n",
      "split: dim 0, thresh 1.90, thresh inequal: lt, the weighted erroris  0.200\n",
      "split: dim 0, thresh 1.90, thresh inequal: gt, the weighted erroris  0.800\n",
      "split: dim 0, thresh 2.00, thresh inequal: lt, the weighted erroris  0.600\n",
      "split: dim 0, thresh 2.00, thresh inequal: gt, the weighted erroris  0.400\n",
      "split: dim 1, thresh 0.89, thresh inequal: lt, the weighted erroris  0.400\n",
      "split: dim 1, thresh 0.89, thresh inequal: gt, the weighted erroris  0.600\n",
      "split: dim 1, thresh 1.00, thresh inequal: lt, the weighted erroris  0.200\n",
      "split: dim 1, thresh 1.00, thresh inequal: gt, the weighted erroris  0.800\n",
      "split: dim 1, thresh 1.11, thresh inequal: lt, the weighted erroris  0.400\n",
      "split: dim 1, thresh 1.11, thresh inequal: gt, the weighted erroris  0.600\n",
      "split: dim 1, thresh 1.22, thresh inequal: lt, the weighted erroris  0.400\n",
      "split: dim 1, thresh 1.22, thresh inequal: gt, the weighted erroris  0.600\n",
      "split: dim 1, thresh 1.33, thresh inequal: lt, the weighted erroris  0.400\n",
      "split: dim 1, thresh 1.33, thresh inequal: gt, the weighted erroris  0.600\n",
      "split: dim 1, thresh 1.44, thresh inequal: lt, the weighted erroris  0.400\n",
      "split: dim 1, thresh 1.44, thresh inequal: gt, the weighted erroris  0.600\n",
      "split: dim 1, thresh 1.55, thresh inequal: lt, the weighted erroris  0.400\n",
      "split: dim 1, thresh 1.55, thresh inequal: gt, the weighted erroris  0.600\n",
      "split: dim 1, thresh 1.66, thresh inequal: lt, the weighted erroris  0.400\n",
      "split: dim 1, thresh 1.66, thresh inequal: gt, the weighted erroris  0.600\n",
      "split: dim 1, thresh 1.77, thresh inequal: lt, the weighted erroris  0.400\n",
      "split: dim 1, thresh 1.77, thresh inequal: gt, the weighted erroris  0.600\n",
      "split: dim 1, thresh 1.88, thresh inequal: lt, the weighted erroris  0.400\n",
      "split: dim 1, thresh 1.88, thresh inequal: gt, the weighted erroris  0.600\n",
      "split: dim 1, thresh 1.99, thresh inequal: lt, the weighted erroris  0.400\n",
      "split: dim 1, thresh 1.99, thresh inequal: gt, the weighted erroris  0.600\n",
      "split: dim 1, thresh 2.10, thresh inequal: lt, the weighted erroris  0.600\n",
      "split: dim 1, thresh 2.10, thresh inequal: gt, the weighted erroris  0.400\n"
     ]
    }
   ],
   "source": [
    " best_stump, min_error, best_class_est = adaboost3_6.build_stump(dat_mat, class_labels, D)"
   ]
  },
  {
   "cell_type": "code",
   "execution_count": 14,
   "metadata": {},
   "outputs": [
    {
     "data": {
      "text/plain": [
       "{'dim': 0, 'ineq': 'lt', 'thresh': 1.3}"
      ]
     },
     "execution_count": 14,
     "metadata": {},
     "output_type": "execute_result"
    }
   ],
   "source": [
    "best_stump"
   ]
  },
  {
   "cell_type": "code",
   "execution_count": 15,
   "metadata": {},
   "outputs": [
    {
     "data": {
      "text/plain": [
       "matrix([[ 0.2]])"
      ]
     },
     "execution_count": 15,
     "metadata": {},
     "output_type": "execute_result"
    }
   ],
   "source": [
    "min_error"
   ]
  },
  {
   "cell_type": "code",
   "execution_count": 16,
   "metadata": {},
   "outputs": [
    {
     "data": {
      "text/plain": [
       "array([[-1.],\n",
       "       [ 1.],\n",
       "       [-1.],\n",
       "       [-1.],\n",
       "       [ 1.]])"
      ]
     },
     "execution_count": 16,
     "metadata": {},
     "output_type": "execute_result"
    }
   ],
   "source": [
    "best_class_est"
   ]
  },
  {
   "cell_type": "code",
   "execution_count": 17,
   "metadata": {},
   "outputs": [
    {
     "data": {
      "text/plain": [
       "[1.0, 1.0, -1.0, -1.0, 1.0]"
      ]
     },
     "execution_count": 17,
     "metadata": {},
     "output_type": "execute_result"
    }
   ],
   "source": [
    "class_labels"
   ]
  },
  {
   "cell_type": "code",
   "execution_count": 23,
   "metadata": {
    "collapsed": true
   },
   "outputs": [],
   "source": [
    "import pandas as pd\n",
    "import numpy as np"
   ]
  },
  {
   "cell_type": "code",
   "execution_count": 48,
   "metadata": {},
   "outputs": [
    {
     "data": {
      "text/html": [
       "<div>\n",
       "<style>\n",
       "    .dataframe thead tr:only-child th {\n",
       "        text-align: right;\n",
       "    }\n",
       "\n",
       "    .dataframe thead th {\n",
       "        text-align: left;\n",
       "    }\n",
       "\n",
       "    .dataframe tbody tr th {\n",
       "        vertical-align: top;\n",
       "    }\n",
       "</style>\n",
       "<table border=\"1\" class=\"dataframe\">\n",
       "  <thead>\n",
       "    <tr style=\"text-align: right;\">\n",
       "      <th></th>\n",
       "      <th>pred</th>\n",
       "    </tr>\n",
       "  </thead>\n",
       "  <tbody>\n",
       "    <tr>\n",
       "      <th>0</th>\n",
       "      <td>-1.0</td>\n",
       "    </tr>\n",
       "    <tr>\n",
       "      <th>1</th>\n",
       "      <td>1.0</td>\n",
       "    </tr>\n",
       "    <tr>\n",
       "      <th>2</th>\n",
       "      <td>-1.0</td>\n",
       "    </tr>\n",
       "    <tr>\n",
       "      <th>3</th>\n",
       "      <td>-1.0</td>\n",
       "    </tr>\n",
       "    <tr>\n",
       "      <th>4</th>\n",
       "      <td>1.0</td>\n",
       "    </tr>\n",
       "  </tbody>\n",
       "</table>\n",
       "</div>"
      ],
      "text/plain": [
       "   pred\n",
       "0  -1.0\n",
       "1   1.0\n",
       "2  -1.0\n",
       "3  -1.0\n",
       "4   1.0"
      ]
     },
     "execution_count": 48,
     "metadata": {},
     "output_type": "execute_result"
    }
   ],
   "source": [
    "pd.DataFrame(best_class_est).rename(columns={0:'pred'})"
   ]
  },
  {
   "cell_type": "code",
   "execution_count": 52,
   "metadata": {},
   "outputs": [
    {
     "data": {
      "text/html": [
       "<div>\n",
       "<style>\n",
       "    .dataframe thead tr:only-child th {\n",
       "        text-align: right;\n",
       "    }\n",
       "\n",
       "    .dataframe thead th {\n",
       "        text-align: left;\n",
       "    }\n",
       "\n",
       "    .dataframe tbody tr th {\n",
       "        vertical-align: top;\n",
       "    }\n",
       "</style>\n",
       "<table border=\"1\" class=\"dataframe\">\n",
       "  <thead>\n",
       "    <tr style=\"text-align: right;\">\n",
       "      <th></th>\n",
       "      <th>pred</th>\n",
       "      <th>true</th>\n",
       "    </tr>\n",
       "  </thead>\n",
       "  <tbody>\n",
       "    <tr>\n",
       "      <th>0</th>\n",
       "      <td>-1.0</td>\n",
       "      <td>1.0</td>\n",
       "    </tr>\n",
       "    <tr>\n",
       "      <th>1</th>\n",
       "      <td>1.0</td>\n",
       "      <td>1.0</td>\n",
       "    </tr>\n",
       "    <tr>\n",
       "      <th>2</th>\n",
       "      <td>-1.0</td>\n",
       "      <td>-1.0</td>\n",
       "    </tr>\n",
       "    <tr>\n",
       "      <th>3</th>\n",
       "      <td>-1.0</td>\n",
       "      <td>-1.0</td>\n",
       "    </tr>\n",
       "    <tr>\n",
       "      <th>4</th>\n",
       "      <td>1.0</td>\n",
       "      <td>1.0</td>\n",
       "    </tr>\n",
       "  </tbody>\n",
       "</table>\n",
       "</div>"
      ],
      "text/plain": [
       "   pred  true\n",
       "0  -1.0   1.0\n",
       "1   1.0   1.0\n",
       "2  -1.0  -1.0\n",
       "3  -1.0  -1.0\n",
       "4   1.0   1.0"
      ]
     },
     "execution_count": 52,
     "metadata": {},
     "output_type": "execute_result"
    }
   ],
   "source": [
    "pd.concat([pd.DataFrame(best_class_est).rename(columns={0:'pred'}), pd.DataFrame(class_labels).rename(columns={0:'true'})], axis=1)"
   ]
  },
  {
   "cell_type": "code",
   "execution_count": null,
   "metadata": {
    "collapsed": true
   },
   "outputs": [],
   "source": []
  }
 ],
 "metadata": {
  "kernelspec": {
   "display_name": "Python 3",
   "language": "python",
   "name": "python3"
  },
  "language_info": {
   "codemirror_mode": {
    "name": "ipython",
    "version": 3
   },
   "file_extension": ".py",
   "mimetype": "text/x-python",
   "name": "python",
   "nbconvert_exporter": "python",
   "pygments_lexer": "ipython3",
   "version": "3.6.1"
  }
 },
 "nbformat": 4,
 "nbformat_minor": 2
}
