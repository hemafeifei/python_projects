{
 "cells": [
  {
   "cell_type": "code",
   "execution_count": 1,
   "metadata": {
    "collapsed": true
   },
   "outputs": [],
   "source": [
    "import numpy as np"
   ]
  },
  {
   "cell_type": "code",
   "execution_count": 2,
   "metadata": {
    "collapsed": false
   },
   "outputs": [
    {
     "data": {
      "text/plain": [
       "array([ 0.,  0.,  0.,  0.])"
      ]
     },
     "execution_count": 2,
     "metadata": {},
     "output_type": "execute_result"
    }
   ],
   "source": [
    "np.zeros((4,))"
   ]
  },
  {
   "cell_type": "code",
   "execution_count": 3,
   "metadata": {
    "collapsed": false
   },
   "outputs": [
    {
     "data": {
      "text/plain": [
       "array([[ 0.],\n",
       "       [ 0.],\n",
       "       [ 0.],\n",
       "       [ 0.]])"
      ]
     },
     "execution_count": 3,
     "metadata": {},
     "output_type": "execute_result"
    }
   ],
   "source": [
    "np.zeros((4,1))"
   ]
  },
  {
   "cell_type": "code",
   "execution_count": 4,
   "metadata": {
    "collapsed": true
   },
   "outputs": [],
   "source": [
    "a = np.zeros((4,))\n",
    "b = np.zeros((4,1))"
   ]
  },
  {
   "cell_type": "code",
   "execution_count": 5,
   "metadata": {
    "collapsed": false
   },
   "outputs": [
    {
     "data": {
      "text/plain": [
       "(4,)"
      ]
     },
     "execution_count": 5,
     "metadata": {},
     "output_type": "execute_result"
    }
   ],
   "source": [
    "a.shape"
   ]
  },
  {
   "cell_type": "code",
   "execution_count": 6,
   "metadata": {
    "collapsed": false
   },
   "outputs": [
    {
     "data": {
      "text/plain": [
       "(4, 1)"
      ]
     },
     "execution_count": 6,
     "metadata": {},
     "output_type": "execute_result"
    }
   ],
   "source": [
    "b.shape"
   ]
  },
  {
   "cell_type": "code",
   "execution_count": 7,
   "metadata": {
    "collapsed": true
   },
   "outputs": [],
   "source": [
    "from sklearn.datasets.samples_generator import make_blobs"
   ]
  },
  {
   "cell_type": "code",
   "execution_count": 8,
   "metadata": {
    "collapsed": true
   },
   "outputs": [],
   "source": [
    "(X, y) = make_blobs(n_samples=250, n_features=2, centers=2,\n",
    "                    cluster_std=1.05, random_state=42)"
   ]
  },
  {
   "cell_type": "code",
   "execution_count": 9,
   "metadata": {
    "collapsed": true
   },
   "outputs": [],
   "source": [
    "X = np.c_[np.ones((X.shape[0])), X]"
   ]
  },
  {
   "cell_type": "code",
   "execution_count": 10,
   "metadata": {
    "collapsed": false
   },
   "outputs": [
    {
     "data": {
      "text/plain": [
       "(250, 3)"
      ]
     },
     "execution_count": 10,
     "metadata": {},
     "output_type": "execute_result"
    }
   ],
   "source": [
    "X.shape"
   ]
  },
  {
   "cell_type": "code",
   "execution_count": 13,
   "metadata": {
    "collapsed": true
   },
   "outputs": [],
   "source": [
    "W = np.zeros((3,))"
   ]
  },
  {
   "cell_type": "code",
   "execution_count": 14,
   "metadata": {
    "collapsed": false
   },
   "outputs": [
    {
     "data": {
      "text/plain": [
       "array([ 0.,  0.,  0.,  0.,  0.,  0.,  0.,  0.,  0.,  0.,  0.,  0.,  0.,\n",
       "        0.,  0.,  0.,  0.,  0.,  0.,  0.,  0.,  0.,  0.,  0.,  0.,  0.,\n",
       "        0.,  0.,  0.,  0.,  0.,  0.,  0.,  0.,  0.,  0.,  0.,  0.,  0.,\n",
       "        0.,  0.,  0.,  0.,  0.,  0.,  0.,  0.,  0.,  0.,  0.,  0.,  0.,\n",
       "        0.,  0.,  0.,  0.,  0.,  0.,  0.,  0.,  0.,  0.,  0.,  0.,  0.,\n",
       "        0.,  0.,  0.,  0.,  0.,  0.,  0.,  0.,  0.,  0.,  0.,  0.,  0.,\n",
       "        0.,  0.,  0.,  0.,  0.,  0.,  0.,  0.,  0.,  0.,  0.,  0.,  0.,\n",
       "        0.,  0.,  0.,  0.,  0.,  0.,  0.,  0.,  0.,  0.,  0.,  0.,  0.,\n",
       "        0.,  0.,  0.,  0.,  0.,  0.,  0.,  0.,  0.,  0.,  0.,  0.,  0.,\n",
       "        0.,  0.,  0.,  0.,  0.,  0.,  0.,  0.,  0.,  0.,  0.,  0.,  0.,\n",
       "        0.,  0.,  0.,  0.,  0.,  0.,  0.,  0.,  0.,  0.,  0.,  0.,  0.,\n",
       "        0.,  0.,  0.,  0.,  0.,  0.,  0.,  0.,  0.,  0.,  0.,  0.,  0.,\n",
       "        0.,  0.,  0.,  0.,  0.,  0.,  0.,  0.,  0.,  0.,  0.,  0.,  0.,\n",
       "        0.,  0.,  0.,  0.,  0.,  0.,  0.,  0.,  0.,  0.,  0.,  0.,  0.,\n",
       "        0.,  0.,  0.,  0.,  0.,  0.,  0.,  0.,  0.,  0.,  0.,  0.,  0.,\n",
       "        0.,  0.,  0.,  0.,  0.,  0.,  0.,  0.,  0.,  0.,  0.,  0.,  0.,\n",
       "        0.,  0.,  0.,  0.,  0.,  0.,  0.,  0.,  0.,  0.,  0.,  0.,  0.,\n",
       "        0.,  0.,  0.,  0.,  0.,  0.,  0.,  0.,  0.,  0.,  0.,  0.,  0.,\n",
       "        0.,  0.,  0.,  0.,  0.,  0.,  0.,  0.,  0.,  0.,  0.,  0.,  0.,\n",
       "        0.,  0.,  0.])"
      ]
     },
     "execution_count": 14,
     "metadata": {},
     "output_type": "execute_result"
    }
   ],
   "source": [
    "np.dot(X, W)"
   ]
  },
  {
   "cell_type": "code",
   "execution_count": 16,
   "metadata": {
    "collapsed": true
   },
   "outputs": [],
   "source": [
    "def sigmoid_activation(x):\n",
    "    return 1.0/(1 + np.exp(-x))"
   ]
  },
  {
   "cell_type": "code",
   "execution_count": 20,
   "metadata": {
    "collapsed": false
   },
   "outputs": [],
   "source": [
    "W = np.array([0.056, 0.583, -0.226])"
   ]
  },
  {
   "cell_type": "code",
   "execution_count": 21,
   "metadata": {
    "collapsed": false
   },
   "outputs": [
    {
     "data": {
      "text/plain": [
       "array([-3.13723156,  3.02099765, -2.65086381,  2.42896803,  1.81472151,\n",
       "       -3.81994329, -4.43374963, -3.38529315,  3.81527523,  2.10724168,\n",
       "       -2.9523131 , -3.78105541, -3.76063491,  2.58536691, -3.46350317,\n",
       "        1.94331316, -3.81718634, -3.58783864, -3.15432285,  2.1532093 ,\n",
       "       -4.61237494,  2.15533305,  2.21194192, -2.39001697,  1.89180315,\n",
       "       -3.97692601,  1.88604976, -3.25073345, -3.47280483, -3.26156931,\n",
       "       -2.64129923, -3.94255044,  1.31771572,  2.05008873,  2.51131858,\n",
       "        4.08407983,  3.2372011 , -3.47100519, -2.28210449, -4.30385514,\n",
       "        2.69799899,  3.38037644, -3.33682779, -4.23782474, -2.9229456 ,\n",
       "       -2.74406303,  2.23325833,  2.62734579, -3.35814551, -4.04305762,\n",
       "       -2.54010868,  1.76181789,  3.01760563,  2.3047001 ,  2.30717445,\n",
       "       -3.47053019,  2.55834066, -3.89018195,  1.93215582, -3.60464143,\n",
       "       -3.13711617, -3.90200549,  3.84741006,  1.48131581, -4.2515967 ,\n",
       "       -2.65948802, -3.79609845, -3.57224405,  2.80559703,  1.75396382,\n",
       "       -3.39097573, -3.66479815, -3.75031594, -3.42951399, -3.63340183,\n",
       "       -2.33088949,  0.9451438 ,  2.69298601,  2.54137246,  1.07232709,\n",
       "       -3.37296384,  3.16005747,  2.44930305,  3.11961006,  1.69535582,\n",
       "        2.83618903,  2.5941927 ,  2.69808749, -3.18801239, -3.57979362,\n",
       "        1.97992284,  2.29878748, -3.88444179, -3.06962847, -3.69336051,\n",
       "        2.17866453,  2.7928809 ,  1.06322954,  2.40297642,  2.94692927,\n",
       "       -4.13866634, -3.84713418,  2.26045301,  1.07281231, -3.86097878,\n",
       "        3.25858264,  2.38540363, -1.58407061,  2.17596476, -3.26876539,\n",
       "        3.0247154 ,  2.49525738, -3.99139195,  3.10927765,  2.87808276,\n",
       "       -4.00361947, -4.09947518, -3.2013584 ,  1.97170146, -2.81537551,\n",
       "       -4.02162318,  2.52053461, -3.6387032 , -3.72631023,  2.07469111,\n",
       "       -3.36408998, -3.66330584,  1.7527228 ,  1.32538727,  2.69615489,\n",
       "       -2.96174011, -2.85768512,  3.65376614,  2.54443439,  2.80619683,\n",
       "       -2.45947023, -3.41544362,  2.83279428,  2.52220725, -3.837474  ,\n",
       "        2.66329563, -4.2519712 , -3.01467384, -3.80365669, -3.8879459 ,\n",
       "       -3.60298241,  1.94057468, -2.25271108,  3.0338142 ,  2.1270084 ,\n",
       "        3.14844267, -3.83731173, -3.09517097,  3.38117625, -3.34040662,\n",
       "       -4.72802752, -4.32914749,  3.21719819, -3.61503626, -4.21069094,\n",
       "        2.46355801,  1.28556892,  2.54806157,  2.07910359,  1.83599861,\n",
       "        2.63488878, -2.49331727, -2.85120531, -3.19505881, -4.0648853 ,\n",
       "       -3.26361452, -4.20676358, -3.79501536,  2.37227889,  2.70166084,\n",
       "       -3.74255293,  0.5740584 ,  1.76265934,  2.44927728,  2.27447631,\n",
       "       -2.84195227, -3.06466074,  2.70896708,  1.35766871,  1.98740643,\n",
       "       -3.86022912, -2.41439756, -3.03116829,  2.22747905,  1.49993943,\n",
       "       -3.31985057, -2.91626942, -4.40959949,  2.08259009, -4.21412843,\n",
       "       -3.53186717, -3.32476927,  3.57972682,  2.55797714, -3.44343307,\n",
       "       -3.03270426, -2.65401221,  1.59209058,  1.92111972,  1.72533015,\n",
       "        2.01471504, -3.61452431,  1.92596839,  3.6395681 , -3.03395729,\n",
       "        1.60462534,  2.26667565,  2.7625596 ,  1.64841605,  2.97579561,\n",
       "        2.18961371,  2.26931204,  1.28344498, -4.04323259, -4.05148589,\n",
       "        3.53811855, -4.22751744,  2.56685676,  3.13868365,  1.07067652,\n",
       "        1.56163511, -4.37471586, -4.3665685 ,  2.25190075,  3.93417477,\n",
       "       -5.24280531,  3.50945146, -2.41641252, -3.26853896,  2.45660237,\n",
       "        2.57939887, -3.99174831,  3.23761547, -3.01741958,  1.95904182,\n",
       "       -3.91606524,  1.13973191, -3.91548181, -3.92064844, -3.61725435,\n",
       "       -3.14899303, -4.47192536,  1.95126364, -4.17834908,  2.62772793])"
      ]
     },
     "execution_count": 21,
     "metadata": {},
     "output_type": "execute_result"
    }
   ],
   "source": [
    "np.dot(X, W)"
   ]
  },
  {
   "cell_type": "code",
   "execution_count": 22,
   "metadata": {
    "collapsed": true
   },
   "outputs": [],
   "source": [
    "pred = sigmoid_activation(np.dot(X, W))"
   ]
  },
  {
   "cell_type": "code",
   "execution_count": 23,
   "metadata": {
    "collapsed": true
   },
   "outputs": [],
   "source": [
    "error = pred - y"
   ]
  },
  {
   "cell_type": "code",
   "execution_count": 24,
   "metadata": {
    "collapsed": false
   },
   "outputs": [
    {
     "data": {
      "text/plain": [
       "array([ 0.04159735, -0.04648623,  0.06593579, -0.08099024])"
      ]
     },
     "execution_count": 24,
     "metadata": {},
     "output_type": "execute_result"
    }
   ],
   "source": [
    "error[:4]"
   ]
  },
  {
   "cell_type": "code",
   "execution_count": 26,
   "metadata": {
    "collapsed": false
   },
   "outputs": [],
   "source": [
    "gradient = X.transpose().dot(error)"
   ]
  },
  {
   "cell_type": "code",
   "execution_count": 27,
   "metadata": {
    "collapsed": false
   },
   "outputs": [
    {
     "data": {
      "text/plain": [
       "array([ -8.27885818, -60.21465454,  11.62887089])"
      ]
     },
     "execution_count": 27,
     "metadata": {},
     "output_type": "execute_result"
    }
   ],
   "source": [
    "gradient"
   ]
  },
  {
   "cell_type": "code",
   "execution_count": 32,
   "metadata": {
    "collapsed": false
   },
   "outputs": [
    {
     "data": {
      "text/plain": [
       "(3,)"
      ]
     },
     "execution_count": 32,
     "metadata": {},
     "output_type": "execute_result"
    }
   ],
   "source": [
    "gradient.shape"
   ]
  },
  {
   "cell_type": "code",
   "execution_count": 29,
   "metadata": {
    "collapsed": false
   },
   "outputs": [
    {
     "data": {
      "text/plain": [
       "(250,)"
      ]
     },
     "execution_count": 29,
     "metadata": {},
     "output_type": "execute_result"
    }
   ],
   "source": [
    "error.shape"
   ]
  },
  {
   "cell_type": "code",
   "execution_count": 30,
   "metadata": {
    "collapsed": false
   },
   "outputs": [
    {
     "data": {
      "text/plain": [
       "(250, 3)"
      ]
     },
     "execution_count": 30,
     "metadata": {},
     "output_type": "execute_result"
    }
   ],
   "source": [
    "X.shape"
   ]
  },
  {
   "cell_type": "code",
   "execution_count": 34,
   "metadata": {
    "collapsed": false
   },
   "outputs": [
    {
     "data": {
      "text/plain": [
       "(3, 250)"
      ]
     },
     "execution_count": 34,
     "metadata": {},
     "output_type": "execute_result"
    }
   ],
   "source": [
    "X.T.shape"
   ]
  },
  {
   "cell_type": "code",
   "execution_count": null,
   "metadata": {
    "collapsed": true
   },
   "outputs": [],
   "source": []
  }
 ],
 "metadata": {
  "kernelspec": {
   "display_name": "Python 3",
   "language": "python",
   "name": "python3"
  },
  "language_info": {
   "codemirror_mode": {
    "name": "ipython",
    "version": 3
   },
   "file_extension": ".py",
   "mimetype": "text/x-python",
   "name": "python",
   "nbconvert_exporter": "python",
   "pygments_lexer": "ipython3",
   "version": "3.6.0"
  }
 },
 "nbformat": 4,
 "nbformat_minor": 2
}
