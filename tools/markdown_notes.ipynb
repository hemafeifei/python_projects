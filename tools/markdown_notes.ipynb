{
 "cells": [
  {
   "cell_type": "markdown",
   "metadata": {},
   "source": [
    "## Links"
   ]
  },
  {
   "cell_type": "markdown",
   "metadata": {},
   "source": [
    "[text and font](#text_and_font)"
   ]
  },
  {
   "cell_type": "markdown",
   "metadata": {},
   "source": [
    "## List\n",
    "use '- text'\n",
    "- 1\n",
    "- 2\n",
    "    -  2.1"
   ]
  },
  {
   "cell_type": "markdown",
   "metadata": {},
   "source": [
    "use '* text'\n",
    "* 1\n",
    "* 2\n",
    " * 2.1"
   ]
  },
  {
   "cell_type": "markdown",
   "metadata": {},
   "source": [
    "<a id='text_and_font'></a>\n",
    "## Text and Font"
   ]
  },
  {
   "cell_type": "markdown",
   "metadata": {},
   "source": [
    "_This will be italic_\n",
    "<br>\n",
    "__This will be bold__\n",
    "<br>\n",
    "'this will be monospace font'\n",
    "<br>\n",
    "<font color=green> This text will be colored</font>\n",
    "<br>\n",
    "<font color=blue> This text will be colored</font>\n",
    "<br>\n",
    "> This text will be Indent"
   ]
  },
  {
   "cell_type": "markdown",
   "metadata": {},
   "source": [
    "### External links\n",
    "__[wayus](http://neway.us/)__"
   ]
  },
  {
   "cell_type": "markdown",
   "metadata": {},
   "source": [
    "## Images"
   ]
  },
  {
   "cell_type": "markdown",
   "metadata": {},
   "source": [
    "![R-shinky](./images/info_r.png)"
   ]
  },
  {
   "cell_type": "code",
   "execution_count": null,
   "metadata": {
    "collapsed": true
   },
   "outputs": [],
   "source": []
  }
 ],
 "metadata": {
  "kernelspec": {
   "display_name": "Python 3",
   "language": "python",
   "name": "python3"
  },
  "language_info": {
   "codemirror_mode": {
    "name": "ipython",
    "version": 3
   },
   "file_extension": ".py",
   "mimetype": "text/x-python",
   "name": "python",
   "nbconvert_exporter": "python",
   "pygments_lexer": "ipython3",
   "version": "3.6.1"
  }
 },
 "nbformat": 4,
 "nbformat_minor": 2
}
