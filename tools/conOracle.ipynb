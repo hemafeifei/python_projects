{
 "cells": [
  {
   "cell_type": "code",
   "execution_count": 29,
   "metadata": {
    "collapsed": true
   },
   "outputs": [],
   "source": [
    "import cx_Oracle"
   ]
  },
  {
   "cell_type": "code",
   "execution_count": 27,
   "metadata": {
    "collapsed": true
   },
   "outputs": [],
   "source": [
    "cx_Oracle?"
   ]
  },
  {
   "cell_type": "code",
   "execution_count": 24,
   "metadata": {},
   "outputs": [
    {
     "ename": "UnicodeDecodeError",
     "evalue": "'utf-8' codec can't decode bytes in position 82-83: invalid continuation byte",
     "output_type": "error",
     "traceback": [
      "\u001b[1;31m---------------------------------------------------------------------------\u001b[0m",
      "\u001b[1;31mUnicodeDecodeError\u001b[0m                        Traceback (most recent call last)",
      "\u001b[1;32m<ipython-input-24-2d2a65d6922b>\u001b[0m in \u001b[0;36m<module>\u001b[1;34m()\u001b[0m\n\u001b[1;32m----> 1\u001b[1;33m \u001b[0mora_conn\u001b[0m \u001b[1;33m=\u001b[0m \u001b[0mcx_Oracle\u001b[0m\u001b[1;33m.\u001b[0m\u001b[0mconnect\u001b[0m\u001b[1;33m(\u001b[0m\u001b[1;34m'hr/hr@localhost:1521/pdborcl'\u001b[0m\u001b[1;33m)\u001b[0m\u001b[1;33m\u001b[0m\u001b[0m\n\u001b[0m",
      "\u001b[1;31mUnicodeDecodeError\u001b[0m: 'utf-8' codec can't decode bytes in position 82-83: invalid continuation byte"
     ]
    }
   ],
   "source": [
    "ora_conn = cx_Oracle.connect('hr/hr@localhost:1521/pdborcl')"
   ]
  },
  {
   "cell_type": "code",
   "execution_count": 7,
   "metadata": {
    "collapsed": true
   },
   "outputs": [],
   "source": [
    "cursor = ora_conn.cursor()"
   ]
  },
  {
   "cell_type": "code",
   "execution_count": 9,
   "metadata": {},
   "outputs": [
    {
     "data": {
      "text/plain": [
       "<cx_Oracle.Cursor on <cx_Oracle.Connection to hr@localhost:1521/pdborcl>>"
      ]
     },
     "execution_count": 9,
     "metadata": {},
     "output_type": "execute_result"
    }
   ],
   "source": [
    "cursor.execute('select * from employees ')"
   ]
  },
  {
   "cell_type": "code",
   "execution_count": 10,
   "metadata": {
    "collapsed": true
   },
   "outputs": [],
   "source": [
    "res = cursor.fetchall()\n",
    "cursor.close()"
   ]
  },
  {
   "cell_type": "code",
   "execution_count": 12,
   "metadata": {
    "scrolled": true
   },
   "outputs": [
    {
     "name": "stdout",
     "output_type": "stream",
     "text": [
      "[(100, 'Steven', 'King', 'SKING', '515.123.4567', datetime.datetime(2003, 6, 17, 0, 0), 'AD_PRES', 24000.0, None, None, 90), (101, 'Neena', 'Kochhar', 'NKOCHHAR', '515.123.4568', datetime.datetime(2005, 9, 21, 0, 0), 'AD_VP', 17000.0, None, 100, 90), (102, 'Lex', 'De Haan', 'LDEHAAN', '515.123.4569', datetime.datetime(2001, 1, 13, 0, 0), 'AD_VP', 17000.0, None, 100, 90), (103, 'Alexander', 'Hunold', 'AHUNOLD', '590.423.4567', datetime.datetime(2006, 1, 3, 0, 0), 'IT_PROG', 9000.0, None, 102, 60), (104, 'Bruce', 'Ernst', 'BERNST', '590.423.4568', datetime.datetime(2007, 5, 21, 0, 0), 'IT_PROG', 6000.0, None, 103, 60), (105, 'David', 'Austin', 'DAUSTIN', '590.423.4569', datetime.datetime(2005, 6, 25, 0, 0), 'IT_PROG', 4800.0, None, 103, 60), (106, 'Valli', 'Pataballa', 'VPATABAL', '590.423.4560', datetime.datetime(2006, 2, 5, 0, 0), 'IT_PROG', 4800.0, None, 103, 60), (107, 'Diana', 'Lorentz', 'DLORENTZ', '590.423.5567', datetime.datetime(2007, 2, 7, 0, 0), 'IT_PROG', 4200.0, None, 103, 60), (108, 'Nancy', 'Greenberg', 'NGREENBE', '515.124.4569', datetime.datetime(2002, 8, 17, 0, 0), 'FI_MGR', 12008.0, None, 101, 100), (109, 'Daniel', 'Faviet', 'DFAVIET', '515.124.4169', datetime.datetime(2002, 8, 16, 0, 0), 'FI_ACCOUNT', 9000.0, None, 108, 100), (110, 'John', 'Chen', 'JCHEN', '515.124.4269', datetime.datetime(2005, 9, 28, 0, 0), 'FI_ACCOUNT', 8200.0, None, 108, 100), (111, 'Ismael', 'Sciarra', 'ISCIARRA', '515.124.4369', datetime.datetime(2005, 9, 30, 0, 0), 'FI_ACCOUNT', 7700.0, None, 108, 100), (112, 'Jose Manuel', 'Urman', 'JMURMAN', '515.124.4469', datetime.datetime(2006, 3, 7, 0, 0), 'FI_ACCOUNT', 7800.0, None, 108, 100), (113, 'Luis', 'Popp', 'LPOPP', '515.124.4567', datetime.datetime(2007, 12, 7, 0, 0), 'FI_ACCOUNT', 6900.0, None, 108, 100), (114, 'Den', 'Raphaely', 'DRAPHEAL', '515.127.4561', datetime.datetime(2002, 12, 7, 0, 0), 'PU_MAN', 11000.0, None, 100, 30), (115, 'Alexander', 'Khoo', 'AKHOO', '515.127.4562', datetime.datetime(2003, 5, 18, 0, 0), 'PU_CLERK', 3100.0, None, 114, 30), (116, 'Shelli', 'Baida', 'SBAIDA', '515.127.4563', datetime.datetime(2005, 12, 24, 0, 0), 'PU_CLERK', 2900.0, None, 114, 30), (117, 'Sigal', 'Tobias', 'STOBIAS', '515.127.4564', datetime.datetime(2005, 7, 24, 0, 0), 'PU_CLERK', 2800.0, None, 114, 30), (118, 'Guy', 'Himuro', 'GHIMURO', '515.127.4565', datetime.datetime(2006, 11, 15, 0, 0), 'PU_CLERK', 2600.0, None, 114, 30), (119, 'Karen', 'Colmenares', 'KCOLMENA', '515.127.4566', datetime.datetime(2007, 8, 10, 0, 0), 'PU_CLERK', 2500.0, None, 114, 30), (120, 'Matthew', 'Weiss', 'MWEISS', '650.123.1234', datetime.datetime(2004, 7, 18, 0, 0), 'ST_MAN', 8000.0, None, 100, 50), (121, 'Adam', 'Fripp', 'AFRIPP', '650.123.2234', datetime.datetime(2005, 4, 10, 0, 0), 'ST_MAN', 8200.0, None, 100, 50), (122, 'Payam', 'Kaufling', 'PKAUFLIN', '650.123.3234', datetime.datetime(2003, 5, 1, 0, 0), 'ST_MAN', 7900.0, None, 100, 50), (123, 'Shanta', 'Vollman', 'SVOLLMAN', '650.123.4234', datetime.datetime(2005, 10, 10, 0, 0), 'ST_MAN', 6500.0, None, 100, 50), (124, 'Kevin', 'Mourgos', 'KMOURGOS', '650.123.5234', datetime.datetime(2007, 11, 16, 0, 0), 'ST_MAN', 5800.0, None, 100, 50), (125, 'Julia', 'Nayer', 'JNAYER', '650.124.1214', datetime.datetime(2005, 7, 16, 0, 0), 'ST_CLERK', 3200.0, None, 120, 50), (126, 'Irene', 'Mikkilineni', 'IMIKKILI', '650.124.1224', datetime.datetime(2006, 9, 28, 0, 0), 'ST_CLERK', 2700.0, None, 120, 50), (127, 'James', 'Landry', 'JLANDRY', '650.124.1334', datetime.datetime(2007, 1, 14, 0, 0), 'ST_CLERK', 2400.0, None, 120, 50), (128, 'Steven', 'Markle', 'SMARKLE', '650.124.1434', datetime.datetime(2008, 3, 8, 0, 0), 'ST_CLERK', 2200.0, None, 120, 50), (129, 'Laura', 'Bissot', 'LBISSOT', '650.124.5234', datetime.datetime(2005, 8, 20, 0, 0), 'ST_CLERK', 3300.0, None, 121, 50), (130, 'Mozhe', 'Atkinson', 'MATKINSO', '650.124.6234', datetime.datetime(2005, 10, 30, 0, 0), 'ST_CLERK', 2800.0, None, 121, 50), (131, 'James', 'Marlow', 'JAMRLOW', '650.124.7234', datetime.datetime(2005, 2, 16, 0, 0), 'ST_CLERK', 2500.0, None, 121, 50), (132, 'TJ', 'Olson', 'TJOLSON', '650.124.8234', datetime.datetime(2007, 4, 10, 0, 0), 'ST_CLERK', 2100.0, None, 121, 50), (133, 'Jason', 'Mallin', 'JMALLIN', '650.127.1934', datetime.datetime(2004, 6, 14, 0, 0), 'ST_CLERK', 3300.0, None, 122, 50), (134, 'Michael', 'Rogers', 'MROGERS', '650.127.1834', datetime.datetime(2006, 8, 26, 0, 0), 'ST_CLERK', 2900.0, None, 122, 50), (135, 'Ki', 'Gee', 'KGEE', '650.127.1734', datetime.datetime(2007, 12, 12, 0, 0), 'ST_CLERK', 2400.0, None, 122, 50), (136, 'Hazel', 'Philtanker', 'HPHILTAN', '650.127.1634', datetime.datetime(2008, 2, 6, 0, 0), 'ST_CLERK', 2200.0, None, 122, 50), (137, 'Renske', 'Ladwig', 'RLADWIG', '650.121.1234', datetime.datetime(2003, 7, 14, 0, 0), 'ST_CLERK', 3600.0, None, 123, 50), (138, 'Stephen', 'Stiles', 'SSTILES', '650.121.2034', datetime.datetime(2005, 10, 26, 0, 0), 'ST_CLERK', 3200.0, None, 123, 50), (139, 'John', 'Seo', 'JSEO', '650.121.2019', datetime.datetime(2006, 2, 12, 0, 0), 'ST_CLERK', 2700.0, None, 123, 50), (140, 'Joshua', 'Patel', 'JPATEL', '650.121.1834', datetime.datetime(2006, 4, 6, 0, 0), 'ST_CLERK', 2500.0, None, 123, 50), (141, 'Trenna', 'Rajs', 'TRAJS', '650.121.8009', datetime.datetime(2003, 10, 17, 0, 0), 'ST_CLERK', 3500.0, None, 124, 50), (142, 'Curtis', 'Davies', 'CDAVIES', '650.121.2994', datetime.datetime(2005, 1, 29, 0, 0), 'ST_CLERK', 3100.0, None, 124, 50), (143, 'Randall', 'Matos', 'RMATOS', '650.121.2874', datetime.datetime(2006, 3, 15, 0, 0), 'ST_CLERK', 2600.0, None, 124, 50), (144, 'Peter', 'Vargas', 'PVARGAS', '650.121.2004', datetime.datetime(2006, 7, 9, 0, 0), 'ST_CLERK', 2500.0, None, 124, 50), (145, 'John', 'Russell', 'JRUSSEL', '011.44.1344.429268', datetime.datetime(2004, 10, 1, 0, 0), 'SA_MAN', 14000.0, 0.4, 100, 80), (146, 'Karen', 'Partners', 'KPARTNER', '011.44.1344.467268', datetime.datetime(2005, 1, 5, 0, 0), 'SA_MAN', 13500.0, 0.3, 100, 80), (147, 'Alberto', 'Errazuriz', 'AERRAZUR', '011.44.1344.429278', datetime.datetime(2005, 3, 10, 0, 0), 'SA_MAN', 12000.0, 0.3, 100, 80), (148, 'Gerald', 'Cambrault', 'GCAMBRAU', '011.44.1344.619268', datetime.datetime(2007, 10, 15, 0, 0), 'SA_MAN', 11000.0, 0.3, 100, 80), (149, 'Eleni', 'Zlotkey', 'EZLOTKEY', '011.44.1344.429018', datetime.datetime(2008, 1, 29, 0, 0), 'SA_MAN', 10500.0, 0.2, 100, 80), (150, 'Peter', 'Tucker', 'PTUCKER', '011.44.1344.129268', datetime.datetime(2005, 1, 30, 0, 0), 'SA_REP', 10000.0, 0.3, 145, 80), (151, 'David', 'Bernstein', 'DBERNSTE', '011.44.1344.345268', datetime.datetime(2005, 3, 24, 0, 0), 'SA_REP', 9500.0, 0.25, 145, 80), (152, 'Peter', 'Hall', 'PHALL', '011.44.1344.478968', datetime.datetime(2005, 8, 20, 0, 0), 'SA_REP', 9000.0, 0.25, 145, 80), (153, 'Christopher', 'Olsen', 'COLSEN', '011.44.1344.498718', datetime.datetime(2006, 3, 30, 0, 0), 'SA_REP', 8000.0, 0.2, 145, 80), (154, 'Nanette', 'Cambrault', 'NCAMBRAU', '011.44.1344.987668', datetime.datetime(2006, 12, 9, 0, 0), 'SA_REP', 7500.0, 0.2, 145, 80), (155, 'Oliver', 'Tuvault', 'OTUVAULT', '011.44.1344.486508', datetime.datetime(2007, 11, 23, 0, 0), 'SA_REP', 7000.0, 0.15, 145, 80), (156, 'Janette', 'King', 'JKING', '011.44.1345.429268', datetime.datetime(2004, 1, 30, 0, 0), 'SA_REP', 10000.0, 0.35000000000000003, 146, 80), (157, 'Patrick', 'Sully', 'PSULLY', '011.44.1345.929268', datetime.datetime(2004, 3, 4, 0, 0), 'SA_REP', 9500.0, 0.35000000000000003, 146, 80), (158, 'Allan', 'McEwen', 'AMCEWEN', '011.44.1345.829268', datetime.datetime(2004, 8, 1, 0, 0), 'SA_REP', 9000.0, 0.35000000000000003, 146, 80), (159, 'Lindsey', 'Smith', 'LSMITH', '011.44.1345.729268', datetime.datetime(2005, 3, 10, 0, 0), 'SA_REP', 8000.0, 0.3, 146, 80), (160, 'Louise', 'Doran', 'LDORAN', '011.44.1345.629268', datetime.datetime(2005, 12, 15, 0, 0), 'SA_REP', 7500.0, 0.3, 146, 80), (161, 'Sarath', 'Sewall', 'SSEWALL', '011.44.1345.529268', datetime.datetime(2006, 11, 3, 0, 0), 'SA_REP', 7000.0, 0.25, 146, 80), (162, 'Clara', 'Vishney', 'CVISHNEY', '011.44.1346.129268', datetime.datetime(2005, 11, 11, 0, 0), 'SA_REP', 10500.0, 0.25, 147, 80), (163, 'Danielle', 'Greene', 'DGREENE', '011.44.1346.229268', datetime.datetime(2007, 3, 19, 0, 0), 'SA_REP', 9500.0, 0.15, 147, 80), (164, 'Mattea', 'Marvins', 'MMARVINS', '011.44.1346.329268', datetime.datetime(2008, 1, 24, 0, 0), 'SA_REP', 7200.0, 0.1, 147, 80), (165, 'David', 'Lee', 'DLEE', '011.44.1346.529268', datetime.datetime(2008, 2, 23, 0, 0), 'SA_REP', 6800.0, 0.1, 147, 80), (166, 'Sundar', 'Ande', 'SANDE', '011.44.1346.629268', datetime.datetime(2008, 3, 24, 0, 0), 'SA_REP', 6400.0, 0.1, 147, 80), (167, 'Amit', 'Banda', 'ABANDA', '011.44.1346.729268', datetime.datetime(2008, 4, 21, 0, 0), 'SA_REP', 6200.0, 0.1, 147, 80), (168, 'Lisa', 'Ozer', 'LOZER', '011.44.1343.929268', datetime.datetime(2005, 3, 11, 0, 0), 'SA_REP', 11500.0, 0.25, 148, 80), (169, 'Harrison', 'Bloom', 'HBLOOM', '011.44.1343.829268', datetime.datetime(2006, 3, 23, 0, 0), 'SA_REP', 10000.0, 0.2, 148, 80), (170, 'Tayler', 'Fox', 'TFOX', '011.44.1343.729268', datetime.datetime(2006, 1, 24, 0, 0), 'SA_REP', 9600.0, 0.2, 148, 80), (171, 'William', 'Smith', 'WSMITH', '011.44.1343.629268', datetime.datetime(2007, 2, 23, 0, 0), 'SA_REP', 7400.0, 0.15, 148, 80), (172, 'Elizabeth', 'Bates', 'EBATES', '011.44.1343.529268', datetime.datetime(2007, 3, 24, 0, 0), 'SA_REP', 7300.0, 0.15, 148, 80), (173, 'Sundita', 'Kumar', 'SKUMAR', '011.44.1343.329268', datetime.datetime(2008, 4, 21, 0, 0), 'SA_REP', 6100.0, 0.1, 148, 80), (174, 'Ellen', 'Abel', 'EABEL', '011.44.1644.429267', datetime.datetime(2004, 5, 11, 0, 0), 'SA_REP', 11000.0, 0.3, 149, 80), (175, 'Alyssa', 'Hutton', 'AHUTTON', '011.44.1644.429266', datetime.datetime(2005, 3, 19, 0, 0), 'SA_REP', 8800.0, 0.25, 149, 80), (176, 'Jonathon', 'Taylor', 'JTAYLOR', '011.44.1644.429265', datetime.datetime(2006, 3, 24, 0, 0), 'SA_REP', 8600.0, 0.2, 149, 80), (177, 'Jack', 'Livingston', 'JLIVINGS', '011.44.1644.429264', datetime.datetime(2006, 4, 23, 0, 0), 'SA_REP', 8400.0, 0.2, 149, 80), (178, 'Kimberely', 'Grant', 'KGRANT', '011.44.1644.429263', datetime.datetime(2007, 5, 24, 0, 0), 'SA_REP', 7000.0, 0.15, 149, None), (179, 'Charles', 'Johnson', 'CJOHNSON', '011.44.1644.429262', datetime.datetime(2008, 1, 4, 0, 0), 'SA_REP', 6200.0, 0.1, 149, 80), (180, 'Winston', 'Taylor', 'WTAYLOR', '650.507.9876', datetime.datetime(2006, 1, 24, 0, 0), 'SH_CLERK', 3200.0, None, 120, 50), (181, 'Jean', 'Fleaur', 'JFLEAUR', '650.507.9877', datetime.datetime(2006, 2, 23, 0, 0), 'SH_CLERK', 3100.0, None, 120, 50), (182, 'Martha', 'Sullivan', 'MSULLIVA', '650.507.9878', datetime.datetime(2007, 6, 21, 0, 0), 'SH_CLERK', 2500.0, None, 120, 50), (183, 'Girard', 'Geoni', 'GGEONI', '650.507.9879', datetime.datetime(2008, 2, 3, 0, 0), 'SH_CLERK', 2800.0, None, 120, 50), (184, 'Nandita', 'Sarchand', 'NSARCHAN', '650.509.1876', datetime.datetime(2004, 1, 27, 0, 0), 'SH_CLERK', 4200.0, None, 121, 50), (185, 'Alexis', 'Bull', 'ABULL', '650.509.2876', datetime.datetime(2005, 2, 20, 0, 0), 'SH_CLERK', 4100.0, None, 121, 50), (186, 'Julia', 'Dellinger', 'JDELLING', '650.509.3876', datetime.datetime(2006, 6, 24, 0, 0), 'SH_CLERK', 3400.0, None, 121, 50), (187, 'Anthony', 'Cabrio', 'ACABRIO', '650.509.4876', datetime.datetime(2007, 2, 7, 0, 0), 'SH_CLERK', 3000.0, None, 121, 50), (188, 'Kelly', 'Chung', 'KCHUNG', '650.505.1876', datetime.datetime(2005, 6, 14, 0, 0), 'SH_CLERK', 3800.0, None, 122, 50), (189, 'Jennifer', 'Dilly', 'JDILLY', '650.505.2876', datetime.datetime(2005, 8, 13, 0, 0), 'SH_CLERK', 3600.0, None, 122, 50), (190, 'Timothy', 'Gates', 'TGATES', '650.505.3876', datetime.datetime(2006, 7, 11, 0, 0), 'SH_CLERK', 2900.0, None, 122, 50), (191, 'Randall', 'Perkins', 'RPERKINS', '650.505.4876', datetime.datetime(2007, 12, 19, 0, 0), 'SH_CLERK', 2500.0, None, 122, 50), (192, 'Sarah', 'Bell', 'SBELL', '650.501.1876', datetime.datetime(2004, 2, 4, 0, 0), 'SH_CLERK', 4000.0, None, 123, 50), (193, 'Britney', 'Everett', 'BEVERETT', '650.501.2876', datetime.datetime(2005, 3, 3, 0, 0), 'SH_CLERK', 3900.0, None, 123, 50), (194, 'Samuel', 'McCain', 'SMCCAIN', '650.501.3876', datetime.datetime(2006, 7, 1, 0, 0), 'SH_CLERK', 3200.0, None, 123, 50), (195, 'Vance', 'Jones', 'VJONES', '650.501.4876', datetime.datetime(2007, 3, 17, 0, 0), 'SH_CLERK', 2800.0, None, 123, 50), (196, 'Alana', 'Walsh', 'AWALSH', '650.507.9811', datetime.datetime(2006, 4, 24, 0, 0), 'SH_CLERK', 3100.0, None, 124, 50), (197, 'Kevin', 'Feeney', 'KFEENEY', '650.507.9822', datetime.datetime(2006, 5, 23, 0, 0), 'SH_CLERK', 3000.0, None, 124, 50), (198, 'Donald', 'OConnell', 'DOCONNEL', '650.507.9833', datetime.datetime(2007, 6, 21, 0, 0), 'SH_CLERK', 2600.0, None, 124, 50), (199, 'Douglas', 'Grant', 'DGRANT', '650.507.9844', datetime.datetime(2008, 1, 13, 0, 0), 'SH_CLERK', 2600.0, None, 124, 50), (200, 'Jennifer', 'Whalen', 'JWHALEN', '515.123.4444', datetime.datetime(2003, 9, 17, 0, 0), 'AD_ASST', 4400.0, None, 101, 10), (201, 'Michael', 'Hartstein', 'MHARTSTE', '515.123.5555', datetime.datetime(2004, 2, 17, 0, 0), 'MK_MAN', 13000.0, None, 100, 20), (202, 'Pat', 'Fay', 'PFAY', '603.123.6666', datetime.datetime(2005, 8, 17, 0, 0), 'MK_REP', 6000.0, None, 201, 20), (203, 'Susan', 'Mavris', 'SMAVRIS', '515.123.7777', datetime.datetime(2002, 6, 7, 0, 0), 'HR_REP', 6500.0, None, 101, 40), (204, 'Hermann', 'Baer', 'HBAER', '515.123.8888', datetime.datetime(2002, 6, 7, 0, 0), 'PR_REP', 10000.0, None, 101, 70), (205, 'Shelley', 'Higgins', 'SHIGGINS', '515.123.8080', datetime.datetime(2002, 6, 7, 0, 0), 'AC_MGR', 12008.0, None, 101, 110), (206, 'William', 'Gietz', 'WGIETZ', '515.123.8181', datetime.datetime(2002, 6, 7, 0, 0), 'AC_ACCOUNT', 8300.0, None, 205, 110)]\n"
     ]
    }
   ],
   "source": [
    "print(res)"
   ]
  },
  {
   "cell_type": "markdown",
   "metadata": {},
   "source": [
    "### read with pandas "
   ]
  },
  {
   "cell_type": "code",
   "execution_count": 13,
   "metadata": {
    "collapsed": true
   },
   "outputs": [],
   "source": [
    "import pandas as pd"
   ]
  },
  {
   "cell_type": "code",
   "execution_count": 15,
   "metadata": {},
   "outputs": [
    {
     "data": {
      "text/html": [
       "<div>\n",
       "<table border=\"1\" class=\"dataframe\">\n",
       "  <thead>\n",
       "    <tr style=\"text-align: right;\">\n",
       "      <th></th>\n",
       "      <th>EMPLOYEE_ID</th>\n",
       "      <th>FIRST_NAME</th>\n",
       "      <th>LAST_NAME</th>\n",
       "      <th>EMAIL</th>\n",
       "      <th>PHONE_NUMBER</th>\n",
       "      <th>HIRE_DATE</th>\n",
       "      <th>JOB_ID</th>\n",
       "      <th>SALARY</th>\n",
       "      <th>COMMISSION_PCT</th>\n",
       "      <th>MANAGER_ID</th>\n",
       "      <th>DEPARTMENT_ID</th>\n",
       "    </tr>\n",
       "  </thead>\n",
       "  <tbody>\n",
       "    <tr>\n",
       "      <th>0</th>\n",
       "      <td>100</td>\n",
       "      <td>Steven</td>\n",
       "      <td>King</td>\n",
       "      <td>SKING</td>\n",
       "      <td>515.123.4567</td>\n",
       "      <td>2003-06-17</td>\n",
       "      <td>AD_PRES</td>\n",
       "      <td>24000.0</td>\n",
       "      <td>NaN</td>\n",
       "      <td>NaN</td>\n",
       "      <td>90.0</td>\n",
       "    </tr>\n",
       "    <tr>\n",
       "      <th>1</th>\n",
       "      <td>101</td>\n",
       "      <td>Neena</td>\n",
       "      <td>Kochhar</td>\n",
       "      <td>NKOCHHAR</td>\n",
       "      <td>515.123.4568</td>\n",
       "      <td>2005-09-21</td>\n",
       "      <td>AD_VP</td>\n",
       "      <td>17000.0</td>\n",
       "      <td>NaN</td>\n",
       "      <td>100.0</td>\n",
       "      <td>90.0</td>\n",
       "    </tr>\n",
       "    <tr>\n",
       "      <th>2</th>\n",
       "      <td>102</td>\n",
       "      <td>Lex</td>\n",
       "      <td>De Haan</td>\n",
       "      <td>LDEHAAN</td>\n",
       "      <td>515.123.4569</td>\n",
       "      <td>2001-01-13</td>\n",
       "      <td>AD_VP</td>\n",
       "      <td>17000.0</td>\n",
       "      <td>NaN</td>\n",
       "      <td>100.0</td>\n",
       "      <td>90.0</td>\n",
       "    </tr>\n",
       "    <tr>\n",
       "      <th>3</th>\n",
       "      <td>103</td>\n",
       "      <td>Alexander</td>\n",
       "      <td>Hunold</td>\n",
       "      <td>AHUNOLD</td>\n",
       "      <td>590.423.4567</td>\n",
       "      <td>2006-01-03</td>\n",
       "      <td>IT_PROG</td>\n",
       "      <td>9000.0</td>\n",
       "      <td>NaN</td>\n",
       "      <td>102.0</td>\n",
       "      <td>60.0</td>\n",
       "    </tr>\n",
       "    <tr>\n",
       "      <th>4</th>\n",
       "      <td>104</td>\n",
       "      <td>Bruce</td>\n",
       "      <td>Ernst</td>\n",
       "      <td>BERNST</td>\n",
       "      <td>590.423.4568</td>\n",
       "      <td>2007-05-21</td>\n",
       "      <td>IT_PROG</td>\n",
       "      <td>6000.0</td>\n",
       "      <td>NaN</td>\n",
       "      <td>103.0</td>\n",
       "      <td>60.0</td>\n",
       "    </tr>\n",
       "  </tbody>\n",
       "</table>\n",
       "</div>"
      ],
      "text/plain": [
       "   EMPLOYEE_ID FIRST_NAME LAST_NAME     EMAIL  PHONE_NUMBER  HIRE_DATE  \\\n",
       "0          100     Steven      King     SKING  515.123.4567 2003-06-17   \n",
       "1          101      Neena   Kochhar  NKOCHHAR  515.123.4568 2005-09-21   \n",
       "2          102        Lex   De Haan   LDEHAAN  515.123.4569 2001-01-13   \n",
       "3          103  Alexander    Hunold   AHUNOLD  590.423.4567 2006-01-03   \n",
       "4          104      Bruce     Ernst    BERNST  590.423.4568 2007-05-21   \n",
       "\n",
       "    JOB_ID   SALARY  COMMISSION_PCT  MANAGER_ID  DEPARTMENT_ID  \n",
       "0  AD_PRES  24000.0             NaN         NaN           90.0  \n",
       "1    AD_VP  17000.0             NaN       100.0           90.0  \n",
       "2    AD_VP  17000.0             NaN       100.0           90.0  \n",
       "3  IT_PROG   9000.0             NaN       102.0           60.0  \n",
       "4  IT_PROG   6000.0             NaN       103.0           60.0  "
      ]
     },
     "execution_count": 15,
     "metadata": {},
     "output_type": "execute_result"
    }
   ],
   "source": [
    "df_ora = pd.read_sql('select * from employees', con= ora_conn)\n",
    "df_ora.head()"
   ]
  },
  {
   "cell_type": "code",
   "execution_count": 19,
   "metadata": {},
   "outputs": [
    {
     "data": {
      "text/html": [
       "<div>\n",
       "<table border=\"1\" class=\"dataframe\">\n",
       "  <thead>\n",
       "    <tr style=\"text-align: right;\">\n",
       "      <th></th>\n",
       "      <th>EMPLOYEE_ID</th>\n",
       "      <th>FIRST_NAME</th>\n",
       "      <th>LAST_NAME</th>\n",
       "      <th>EMAIL</th>\n",
       "      <th>PHONE_NUMBER</th>\n",
       "      <th>HIRE_DATE</th>\n",
       "      <th>JOB_ID</th>\n",
       "      <th>SALARY</th>\n",
       "      <th>COMMISSION_PCT</th>\n",
       "      <th>MANAGER_ID</th>\n",
       "      <th>DEPARTMENT_ID</th>\n",
       "    </tr>\n",
       "  </thead>\n",
       "  <tbody>\n",
       "    <tr>\n",
       "      <th>0</th>\n",
       "      <td>100</td>\n",
       "      <td>Steven</td>\n",
       "      <td>King</td>\n",
       "      <td>SKING</td>\n",
       "      <td>515.123.4567</td>\n",
       "      <td>2003-06-17</td>\n",
       "      <td>AD_PRES</td>\n",
       "      <td>24000.0</td>\n",
       "      <td>None</td>\n",
       "      <td>NaN</td>\n",
       "      <td>90</td>\n",
       "    </tr>\n",
       "    <tr>\n",
       "      <th>1</th>\n",
       "      <td>101</td>\n",
       "      <td>Neena</td>\n",
       "      <td>Kochhar</td>\n",
       "      <td>NKOCHHAR</td>\n",
       "      <td>515.123.4568</td>\n",
       "      <td>2005-09-21</td>\n",
       "      <td>AD_VP</td>\n",
       "      <td>17000.0</td>\n",
       "      <td>None</td>\n",
       "      <td>100.0</td>\n",
       "      <td>90</td>\n",
       "    </tr>\n",
       "    <tr>\n",
       "      <th>2</th>\n",
       "      <td>102</td>\n",
       "      <td>Lex</td>\n",
       "      <td>De Haan</td>\n",
       "      <td>LDEHAAN</td>\n",
       "      <td>515.123.4569</td>\n",
       "      <td>2001-01-13</td>\n",
       "      <td>AD_VP</td>\n",
       "      <td>17000.0</td>\n",
       "      <td>None</td>\n",
       "      <td>100.0</td>\n",
       "      <td>90</td>\n",
       "    </tr>\n",
       "  </tbody>\n",
       "</table>\n",
       "</div>"
      ],
      "text/plain": [
       "   EMPLOYEE_ID FIRST_NAME LAST_NAME     EMAIL  PHONE_NUMBER  HIRE_DATE  \\\n",
       "0          100     Steven      King     SKING  515.123.4567 2003-06-17   \n",
       "1          101      Neena   Kochhar  NKOCHHAR  515.123.4568 2005-09-21   \n",
       "2          102        Lex   De Haan   LDEHAAN  515.123.4569 2001-01-13   \n",
       "\n",
       "    JOB_ID   SALARY COMMISSION_PCT  MANAGER_ID  DEPARTMENT_ID  \n",
       "0  AD_PRES  24000.0           None         NaN             90  \n",
       "1    AD_VP  17000.0           None       100.0             90  \n",
       "2    AD_VP  17000.0           None       100.0             90  "
      ]
     },
     "execution_count": 19,
     "metadata": {},
     "output_type": "execute_result"
    }
   ],
   "source": [
    "#传入变量名   =:\n",
    "df_orac_where = pd.read_sql('select * from employees where department_id =: my_parm',params={'my_parm':90}, con=ora_conn, index_col= None)\n",
    "df_orac_where.head()"
   ]
  },
  {
   "cell_type": "code",
   "execution_count": 20,
   "metadata": {},
   "outputs": [
    {
     "ename": "NotImplementedError",
     "evalue": "read_sql_table only supported for SQLAlchemy connectable.",
     "output_type": "error",
     "traceback": [
      "\u001b[0;31m---------------------------------------------------------------------------\u001b[0m",
      "\u001b[0;31mNotImplementedError\u001b[0m                       Traceback (most recent call last)",
      "\u001b[0;32m<ipython-input-20-4fef5a8a62d7>\u001b[0m in \u001b[0;36m<module>\u001b[0;34m()\u001b[0m\n\u001b[0;32m----> 1\u001b[0;31m \u001b[0mdf_emp\u001b[0m \u001b[1;33m=\u001b[0m \u001b[0mpd\u001b[0m\u001b[1;33m.\u001b[0m\u001b[0mread_sql_table\u001b[0m\u001b[1;33m(\u001b[0m\u001b[1;34m'employees'\u001b[0m\u001b[1;33m,\u001b[0m \u001b[0mcon\u001b[0m\u001b[1;33m=\u001b[0m\u001b[0mora_conn\u001b[0m\u001b[1;33m)\u001b[0m\u001b[1;33m\u001b[0m\u001b[0m\n\u001b[0m\u001b[1;32m      2\u001b[0m \u001b[0mdf_emp\u001b[0m\u001b[1;33m.\u001b[0m\u001b[0mhead\u001b[0m\u001b[1;33m(\u001b[0m\u001b[1;33m)\u001b[0m\u001b[1;33m\u001b[0m\u001b[0m\n",
      "\u001b[0;32mC:\\Anaconda3\\lib\\site-packages\\pandas\\io\\sql.py\u001b[0m in \u001b[0;36mread_sql_table\u001b[0;34m(table_name, con, schema, index_col, coerce_float, parse_dates, columns, chunksize)\u001b[0m\n\u001b[1;32m    249\u001b[0m     \u001b[0mcon\u001b[0m \u001b[1;33m=\u001b[0m \u001b[0m_engine_builder\u001b[0m\u001b[1;33m(\u001b[0m\u001b[0mcon\u001b[0m\u001b[1;33m)\u001b[0m\u001b[1;33m\u001b[0m\u001b[0m\n\u001b[1;32m    250\u001b[0m     \u001b[1;32mif\u001b[0m \u001b[1;32mnot\u001b[0m \u001b[0m_is_sqlalchemy_connectable\u001b[0m\u001b[1;33m(\u001b[0m\u001b[0mcon\u001b[0m\u001b[1;33m)\u001b[0m\u001b[1;33m:\u001b[0m\u001b[1;33m\u001b[0m\u001b[0m\n\u001b[0;32m--> 251\u001b[0;31m         raise NotImplementedError(\"read_sql_table only supported for \"\n\u001b[0m\u001b[1;32m    252\u001b[0m                                   \"SQLAlchemy connectable.\")\n\u001b[1;32m    253\u001b[0m     \u001b[1;32mimport\u001b[0m \u001b[0msqlalchemy\u001b[0m\u001b[1;33m\u001b[0m\u001b[0m\n",
      "\u001b[0;31mNotImplementedError\u001b[0m: read_sql_table only supported for SQLAlchemy connectable."
     ]
    }
   ],
   "source": [
    "df_emp = pd.read_sql_table('employees', con=ora_conn)\n",
    "df_emp.head()"
   ]
  },
  {
   "cell_type": "markdown",
   "metadata": {
    "collapsed": true
   },
   "source": [
    "### 公园前服务器"
   ]
  },
  {
   "cell_type": "code",
   "execution_count": 31,
   "metadata": {},
   "outputs": [
    {
     "ename": "UnicodeDecodeError",
     "evalue": "'utf-8' codec can't decode bytes in position 82-83: invalid continuation byte",
     "output_type": "error",
     "traceback": [
      "\u001b[1;31m---------------------------------------------------------------------------\u001b[0m",
      "\u001b[1;31mUnicodeDecodeError\u001b[0m                        Traceback (most recent call last)",
      "\u001b[1;32m<ipython-input-31-6f5320b3b9cc>\u001b[0m in \u001b[0;36m<module>\u001b[1;34m()\u001b[0m\n\u001b[0;32m      1\u001b[0m \u001b[1;31m# import os\u001b[0m\u001b[1;33m\u001b[0m\u001b[1;33m\u001b[0m\u001b[0m\n\u001b[0;32m      2\u001b[0m \u001b[1;31m# os.environ['NLS_LANG'] = 'AMERICAN_AMERICA.AL32UTF8'\u001b[0m\u001b[1;33m\u001b[0m\u001b[1;33m\u001b[0m\u001b[0m\n\u001b[1;32m----> 3\u001b[1;33m \u001b[0mora_conn_dw\u001b[0m \u001b[1;33m=\u001b[0m \u001b[0mcx_Oracle\u001b[0m\u001b[1;33m.\u001b[0m\u001b[0mconnect\u001b[0m\u001b[1;33m(\u001b[0m\u001b[1;34m\"METRO\"\u001b[0m\u001b[1;33m,\u001b[0m \u001b[1;34m\"METRO\"\u001b[0m\u001b[1;33m,\u001b[0m \u001b[1;34m\"10.90.2.52/dwpdb\"\u001b[0m\u001b[1;33m)\u001b[0m\u001b[1;33m\u001b[0m\u001b[0m\n\u001b[0m",
      "\u001b[1;31mUnicodeDecodeError\u001b[0m: 'utf-8' codec can't decode bytes in position 82-83: invalid continuation byte"
     ]
    }
   ],
   "source": [
    "# import os\n",
    "# os.environ['NLS_LANG'] = 'AMERICAN_AMERICA.AL32UTF8'\n",
    "ora_conn_dw = cx_Oracle.connect(\"METRO\", \"METRO\", \"10.90.2.52/dwpdb\")"
   ]
  },
  {
   "cell_type": "code",
   "execution_count": 5,
   "metadata": {
    "collapsed": true
   },
   "outputs": [],
   "source": [
    "import sys"
   ]
  },
  {
   "cell_type": "code",
   "execution_count": 6,
   "metadata": {},
   "outputs": [
    {
     "data": {
      "text/plain": [
       "'utf-8'"
      ]
     },
     "execution_count": 6,
     "metadata": {},
     "output_type": "execute_result"
    }
   ],
   "source": [
    "sys.getdefaultencoding()"
   ]
  },
  {
   "cell_type": "code",
   "execution_count": 32,
   "metadata": {
    "collapsed": true
   },
   "outputs": [],
   "source": [
    "cx_Oracle.connect?"
   ]
  },
  {
   "cell_type": "markdown",
   "metadata": {},
   "source": [
    "### pyodbc"
   ]
  },
  {
   "cell_type": "code",
   "execution_count": 1,
   "metadata": {
    "collapsed": true
   },
   "outputs": [],
   "source": [
    "import pyodbc"
   ]
  },
  {
   "cell_type": "code",
   "execution_count": 2,
   "metadata": {
    "collapsed": true
   },
   "outputs": [],
   "source": [
    "conn_odbc_dw = pyodbc.connect('DSN=dwpdb;UID=dw;PWD=Admin123')"
   ]
  },
  {
   "cell_type": "code",
   "execution_count": 3,
   "metadata": {
    "collapsed": true
   },
   "outputs": [],
   "source": [
    "import pandas as pd"
   ]
  },
  {
   "cell_type": "code",
   "execution_count": 4,
   "metadata": {},
   "outputs": [
    {
     "data": {
      "text/html": [
       "<div>\n",
       "<style>\n",
       "    .dataframe thead tr:only-child th {\n",
       "        text-align: right;\n",
       "    }\n",
       "\n",
       "    .dataframe thead th {\n",
       "        text-align: left;\n",
       "    }\n",
       "\n",
       "    .dataframe tbody tr th {\n",
       "        vertical-align: top;\n",
       "    }\n",
       "</style>\n",
       "<table border=\"1\" class=\"dataframe\">\n",
       "  <thead>\n",
       "    <tr style=\"text-align: right;\">\n",
       "      <th></th>\n",
       "      <th>LINE_ID</th>\n",
       "      <th>STATION_ID</th>\n",
       "      <th>NAME</th>\n",
       "      <th>WGS_LNG</th>\n",
       "      <th>WGS_LAT</th>\n",
       "    </tr>\n",
       "  </thead>\n",
       "  <tbody>\n",
       "    <tr>\n",
       "      <th>0</th>\n",
       "      <td>01</td>\n",
       "      <td>01</td>\n",
       "      <td>??</td>\n",
       "      <td>113.226701</td>\n",
       "      <td>23.067951</td>\n",
       "    </tr>\n",
       "    <tr>\n",
       "      <th>1</th>\n",
       "      <td>01</td>\n",
       "      <td>02</td>\n",
       "      <td>??</td>\n",
       "      <td>113.227103</td>\n",
       "      <td>23.081592</td>\n",
       "    </tr>\n",
       "    <tr>\n",
       "      <th>2</th>\n",
       "      <td>01</td>\n",
       "      <td>03</td>\n",
       "      <td>???</td>\n",
       "      <td>113.228712</td>\n",
       "      <td>23.089772</td>\n",
       "    </tr>\n",
       "    <tr>\n",
       "      <th>3</th>\n",
       "      <td>01</td>\n",
       "      <td>04</td>\n",
       "      <td>??</td>\n",
       "      <td>113.230327</td>\n",
       "      <td>23.101230</td>\n",
       "    </tr>\n",
       "    <tr>\n",
       "      <th>4</th>\n",
       "      <td>01</td>\n",
       "      <td>05</td>\n",
       "      <td>??</td>\n",
       "      <td>113.235108</td>\n",
       "      <td>23.112580</td>\n",
       "    </tr>\n",
       "  </tbody>\n",
       "</table>\n",
       "</div>"
      ],
      "text/plain": [
       "  LINE_ID STATION_ID NAME     WGS_LNG    WGS_LAT\n",
       "0      01         01   ??  113.226701  23.067951\n",
       "1      01         02   ??  113.227103  23.081592\n",
       "2      01         03  ???  113.228712  23.089772\n",
       "3      01         04   ??  113.230327  23.101230\n",
       "4      01         05   ??  113.235108  23.112580"
      ]
     },
     "execution_count": 4,
     "metadata": {},
     "output_type": "execute_result"
    }
   ],
   "source": [
    "df = pd.read_sql('select * from stations', con=conn_odbc_dw)\n",
    "df.head()"
   ]
  },
  {
   "cell_type": "code",
   "execution_count": null,
   "metadata": {
    "collapsed": true
   },
   "outputs": [],
   "source": []
  }
 ],
 "metadata": {
  "kernelspec": {
   "display_name": "Python 3",
   "language": "python",
   "name": "python3"
  },
  "language_info": {
   "codemirror_mode": {
    "name": "ipython",
    "version": 3
   },
   "file_extension": ".py",
   "mimetype": "text/x-python",
   "name": "python",
   "nbconvert_exporter": "python",
   "pygments_lexer": "ipython3",
   "version": "3.6.1"
  }
 },
 "nbformat": 4,
 "nbformat_minor": 2
}
