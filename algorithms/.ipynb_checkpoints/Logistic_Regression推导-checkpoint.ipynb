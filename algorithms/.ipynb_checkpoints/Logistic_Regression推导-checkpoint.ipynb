{
 "cells": [
  {
   "cell_type": "markdown",
   "metadata": {},
   "source": [
    "## Table of Contents\n",
    "-[1 Intro](#intro)\n",
    "<br>\n",
    "-[2 Cost Function](#cost_function)\n",
    "<br>\n",
    "-[3 Gradient Descent](#gd)\n",
    "<br>\n",
    "-[4 数学辅助](#addition)"
   ]
  },
  {
   "cell_type": "markdown",
   "metadata": {},
   "source": [
    "<a id='intro'></a>\n",
    "## 1 Intro\n",
    "Logistic函数的一般形式为：\n",
    "$$g(z) = \\frac{1}{1+e^{-z}}$$\n",
    "<br>\n",
    "对于线性可分的情况，线性边界可以用函数表示为：\n",
    "$$\\theta_{0} + \\theta_{1}x_{1}+...+ \\theta_{n}x_{n} = \\sum_{i=0}^{n}\\theta_{i}x_{i}= \\theta^{T}X$$\n",
    "<br>\n",
    "Logistic预测函数可以写成：\n",
    "$$h_{\\theta}(x) = g(\\theta^{T}x) = \\frac{1}{1+e^{-\\theta^{T}X}}$$\n",
    "<br>\n",
    "对于分类结果,其数学形式为:\n",
    "$$P(y=1\\mid x;\\theta) = h_{\\theta}(x)$$\n",
    "$$P(y=0\\mid x;\\theta) = 1-h_{\\theta}(x)$$"
   ]
  },
  {
   "cell_type": "markdown",
   "metadata": {},
   "source": [
    "<a id='cost_function'></a>\n",
    "## 2 Cost Function\n",
    "Andrew Ng给出了损失函数的形式：\n",
    "$$Cost(h_{\\theta}(x),y)= -log(h_{\\theta}(x)), if y= 1$$\n",
    "$$Cost(h_{\\theta}(x),y)= -log(1-h_{\\theta}(x)), if y= 0$$\n",
    "<br>\n",
    "**损失函数$J(\\theta)$可以写成：**\n",
    "<font color=blue>\n",
    "$$J(\\theta) = \\frac{1}{m}\\sum_{i=1}^{m} Cost(h_{\\theta}(x^{(i)}),y^{(i)})\\\\\n",
    "        = - \\frac{1}{m}[\\sum_{i=1}^{m}y^{(i)}logh_{\\theta}(x^{(i)}) + (1-y)log(1-h_{\\theta}x^{(i)})] $$ </font>\n",
    "<br>\n",
    "推导过程如下：\n",
    "$$P(y\\mid x; \\theta) = (h_{\\theta}(x))^{y}(1-h_{\\theta}(x))^{1-y}$$\n",
    "<br>\n",
    "其最大似然函数$L(\\theta)$为:\n",
    "$$L(\\theta) = \\prod_{i=1}^{m}P(y^{(i)}\\mid x^{(i)};\\theta)\\\\\n",
    "=\\prod_{i=1}^{m}(h_{\\theta}(x^{(i)}))^{y^{(i)}}(1-h_{\\theta}(x^{(i)}))^{1-y^{(i)}}$$\n",
    "<br>\n",
    "**其对数似然函数$l(\\theta)$为：**\n",
    "$$l(\\theta) = log(L(\\theta))\\\\\n",
    "=\\prod_{i=1}^{m}(y^{(i)}logh_{\\theta}(x^{(i)}))+(1-y^{(i)})log(1-h_{\\theta}(x^{(i)}))$$"
   ]
  },
  {
   "cell_type": "markdown",
   "metadata": {},
   "source": [
    "<a id='gd'></a>\n",
    "## 3 Gradient Descent\n",
    "$$\\hat{\\beta} = \\underset{\\beta}{argmin}J(\\theta)$$\n",
    "<br>\n",
    "梯度下降的一般形式：\n",
    "$$\\theta_{j}:= \\theta_{j}-\\alpha \\frac{\\partial}{\\partial \\theta_{j}}J(\\theta), (j=0..n)$$\n",
    "需要对$J(\\theta)$求偏导：\n",
    "\\begin{equation}\n",
    "\\frac{\\partial}{\\partial \\theta_{j}}J(\\theta) = - \\frac{1}{m}\\sum_{i=1}^{m} \\left \\{ y^{(i)}\\frac{1}{h_{\\theta}(x^{(i)}) \\frac{\\partial}{\\partial \\theta_{j}}}h_{\\theta}(x^{(i)}) - (1-y^{(i)})\\frac{1}{1-h_{\\theta}(x^{(i)})}\\frac{\\partial}{\\partial \\theta_{j}}h_{\\theta}(x^{(i)}) \\right \\} \\\\\n",
    "=- \\frac{1}{m}\\sum_{i=1}^{m}  \\left [ y^{(i)}\\frac{1}{g(\\theta^{T}x^{(i)})} -(1-y^{(i)})\\frac{1}{1-g(\\theta^{T}x^{(i)})}\\right ] \\frac{\\partial}{\\partial \\theta_{j}}g(\\theta^{T}x^{(i)})\\\\\n",
    "=- \\frac{1}{m}\\sum_{i=1}^{m}  \\left [ y^{(i)}\\frac{1}{g(\\theta^{T}x^{(i)})} -(1-y^{(i)})\\frac{1}{1-g(\\theta^{T}x^{(i)})}\\right ] g(\\theta^{T}x^{(i)})(1-g(\\theta^{T}x^{(i)}))\\frac{\\partial}{\\partial_{\\theta_{j}}}\\theta^{T}x^{(i)} \\\\\n",
    "= - \\frac{1}{m}\\sum_{i=1}^{m}\\left [ y^{(i)}(1-g(\\theta^{T}x^{(i)}))-(1-y^{(i)})g(\\theta^{T}x^{(i)})\\right ]x_{j}^{(i)} \\\\\n",
    "= - \\frac{1}{m}\\sum_{i=1}^{m}(y^{(i)} - g(\\theta^{T}x^{(i)}))x_{j}^{(i)} \\\\\n",
    "=- \\frac{1}{m}\\sum_{i=1}^{m}(y^{(i)} - h_{\\theta}(x^{(i)}))x_{j}^{(i)} \\\\\n",
    "= \\frac{1}{m}\\sum_{i=1}^{m}(h_{\\theta}(x^{(i)})- y^{(i)})x_{j}^{(i)}\n",
    "\\end{equation}\n",
    "<br>\n",
    "更新梯度下降的一般形式：\n",
    "$$\\theta_{j}:= \\theta_{j}-\\alpha \\frac{1}{m}\\sum_{i=1}^{m}(h_{\\theta}(x^{(i)})- y^{(i)})x_{j}^{(i)}$$"
   ]
  },
  {
   "cell_type": "markdown",
   "metadata": {},
   "source": [
    "<a id='addition'></a>\n",
    "## 数学推导辅助\n",
    "上面对$J(\\theta)$求偏导第2步用到的数学变形为：\n",
    "\n",
    "$$f(x) = \\frac{1}{1+e^{g(x)}}\\\\\n",
    "\\frac{\\partial}{\\partial x}f(x) = -\\frac{1}{(1+e^{g(x)})^{2}}e^{g(x)}\\frac{\\partial}{\\partial x}g(x) \\\\\n",
    "= - \\frac{1}{1+e^{g(x)}}\\frac{e^{g(x)}}{1+e^{g(x)}}\\frac{\\partial}{\\partial x}g(x) \\\\\n",
    "= -f(x)(1-f(x))\\frac{\\partial}{\\partial x}g(x)$$\n",
    "<br>\n",
    "如果$g(x) = -\\theta^{T}x$,则可以将前面的负号抵消。"
   ]
  },
  {
   "cell_type": "code",
   "execution_count": null,
   "metadata": {
    "collapsed": true
   },
   "outputs": [],
   "source": []
  }
 ],
 "metadata": {
  "kernelspec": {
   "display_name": "Python 3",
   "language": "python",
   "name": "python3"
  },
  "language_info": {
   "codemirror_mode": {
    "name": "ipython",
    "version": 3
   },
   "file_extension": ".py",
   "mimetype": "text/x-python",
   "name": "python",
   "nbconvert_exporter": "python",
   "pygments_lexer": "ipython3",
   "version": "3.6.1"
  }
 },
 "nbformat": 4,
 "nbformat_minor": 2
}
