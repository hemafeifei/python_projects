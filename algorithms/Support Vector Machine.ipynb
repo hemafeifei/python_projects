{
 "cells": [
  {
   "cell_type": "markdown",
   "metadata": {},
   "source": [
    "## SVM Explanation"
   ]
  },
  {
   "cell_type": "markdown",
   "metadata": {},
   "source": [
    "#### hyper-plane\n",
    "Given any data $D={(x_{1}, y_{1}), (x_{2},y_{2}),...,(x_{m},y_{m})}$ where $y_{i} \\in {-1, +1}$. we can find n hyper-planes ($n->\\infty$) where:\n",
    "$$w^Tx+b=0$$\n",
    "and also we can find 2 parelle hyper planes H1 and H2:\n",
    "$$w^Tx+b=1$$\n",
    "$$w^Tx+b=-1$$\n",
    "#### support vector\n",
    "observations on H1 and H2 are called support vectors. With support vector and super hyer plan the classifier can divide obervations correctly.\n",
    "$$w^Tx+b \\geq1, y=1$$\n",
    "$$w^Tx+b \\leq1, y=-1$$\n",
    "For any observation, namely:\n",
    "$$y_{i}(w^{T}x_{i}+b-1)\\geq0$$\n",
    "#### margin\n",
    "The margin between H1 and H2 is\n",
    "$$Margin = \\frac{2}{\\parallel w \\parallel}$$\n",
    "As SVM is going to find the maximal margin, it is equally:\n",
    "$$ min \\frac{||w||^2}{2} $$\n",
    " $$s.t.  y_{i}(w^{T}x_{i}+b-1)\\geq0$$\n",
    " #### lagrange multiplier transform\n",
    " The problem can be converted to:\n",
    " $$L(w,b,\\alpha_{i})=\\frac{||w||^2}{2} - \\sum_{i=1}^{l}\\alpha_{i}(y_{i}(w^{T}x_{i}+b)-1)$$\n",
    " $$\\begin{equation}\n",
    " = \\frac{||w||^2}{2} - \\sum_{i=1}^{l}\\alpha_{i}y_{i}(w^{T}x_{i}+b) + \\sum_{i=1}^{l}\\alpha_{i} \n",
    " \\tag{1}\n",
    " \\end{equation}\n",
    " $$\n",
    " where $\\alpha_{i}\\geq0$\n",
    " the problem then become sovling:\n",
    " $$\\underbrace{min}_{w,b}\\underbrace{max}_{\\alpha_{i}\\geq0}L(w,b,\\alpha_{i})$$\n",
    "after lagrange transform, it is equally:\n",
    "$$\n",
    "\\begin{equation}\n",
    "\\underbrace{min}_{w,b}\\underbrace{max}_{\\alpha_{i}\\geq0}L(w,b,\\alpha_{i}) = \\underbrace{max}_{\\alpha_{i}\\geq0}\\underbrace{min}_{w,b}L(w,b,\\alpha_{i})\n",
    "\\tag{2}\n",
    "\\end{equation}\n",
    "$$\n",
    "calculating the derivative of $w$ and $\\alpha_{i}$\n",
    "$$\\frac{\\partial L(w,b,\\alpha_{i})}{\\partial w} = w - \\sum_{i=1}^{l}\\alpha_{i}y_{i}x_{i}$$\n",
    "$$\\frac{\\partial L(w,b,\\alpha_{i})}{\\partial b} = -\\sum_{i=1}^{l}\\alpha_{i}y_{i}$$\n",
    "let abobe equations equal 0, then:\n",
    "$$w=\\sum_{i=1}^l \\alpha_{i}y_{i}x_{i}$$\n",
    "$$\\sum_{i=1}^{l}\\alpha_{i}y_{i}=0$$\n",
    "\n",
    "taking above 2 results into formula (1):\n"
   ]
  },
  {
   "cell_type": "markdown",
   "metadata": {},
   "source": [
    "$$\\underbrace{min}_{w,b}L(w,b,\\alpha_{i}) =\\frac{1}{2}||w||^2 - w\\sum_{i=1}^l\\alpha_{i}y_{i}x_{i}-b\\sum_{i=1}^l\\alpha_{i}y_{i} + \\sum_{i=1}^l\\alpha_{i}$$\n",
    "$$=\\frac{1}{2}||w||^2 - w*w -b*0 + \\sum_{i=1}^l\\alpha_{i}$$\n",
    "$$=\\sum_{i=1}^l\\alpha_{i} - \\frac{1}{2}||w||^2$$\n",
    "$$=\\sum_{i=1}^l\\alpha_{i} - \\frac{1}{2}\\sum_{i=1}^l\\sum_{j=1}^l\\alpha_{i}\\alpha_{j}y_{i}y_{j}(x_{i}*x_{j})\\}$$"
   ]
  },
  {
   "cell_type": "markdown",
   "metadata": {},
   "source": [
    "Then formula (2) become:\n",
    "$$\n",
    "\\begin{equation}\n",
    "\\underbrace{max}_{\\alpha_{i}\\geq0}\\underbrace{min}_{w,b}L(w,b,\\alpha_{i}) = \\underbrace{max}_{\\alpha_{i}\\geq0}\\{\\sum_{i=1}^{l}\\alpha_{i} - \\frac{1}{2}\\sum_{i=1}^l\\sum_{j=1}^l\\alpha_{i}\\alpha_{j}y_{i}y_{j}(x_{i}*x_{j})\\}\n",
    "\\tag{3}\n",
    "\\end{equation}\n",
    "$$\n",
    "\n",
    "It is eually:\n",
    "$$\\underbrace{max}_{\\alpha_{i}\\geq0}\\{\\sum_{i=1}^{l}\\alpha_{i} - \\frac{1}{2}\\sum_{i=1}^l\\sum_{j=1}^l\\alpha_{i}\\alpha_{j}y_{i}y_{j}(x_{i}*x_{j})\\}$$\n",
    "s.t. $$\\sum_{i=1}^l\\alpha_{i}y_{i}=0$$\n",
    "and $$\\alpha_{i}\\geq0$$"
   ]
  },
  {
   "cell_type": "code",
   "execution_count": null,
   "metadata": {},
   "outputs": [],
   "source": []
  },
  {
   "cell_type": "code",
   "execution_count": null,
   "metadata": {},
   "outputs": [],
   "source": []
  }
 ],
 "metadata": {
  "kernelspec": {
   "display_name": "Python 3",
   "language": "python",
   "name": "python3"
  },
  "language_info": {
   "codemirror_mode": {
    "name": "ipython",
    "version": 3
   },
   "file_extension": ".py",
   "mimetype": "text/x-python",
   "name": "python",
   "nbconvert_exporter": "python",
   "pygments_lexer": "ipython3",
   "version": "3.7.4"
  }
 },
 "nbformat": 4,
 "nbformat_minor": 2
}
