{
 "cells": [
  {
   "cell_type": "markdown",
   "metadata": {},
   "source": [
    "# Contents\n",
    "\n",
    "-[1 Introduction](#intro)\n",
    "<br>\n",
    "-[2 Datasets Example](#datasets)\n",
    "<br>\n",
    "-[3 Model training](#model)\n",
    "<br>\n",
    "-[4 Conclusion](#conclusion)"
   ]
  },
  {
   "cell_type": "markdown",
   "metadata": {},
   "source": [
    "<a id='intro'></a>\n",
    "## 1 Introduction\n",
    "Product Limit Method (PLM) was used to estimste the survival function.\n",
    "<br>\n",
    "In medica research, PLM can be used to measure the patient living with special treatment. In Ingenieer area, PLM can be used to predict the expected life of a machine in manufacture. \n",
    "<br>\n",
    "<br>\n",
    "In transportation research, PLM was used to estimate the congestion function on the road. This function use the historic congestion data (trafiic volume) to predict a probability that a congestion will occur.\n",
    "<br>\n",
    "<br>\n",
    "Currently, Kaplan-Meier estimator and Weibull distribution are used to describe the process of Product limit method.For detaied info, can visit wikipedia__[Kaplan-Meier](https://en.wikipedia.org/wiki/Kaplan%E2%80%93Meier_estimator)__ and __[Weibull distribution](https://en.wikipedia.org/wiki/Weibull_distribution)__.\n",
    "<br>\n",
    "According the wiki reference, there are __[python](http://lifelines.readthedocs.io/en/latest/)__, __[SAS](https://support.sas.com/documentation/cdl/en/statug/68162/HTML/default/viewer.htm#statug_lifetest_overview.htm)__,  __[R](https://cran.r-project.org/web/packages/survival/index.html)__ packages that can be used to train PLM models."
   ]
  },
  {
   "cell_type": "markdown",
   "metadata": {},
   "source": [
    "To research the problem in bank busibess, we can assume that the maximal absence of a customer as product life. It is a variable with time(can be weeks or months). The satus of a customer, active or inactive, can be estimated as the survual status in PLM. \n",
    "<br>\n",
    "We can also intro some other variables with the demographic customer features into the model, such as gender..."
   ]
  },
  {
   "cell_type": "markdown",
   "metadata": {},
   "source": [
    "<a id='datasets'></a>\n",
    "## 2 Datasets Example"
   ]
  },
  {
   "cell_type": "markdown",
   "metadata": {},
   "source": [
    "We generate 50 observations (customers) with 3 variable ('T':maximal absence time with months, 'E': current status of a customer,'gender':gender of a customer)"
   ]
  },
  {
   "cell_type": "code",
   "execution_count": 1,
   "metadata": {
    "collapsed": false
   },
   "outputs": [],
   "source": [
    "# use some python pkgs\n",
    "import pandas as pd\n",
    "import numpy as np\n",
    "import matplotlib.pyplot as plt\n",
    "%matplotlib inline\n",
    "plt.style.use('ggplot')"
   ]
  },
  {
   "cell_type": "code",
   "execution_count": 2,
   "metadata": {
    "collapsed": true
   },
   "outputs": [],
   "source": [
    "# generate T from 3 months to 11 months\n",
    "max_absence = np.random.randint(low = 3, high= 11, size = 50)\n",
    "# generate 24 male customer and 26 female customer\n",
    "gender = ['M']*24 + ['F']*26"
   ]
  },
  {
   "cell_type": "markdown",
   "metadata": {},
   "source": [
    "According our statistical result, the inactive rate of the customer is 10%, So we generate all 50 observations with active status ('E'=1) firstly, then we random choose 5-6 observations and set its status to be inactive ('E'=0)."
   ]
  },
  {
   "cell_type": "code",
   "execution_count": 3,
   "metadata": {
    "collapsed": true
   },
   "outputs": [],
   "source": [
    "# We choose 6 observations as inactive customers\n",
    "status = [1] * 50\n",
    "random_idx = np.random.randint(low=0, high=49, size=6)\n",
    "for i in random_idx:\n",
    "    status[i] = 0"
   ]
  },
  {
   "cell_type": "code",
   "execution_count": 4,
   "metadata": {
    "collapsed": false
   },
   "outputs": [
    {
     "data": {
      "text/plain": [
       "[1, 1, 1, 1, 1, 1, 1, 1, 1, 1]"
      ]
     },
     "execution_count": 4,
     "metadata": {},
     "output_type": "execute_result"
    }
   ],
   "source": [
    "# first 10 results of the Status variable:\n",
    "status[:10]"
   ]
  },
  {
   "cell_type": "code",
   "execution_count": 5,
   "metadata": {
    "collapsed": false
   },
   "outputs": [
    {
     "data": {
      "text/html": [
       "<div>\n",
       "<style>\n",
       "    .dataframe thead tr:only-child th {\n",
       "        text-align: right;\n",
       "    }\n",
       "\n",
       "    .dataframe thead th {\n",
       "        text-align: left;\n",
       "    }\n",
       "\n",
       "    .dataframe tbody tr th {\n",
       "        vertical-align: top;\n",
       "    }\n",
       "</style>\n",
       "<table border=\"1\" class=\"dataframe\">\n",
       "  <thead>\n",
       "    <tr style=\"text-align: right;\">\n",
       "      <th></th>\n",
       "      <th>E</th>\n",
       "      <th>T</th>\n",
       "      <th>gender</th>\n",
       "    </tr>\n",
       "  </thead>\n",
       "  <tbody>\n",
       "    <tr>\n",
       "      <th>0</th>\n",
       "      <td>1</td>\n",
       "      <td>9</td>\n",
       "      <td>M</td>\n",
       "    </tr>\n",
       "    <tr>\n",
       "      <th>1</th>\n",
       "      <td>1</td>\n",
       "      <td>3</td>\n",
       "      <td>M</td>\n",
       "    </tr>\n",
       "    <tr>\n",
       "      <th>2</th>\n",
       "      <td>1</td>\n",
       "      <td>10</td>\n",
       "      <td>M</td>\n",
       "    </tr>\n",
       "  </tbody>\n",
       "</table>\n",
       "</div>"
      ],
      "text/plain": [
       "   E   T gender\n",
       "0  1   9      M\n",
       "1  1   3      M\n",
       "2  1  10      M"
      ]
     },
     "execution_count": 5,
     "metadata": {},
     "output_type": "execute_result"
    }
   ],
   "source": [
    "df = pd.DataFrame({'T':max_absence, \n",
    "                   'E':status, \n",
    "                  'gender':gender})\n",
    "df.head(3)"
   ]
  },
  {
   "cell_type": "markdown",
   "metadata": {},
   "source": [
    "## Model Training"
   ]
  },
  {
   "cell_type": "markdown",
   "metadata": {},
   "source": [
    "### 3.1 Kaplan-Meier estimator"
   ]
  },
  {
   "cell_type": "code",
   "execution_count": 6,
   "metadata": {
    "collapsed": true
   },
   "outputs": [],
   "source": [
    "from lifelines import KaplanMeierFitter"
   ]
  },
  {
   "cell_type": "code",
   "execution_count": 7,
   "metadata": {
    "collapsed": true
   },
   "outputs": [],
   "source": [
    "kmf = KaplanMeierFitter()\n",
    "E = df['E']\n",
    "T = df['T']"
   ]
  },
  {
   "cell_type": "code",
   "execution_count": 8,
   "metadata": {
    "collapsed": false
   },
   "outputs": [
    {
     "data": {
      "text/plain": [
       "<lifelines.KaplanMeierFitter: fitted with 50 observations, 6 censored>"
      ]
     },
     "execution_count": 8,
     "metadata": {},
     "output_type": "execute_result"
    }
   ],
   "source": [
    "# train the model\n",
    "kmf.fit(T, event_observed=E)"
   ]
  },
  {
   "cell_type": "code",
   "execution_count": 9,
   "metadata": {
    "collapsed": false
   },
   "outputs": [
    {
     "data": {
      "image/png": "[encoded data removed]",
      "text/plain": [
       "<matplotlib.figure.Figure at 0x113e3db70>"
      ]
     },
     "metadata": {},
     "output_type": "display_data"
    }
   ],
   "source": [
    "# plot the distribution function\n",
    "kmf.survival_function_.plot();"
   ]
  },
  {
   "cell_type": "markdown",
   "metadata": {},
   "source": [
    "The curve shows the probability of a customer will still be active after a absence period. We can get some inflection points from the curve."
   ]
  },
  {
   "cell_type": "code",
   "execution_count": 10,
   "metadata": {
    "collapsed": false
   },
   "outputs": [
    {
     "data": {
      "text/plain": [
       "7.0"
      ]
     },
     "execution_count": 10,
     "metadata": {},
     "output_type": "execute_result"
    }
   ],
   "source": [
    "# view the Median of the function\n",
    "kmf.median_"
   ]
  },
  {
   "cell_type": "markdown",
   "metadata": {},
   "source": [
    "The Median value with 8.0 means after 8 months absence, this Customer has a probability of 50% to be a inactive Customer."
   ]
  },
  {
   "cell_type": "markdown",
   "metadata": {},
   "source": [
    "##### Comparasion on gender"
   ]
  },
  {
   "cell_type": "code",
   "execution_count": 11,
   "metadata": {
    "collapsed": false
   },
   "outputs": [
    {
     "data": {
      "image/png": "[encoded data removed]",
      "text/plain": [
       "<matplotlib.figure.Figure at 0x113f158d0>"
      ]
     },
     "metadata": {},
     "output_type": "display_data"
    }
   ],
   "source": [
    "groups = df['gender']\n",
    "idx = (groups=='M')\n",
    "kmf.fit(T[~idx], E[~idx], label='Female')\n",
    "ax = kmf.survival_function_.plot()\n",
    "\n",
    "kmf.fit(T[idx], E[idx], label='Male')\n",
    "kmf.survival_function_.plot(ax=ax);"
   ]
  },
  {
   "cell_type": "markdown",
   "metadata": {},
   "source": [
    "Obviously, we can observe different inflection points with customers in two groups. \n",
    "<br>"
   ]
  },
  {
   "cell_type": "markdown",
   "metadata": {},
   "source": [
    "### 3.2 Weibull distribution"
   ]
  },
  {
   "cell_type": "markdown",
   "metadata": {},
   "source": [
    "Since kaplan-meier estimator is a non-paramateric method, weibull-distribution is a parametric model. So the fitted curve may by more smooth.\n",
    "<br>\n",
    "The distribution function of a weibull model can be:\n",
    "$$ F(x) = 1 - e^{-(\\frac{x}{\\lambda})^{\\rho}}$$\n",
    "where $\\lambda$ and $\\rho$ are paramaters, they can be calculated."
   ]
  },
  {
   "cell_type": "code",
   "execution_count": 12,
   "metadata": {
    "collapsed": true
   },
   "outputs": [],
   "source": [
    "from lifelines import WeibullFitter"
   ]
  },
  {
   "cell_type": "code",
   "execution_count": 13,
   "metadata": {
    "collapsed": false
   },
   "outputs": [
    {
     "data": {
      "text/plain": [
       "<lifelines.WeibullFitter: fitted with 50 observations, 6 censored>"
      ]
     },
     "execution_count": 13,
     "metadata": {},
     "output_type": "execute_result"
    }
   ],
   "source": [
    "# train the model\n",
    "E = df['E']\n",
    "T = df['T']\n",
    "wf = WeibullFitter()\n",
    "wf.fit(T, E)"
   ]
  },
  {
   "cell_type": "code",
   "execution_count": 14,
   "metadata": {
    "collapsed": false
   },
   "outputs": [
    {
     "data": {
      "image/png": "[encoded data removed]",
      "text/plain": [
       "<matplotlib.figure.Figure at 0x113e9d400>"
      ]
     },
     "metadata": {},
     "output_type": "display_data"
    }
   ],
   "source": [
    "# plot the distribution function\n",
    "wf.survival_function_.plot();"
   ]
  },
  {
   "cell_type": "code",
   "execution_count": 15,
   "metadata": {
    "collapsed": false
   },
   "outputs": [
    {
     "name": "stdout",
     "output_type": "stream",
     "text": [
      "0.124106519945 3.99260422243\n"
     ]
    }
   ],
   "source": [
    "# show the parameter lambda and rho\n",
    "print(wf.lambda_, wf.rho_)"
   ]
  },
  {
   "cell_type": "code",
   "execution_count": 16,
   "metadata": {
    "collapsed": false
   },
   "outputs": [
    {
     "data": {
      "text/plain": [
       "7.3508583656842763"
      ]
     },
     "execution_count": 16,
     "metadata": {},
     "output_type": "execute_result"
    }
   ],
   "source": [
    "# calculate the median of the model\n",
    "wf.median_"
   ]
  },
  {
   "cell_type": "markdown",
   "metadata": {},
   "source": [
    "The Weibull distribution model predicts, after 7.35 months' absence, the customer has a probability of 50% to be inactive."
   ]
  },
  {
   "cell_type": "markdown",
   "metadata": {},
   "source": [
    "<a id='conclusion'></a>\n",
    "## 4 Conclusion"
   ]
  },
  {
   "cell_type": "markdown",
   "metadata": {},
   "source": [
    "Product Limit Method seems to be a effective tool to describe the status of customers. As it has been widely used in medic and ingenieering area, we can also consider to apply it into our \"Inactive Customer\" model.\n",
    "<br>\n",
    "<br>\n",
    "To build a PLM model, we should generate observations with active customer and inactive customer. A variable of period should be defined, in this example we use the absence month as the \"Product life\", another variable is the status of the customer, active or inactive, survival or unsurvival. In addition, some demographic features can be intergrated into the observation, these features can be used for group comparision.\n",
    "<br>\n",
    "<br>\n",
    "An obvious drawback of applying this model for \"Inactive Customer\" research is that we can not  estimate the maximal absence period just exactly be the \"product life\" of an active customer. This is also how this model is differnt from my previous experience."
   ]
  },
  {
   "cell_type": "code",
   "execution_count": null,
   "metadata": {
    "collapsed": true
   },
   "outputs": [],
   "source": []
  }
 ],
 "metadata": {
  "kernelspec": {
   "display_name": "Python 3",
   "language": "python",
   "name": "python3"
  },
  "language_info": {
   "codemirror_mode": {
    "name": "ipython",
    "version": 3
   },
   "file_extension": ".py",
   "mimetype": "text/x-python",
   "name": "python",
   "nbconvert_exporter": "python",
   "pygments_lexer": "ipython3",
   "version": "3.6.0"
  }
 },
 "nbformat": 4,
 "nbformat_minor": 2
}
