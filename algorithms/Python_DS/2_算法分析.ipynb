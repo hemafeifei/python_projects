{
 "cells": [
  {
   "cell_type": "markdown",
   "metadata": {},
   "source": [
    "## 2.4 一个乱序字符串检查"
   ]
  },
  {
   "cell_type": "markdown",
   "metadata": {},
   "source": [
    "### 解法1：检查\n",
    "S1的每个字符都会在s2中进行最多N个字符的迭代。s2列表中的每个位置将被访问一次来匹配s1的字符。\n",
    "<br>\n",
    "访问次数可以写成1到n整数的和。\n",
    "$$\\sum_{i=1}^{n}i=\\frac{n(n+1)}{2} \\\\\n",
    " = \\frac{1}{2}n^2 + \\frac{1}{2}n$$\n",
    "该算法的复杂度为:$O(n^2)$"
   ]
  },
  {
   "cell_type": "code",
   "execution_count": 1,
   "metadata": {
    "collapsed": true
   },
   "outputs": [],
   "source": [
    "def anagram_solution(s1, s2):\n",
    "    alist = list(s2)\n",
    "    \n",
    "    pos1 = 0\n",
    "    still0K = True\n",
    "    \n",
    "    while pos1 < len(s1) and still0K:\n",
    "        pos2 = 0\n",
    "        found = False\n",
    "        while pos2 < len(alist) and not found:\n",
    "            if s1[pos1] == alist[pos2]:\n",
    "                found = True\n",
    "            else:\n",
    "                pos2 += 1\n",
    "        \n",
    "        if found:\n",
    "            alist[pos2] = None\n",
    "        else:\n",
    "            still0K = False\n",
    "        \n",
    "        pos1 += 1\n",
    "    return still0K"
   ]
  },
  {
   "cell_type": "code",
   "execution_count": 8,
   "metadata": {
    "collapsed": false
   },
   "outputs": [
    {
     "name": "stdout",
     "output_type": "stream",
     "text": [
      "True\n"
     ]
    }
   ],
   "source": [
    "print(anagram_solution('abcd', 'dbca'))"
   ]
  },
  {
   "cell_type": "markdown",
   "metadata": {},
   "source": [
    "### 解法2：排序和比较\n",
    "python排序的成本为$O(n^2)$ or $O(nlog(n))$"
   ]
  },
  {
   "cell_type": "code",
   "execution_count": 11,
   "metadata": {
    "collapsed": true
   },
   "outputs": [],
   "source": [
    "def anagram_solution2(s1, s2):\n",
    "    alist1 = list(s1)\n",
    "    alist2 = list(s2)\n",
    "    \n",
    "    alist1.sort()\n",
    "    alist2.sort()\n",
    "    \n",
    "    pos = 0\n",
    "    \n",
    "    matches = True\n",
    "    \n",
    "    while pos < len(s1) and matches:\n",
    "        if alist1[pos]==alist2[pos]:\n",
    "            pos += 1\n",
    "        else:\n",
    "            matches = False\n",
    "    return matches\n",
    "    "
   ]
  },
  {
   "cell_type": "code",
   "execution_count": 12,
   "metadata": {
    "collapsed": false
   },
   "outputs": [
    {
     "name": "stdout",
     "output_type": "stream",
     "text": [
      "True\n"
     ]
    }
   ],
   "source": [
    "print(anagram_solution2('abcde', 'dbcae'))"
   ]
  },
  {
   "cell_type": "markdown",
   "metadata": {},
   "source": [
    "### 解法4：计数和比较\n",
    "该解法的步骤为:$T(n)=2n+26$,因此其复杂度为$O(n)$, 但是该解法需要额外增加2个字符计数列表，因此牺牲了存储空间。"
   ]
  },
  {
   "cell_type": "code",
   "execution_count": 15,
   "metadata": {
    "collapsed": true
   },
   "outputs": [],
   "source": [
    "def anagram_solution4(s1, s2):\n",
    "    c1 = [0]*26\n",
    "    c2 = [0]*26\n",
    "    \n",
    "    for i in range(len(s1)):\n",
    "        pos = ord(s1[i]) - ord('a')\n",
    "        c1[pos] = c1[pos] + 1\n",
    "    \n",
    "    for i in range(len(s2)):\n",
    "        pos = ord(s2[i]) - ord('a')\n",
    "        c2[pos] = c2[pos] + 1\n",
    "    \n",
    "    j = 0\n",
    "    still0K = True\n",
    "    while j < 26 and still0K:\n",
    "        if c1[j] == c2[j]:\n",
    "            j += 1\n",
    "        else:\n",
    "            still0K = False\n",
    "    return still0K"
   ]
  },
  {
   "cell_type": "code",
   "execution_count": 16,
   "metadata": {
    "collapsed": false
   },
   "outputs": [
    {
     "name": "stdout",
     "output_type": "stream",
     "text": [
      "True\n"
     ]
    }
   ],
   "source": [
    "print(anagram_solution4('apple', 'pleap'))"
   ]
  },
  {
   "cell_type": "code",
   "execution_count": 19,
   "metadata": {
    "collapsed": false
   },
   "outputs": [
    {
     "data": {
      "text/plain": [
       "2"
      ]
     },
     "execution_count": 19,
     "metadata": {},
     "output_type": "execute_result"
    }
   ],
   "source": [
    "ord('c') - ord('a')"
   ]
  },
  {
   "cell_type": "markdown",
   "metadata": {},
   "source": [
    "## 2.6 列表"
   ]
  },
  {
   "cell_type": "code",
   "execution_count": 20,
   "metadata": {
    "collapsed": true
   },
   "outputs": [],
   "source": [
    "def test1():\n",
    "    l = []\n",
    "    for i in range(1000):\n",
    "        l = l + [i]\n",
    "\n",
    "def test2():\n",
    "    l = []\n",
    "    for i in range(1000):\n",
    "        l.append(i)\n",
    "\n",
    "def test3():\n",
    "    l = [i for i in range(1000)]\n",
    "\n",
    "def test4():\n",
    "    l = list(range(1000))"
   ]
  },
  {
   "cell_type": "code",
   "execution_count": 24,
   "metadata": {
    "collapsed": false
   },
   "outputs": [
    {
     "name": "stdout",
     "output_type": "stream",
     "text": [
      "1000 loops, best of 3: 1.26 ms per loop\n"
     ]
    }
   ],
   "source": [
    "%timeit test1()"
   ]
  },
  {
   "cell_type": "code",
   "execution_count": 25,
   "metadata": {
    "collapsed": false
   },
   "outputs": [
    {
     "name": "stdout",
     "output_type": "stream",
     "text": [
      "10000 loops, best of 3: 98.4 µs per loop\n"
     ]
    }
   ],
   "source": [
    "%timeit test2()"
   ]
  },
  {
   "cell_type": "code",
   "execution_count": 26,
   "metadata": {
    "collapsed": false
   },
   "outputs": [
    {
     "name": "stdout",
     "output_type": "stream",
     "text": [
      "10000 loops, best of 3: 42.4 µs per loop\n"
     ]
    }
   ],
   "source": [
    "%timeit test3()"
   ]
  },
  {
   "cell_type": "code",
   "execution_count": 27,
   "metadata": {
    "collapsed": false
   },
   "outputs": [
    {
     "name": "stdout",
     "output_type": "stream",
     "text": [
      "100000 loops, best of 3: 17 µs per loop\n"
     ]
    }
   ],
   "source": [
    "%timeit test4()"
   ]
  },
  {
   "cell_type": "code",
   "execution_count": null,
   "metadata": {
    "collapsed": true
   },
   "outputs": [],
   "source": []
  }
 ],
 "metadata": {
  "kernelspec": {
   "display_name": "Python 3",
   "language": "python",
   "name": "python3"
  },
  "language_info": {
   "codemirror_mode": {
    "name": "ipython",
    "version": 3
   },
   "file_extension": ".py",
   "mimetype": "text/x-python",
   "name": "python",
   "nbconvert_exporter": "python",
   "pygments_lexer": "ipython3",
   "version": "3.6.0"
  }
 },
 "nbformat": 4,
 "nbformat_minor": 2
}
