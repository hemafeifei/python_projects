{
 "cells": [
  {
   "cell_type": "markdown",
   "metadata": {},
   "source": [
    "### 二分查找\n",
    "其复杂度为$O(logn)$"
   ]
  },
  {
   "cell_type": "code",
   "execution_count": 5,
   "metadata": {
    "collapsed": true
   },
   "outputs": [],
   "source": [
    "def binary_search(alist, item):\n",
    "    first = 0\n",
    "    last = len(alist) - 1\n",
    "    found = False\n",
    "    \n",
    "    while first < last and not found:\n",
    "        midpoint = (first + last) // 2\n",
    "        if alist[midpoint] == item:\n",
    "            found = True\n",
    "        else:\n",
    "            if item > alist[midpoint]:\n",
    "                first = midpoint + 1\n",
    "            else:\n",
    "                last = midpoint - 1\n",
    "    return found"
   ]
  },
  {
   "cell_type": "code",
   "execution_count": 6,
   "metadata": {
    "collapsed": true
   },
   "outputs": [],
   "source": [
    "testlist = [0, 1, 2, 8, 13, 17, 19, 32, 42,]"
   ]
  },
  {
   "cell_type": "code",
   "execution_count": 7,
   "metadata": {
    "collapsed": false
   },
   "outputs": [
    {
     "name": "stdout",
     "output_type": "stream",
     "text": [
      "False\n"
     ]
    }
   ],
   "source": [
    "print(binary_search(testlist, 3))"
   ]
  },
  {
   "cell_type": "markdown",
   "metadata": {},
   "source": [
    "### 选择排序\n",
    "选择排序每次遍历列表找到最大值，并放到列表正确的位置。\n",
    "<br>\n",
    "选择排序的复杂度为$O(n^2)$"
   ]
  },
  {
   "cell_type": "code",
   "execution_count": 8,
   "metadata": {
    "collapsed": true
   },
   "outputs": [],
   "source": [
    "def selection_sort(alist):\n",
    "    for fillslot in range(len(alist)-1, 0, -1):\n",
    "        position_of_max = 0\n",
    "        for location in range(1, fillslot+1):\n",
    "            if alist[location] > alist[position_of_max]:\n",
    "                position_of_max = location\n",
    "        \n",
    "        temp = alist[fillslot]\n",
    "        # 取到最大值\n",
    "        alist[fillslot] = alist[position_of_max]\n",
    "        # 1次交换\n",
    "        alist[position_of_max] = temp"
   ]
  },
  {
   "cell_type": "code",
   "execution_count": 10,
   "metadata": {
    "collapsed": false
   },
   "outputs": [
    {
     "name": "stdout",
     "output_type": "stream",
     "text": [
      "[17, 20, 26, 31, 44, 54, 55, 77, 93]\n"
     ]
    }
   ],
   "source": [
    "alist = [54,26,93,17,77,31,44,55,20]\n",
    "selection_sort(alist)\n",
    "print(alist)"
   ]
  },
  {
   "cell_type": "code",
   "execution_count": 17,
   "metadata": {
    "collapsed": true
   },
   "outputs": [],
   "source": [
    "blist = [54,26,93,17,77,31,44,55,20]\n",
    "temp = blist[-1]\n",
    "blist[-1] = blist[2]\n",
    "blist[2] = temp"
   ]
  },
  {
   "cell_type": "code",
   "execution_count": 18,
   "metadata": {
    "collapsed": false
   },
   "outputs": [
    {
     "data": {
      "text/plain": [
       "[54, 26, 20, 17, 77, 31, 44, 55, 93]"
      ]
     },
     "execution_count": 18,
     "metadata": {},
     "output_type": "execute_result"
    }
   ],
   "source": [
    "blist"
   ]
  },
  {
   "cell_type": "markdown",
   "metadata": {},
   "source": [
    "### 插入排序\n",
    "插入排序的复杂度依然为$O(n^2)$"
   ]
  },
  {
   "cell_type": "code",
   "execution_count": 19,
   "metadata": {
    "collapsed": true
   },
   "outputs": [],
   "source": [
    "def insert_sort(alist):\n",
    "    for index in range(1, len(alist)):\n",
    "        current_value = alist[index]\n",
    "        position = index\n",
    "        \n",
    "        while position>0 and alist[position-1]>current_value:\n",
    "            alist[position]=alist[position-1]\n",
    "            position = position - 1\n",
    "        \n",
    "        alist[position] = current_value"
   ]
  },
  {
   "cell_type": "code",
   "execution_count": 21,
   "metadata": {
    "collapsed": false
   },
   "outputs": [
    {
     "name": "stdout",
     "output_type": "stream",
     "text": [
      "[17, 20, 26, 31, 44, 54, 55, 77, 93]\n"
     ]
    }
   ],
   "source": [
    "alist = [54,26,93,17,77,31,44,55,20]\n",
    "insert_sort(alist)\n",
    "print(alist)"
   ]
  },
  {
   "cell_type": "markdown",
   "metadata": {},
   "source": [
    "### 归并排序 Merge sort"
   ]
  },
  {
   "cell_type": "code",
   "execution_count": 25,
   "metadata": {
    "collapsed": true
   },
   "outputs": [],
   "source": [
    "def merge_sort(alist):\n",
    "    print(\"Splitting\", alist)\n",
    "    if len(alist) > 1:\n",
    "        mid = len(alist)//2\n",
    "        left_half = alist[:mid]\n",
    "        right_half = alist[mid:]\n",
    "        \n",
    "        merge_sort(left_half)\n",
    "        merge_sort(right_half)\n",
    "        \n",
    "        i = 0\n",
    "        j = 0\n",
    "        k = 0\n",
    "        while i < len(left_half) and j < len(right_half):\n",
    "            if left_half[i] < right_half[j]:\n",
    "                alist[k] = left_half[i]\n",
    "                i += 1\n",
    "            else:\n",
    "                alist[k] = right_half[j]\n",
    "                j += 1\n",
    "            k += 1\n",
    "        \n",
    "        while i < len(left_half):\n",
    "            alist[k] = left_half[i]\n",
    "            i += 1\n",
    "            k += 1\n",
    "        \n",
    "        while j < len(right_half):\n",
    "            alist[k] = right_half[j]\n",
    "            j += 1\n",
    "            k += 1\n",
    "    print(\"Merging\", alist)"
   ]
  },
  {
   "cell_type": "code",
   "execution_count": 26,
   "metadata": {
    "collapsed": false
   },
   "outputs": [
    {
     "name": "stdout",
     "output_type": "stream",
     "text": [
      "Splitting [54, 26, 93, 17, 77, 31, 44, 55, 20]\n",
      "Splitting [54, 26, 93, 17]\n",
      "Splitting [54, 26]\n",
      "Splitting [54]\n",
      "Merging [54]\n",
      "Splitting [26]\n",
      "Merging [26]\n",
      "Merging [26, 54]\n",
      "Splitting [93, 17]\n",
      "Splitting [93]\n",
      "Merging [93]\n",
      "Splitting [17]\n",
      "Merging [17]\n",
      "Merging [17, 93]\n",
      "Merging [17, 26, 54, 93]\n",
      "Splitting [77, 31, 44, 55, 20]\n",
      "Splitting [77, 31]\n",
      "Splitting [77]\n",
      "Merging [77]\n",
      "Splitting [31]\n",
      "Merging [31]\n",
      "Merging [31, 77]\n",
      "Splitting [44, 55, 20]\n",
      "Splitting [44]\n",
      "Merging [44]\n",
      "Splitting [55, 20]\n",
      "Splitting [55]\n",
      "Merging [55]\n",
      "Splitting [20]\n",
      "Merging [20]\n",
      "Merging [20, 55]\n",
      "Merging [20, 44, 55]\n",
      "Merging [20, 31, 44, 55, 77]\n",
      "Merging [17, 20, 26, 31, 44, 54, 55, 77, 93]\n"
     ]
    }
   ],
   "source": [
    "alist = [54,26,93,17,77,31,44,55,20]\n",
    "merge_sort(alist)"
   ]
  },
  {
   "cell_type": "code",
   "execution_count": 27,
   "metadata": {
    "collapsed": false
   },
   "outputs": [
    {
     "name": "stdout",
     "output_type": "stream",
     "text": [
      "[17, 20, 26, 31, 44, 54, 55, 77, 93]\n"
     ]
    }
   ],
   "source": [
    "print(alist)"
   ]
  },
  {
   "cell_type": "markdown",
   "metadata": {},
   "source": [
    "Merge sort 的计算复杂度为$O(nlogn)$"
   ]
  },
  {
   "cell_type": "code",
   "execution_count": null,
   "metadata": {
    "collapsed": true
   },
   "outputs": [],
   "source": []
  }
 ],
 "metadata": {
  "kernelspec": {
   "display_name": "Python 3",
   "language": "python",
   "name": "python3"
  },
  "language_info": {
   "codemirror_mode": {
    "name": "ipython",
    "version": 3
   },
   "file_extension": ".py",
   "mimetype": "text/x-python",
   "name": "python",
   "nbconvert_exporter": "python",
   "pygments_lexer": "ipython3",
   "version": "3.6.0"
  }
 },
 "nbformat": 4,
 "nbformat_minor": 2
}
