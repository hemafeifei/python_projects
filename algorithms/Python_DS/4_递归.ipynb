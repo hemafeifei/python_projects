{
 "cells": [
  {
   "cell_type": "markdown",
   "metadata": {},
   "source": [
    "### 计算列表之和"
   ]
  },
  {
   "cell_type": "code",
   "execution_count": 7,
   "metadata": {
    "collapsed": false
   },
   "outputs": [],
   "source": [
    "def listsum(num_list):\n",
    "    if len(num_list) == 1:\n",
    "        return num_list[0]\n",
    "    else:\n",
    "        return num_list[0] + listsum(num_list[1:])"
   ]
  },
  {
   "cell_type": "code",
   "execution_count": 8,
   "metadata": {
    "collapsed": false
   },
   "outputs": [
    {
     "name": "stdout",
     "output_type": "stream",
     "text": [
      "100000 loops, best of 3: 2.22 µs per loop\n"
     ]
    }
   ],
   "source": [
    "%timeit listsum([1,3,4,5,6,8])"
   ]
  },
  {
   "cell_type": "code",
   "execution_count": 12,
   "metadata": {
    "collapsed": false
   },
   "outputs": [
    {
     "name": "stdout",
     "output_type": "stream",
     "text": [
      "The slowest run took 5.89 times longer than the fastest. This could mean that an intermediate result is being cached.\n",
      "1000000 loops, best of 3: 299 ns per loop\n"
     ]
    }
   ],
   "source": [
    "%timeit sum([1,3,4,5,6,8])"
   ]
  },
  {
   "cell_type": "markdown",
   "metadata": {},
   "source": [
    "**递归的三定律**\n",
    "- 递归算法必须有基本情况\n",
    "- 递归算法必须改变其状态并向基本情况靠近\n",
    "- 递归算法必须以递归方式调用自身"
   ]
  },
  {
   "cell_type": "markdown",
   "metadata": {
    "collapsed": true
   },
   "source": [
    "### 整数转换为任意进制字符"
   ]
  },
  {
   "cell_type": "code",
   "execution_count": 3,
   "metadata": {
    "collapsed": true
   },
   "outputs": [],
   "source": [
    "def to_string(n, base):\n",
    "    convert_string = '0123456789ABCDEF'\n",
    "    if n < base:\n",
    "        return convert_string[n]\n",
    "    else:\n",
    "        return to_string(n//base, base) + convert_string[n%base]"
   ]
  },
  {
   "cell_type": "code",
   "execution_count": 4,
   "metadata": {
    "collapsed": false
   },
   "outputs": [
    {
     "name": "stdout",
     "output_type": "stream",
     "text": [
      "5AD\n"
     ]
    }
   ],
   "source": [
    "print(to_string(1453, 16))"
   ]
  },
  {
   "cell_type": "code",
   "execution_count": 5,
   "metadata": {
    "collapsed": false
   },
   "outputs": [
    {
     "name": "stdout",
     "output_type": "stream",
     "text": [
      "1453\n"
     ]
    }
   ],
   "source": [
    "print(to_string(1453, 10))"
   ]
  },
  {
   "cell_type": "code",
   "execution_count": 6,
   "metadata": {
    "collapsed": false
   },
   "outputs": [
    {
     "name": "stdout",
     "output_type": "stream",
     "text": [
      "10110101101\n"
     ]
    }
   ],
   "source": [
    "print(to_string(1453, 2))"
   ]
  },
  {
   "cell_type": "markdown",
   "metadata": {},
   "source": [
    "### 汉诺塔游戏"
   ]
  },
  {
   "cell_type": "code",
   "execution_count": 13,
   "metadata": {
    "collapsed": true
   },
   "outputs": [],
   "source": [
    "def move_tower(height, from_pole, to_pole, with_pole):\n",
    "    if height >= 1:\n",
    "        move_tower(height-1, from_pole, with_pole, to_pole)\n",
    "        move_disk(from_pole, to_pole)\n",
    "        move_tower(height-1, with_pole, to_pole, from_pole)\n",
    "\n",
    "def move_disk(fp, tp):\n",
    "    print(\"moving disk from\", fp, \"to\", tp)"
   ]
  },
  {
   "cell_type": "markdown",
   "metadata": {},
   "source": [
    "### 动态规划"
   ]
  },
  {
   "cell_type": "markdown",
   "metadata": {},
   "source": [
    "硬币找零钱问题\n"
   ]
  },
  {
   "cell_type": "code",
   "execution_count": 18,
   "metadata": {
    "collapsed": true
   },
   "outputs": [],
   "source": [
    "# 低效的办法\n",
    "def rec_mc(coin_value_list, change):\n",
    "    min_coins = change\n",
    "    if change in coin_value_list:\n",
    "        return 1\n",
    "    else:\n",
    "        for i in [c for c in coin_value_list if c <= change]:\n",
    "            num_coins = 1 + rec_mc(coin_value_list, change - i)\n",
    "            if num_coins < min_coins:\n",
    "                min_coins = num_coins\n",
    "    return min_coins"
   ]
  },
  {
   "cell_type": "code",
   "execution_count": 20,
   "metadata": {
    "collapsed": false
   },
   "outputs": [
    {
     "name": "stdout",
     "output_type": "stream",
     "text": [
      "6\n",
      "6\n",
      "6\n",
      "6\n",
      "1 loop, best of 3: 46.9 s per loop\n"
     ]
    }
   ],
   "source": [
    "%timeit print(rec_mc([1,5,10,25], 63))"
   ]
  },
  {
   "cell_type": "markdown",
   "metadata": {},
   "source": [
    "稍微优化一点的方法是将递归过程中计算的结果存储在列表known_list当中，后面直接调用结果."
   ]
  },
  {
   "cell_type": "code",
   "execution_count": 23,
   "metadata": {
    "collapsed": true
   },
   "outputs": [],
   "source": [
    "\n",
    "def rec_dc(coin_value_list, change, known_results):\n",
    "    min_coins = change\n",
    "    if change in coin_value_list:\n",
    "        known_results = 1\n",
    "        return 1\n",
    "    elif known_results[change] > 0:\n",
    "        return known_results[change]\n",
    "    else:\n",
    "        for i in [c for c in coin_value_list if c <= change]:\n",
    "            num_coins = 1 + rec_dc(coin_value_list, change-i, known_results)\n",
    "            \n",
    "            if num_coins < min_coins:\n",
    "                min_coins = num_coins\n",
    "                known_results[change] = min_coins\n",
    "    return min_coins"
   ]
  },
  {
   "cell_type": "code",
   "execution_count": 25,
   "metadata": {
    "collapsed": false
   },
   "outputs": [
    {
     "name": "stdout",
     "output_type": "stream",
     "text": [
      "6\n",
      "CPU times: user 448 µs, sys: 244 µs, total: 692 µs\n",
      "Wall time: 549 µs\n"
     ]
    }
   ],
   "source": [
    "%time print(rec_dc([1,5,10,25], 63, [0]*64))"
   ]
  },
  {
   "cell_type": "markdown",
   "metadata": {},
   "source": [
    "**动态规划方法, 注意下面的函数并不是递归函数。**"
   ]
  },
  {
   "cell_type": "code",
   "execution_count": 26,
   "metadata": {
    "collapsed": true
   },
   "outputs": [],
   "source": [
    "def dp_make_change(coin_value_list, change, min_coins):\n",
    "    for cents in range(change+1):\n",
    "        coin_count = cents\n",
    "        for j in [c for c in coin_value_list if c < cents]:\n",
    "            if min_coins[cents-j] + 1 < coin_count:\n",
    "                coin_count = min_coins[cents-j] + 1\n",
    "        min_coins[cents] = coin_count\n",
    "    return min_coins[change]"
   ]
  },
  {
   "cell_type": "code",
   "execution_count": 32,
   "metadata": {
    "collapsed": false
   },
   "outputs": [
    {
     "name": "stdout",
     "output_type": "stream",
     "text": [
      "6\n",
      "CPU times: user 627 µs, sys: 696 µs, total: 1.32 ms\n",
      "Wall time: 814 µs\n"
     ]
    }
   ],
   "source": [
    "%time print(dp_make_change([1,5,10,25], 63, [0]*64))"
   ]
  },
  {
   "cell_type": "code",
   "execution_count": null,
   "metadata": {
    "collapsed": true
   },
   "outputs": [],
   "source": []
  }
 ],
 "metadata": {
  "kernelspec": {
   "display_name": "Python 3",
   "language": "python",
   "name": "python3"
  },
  "language_info": {
   "codemirror_mode": {
    "name": "ipython",
    "version": 3
   },
   "file_extension": ".py",
   "mimetype": "text/x-python",
   "name": "python",
   "nbconvert_exporter": "python",
   "pygments_lexer": "ipython3",
   "version": "3.6.0"
  }
 },
 "nbformat": 4,
 "nbformat_minor": 2
}
