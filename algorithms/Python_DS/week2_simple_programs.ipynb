{
 "cells": [
  {
   "cell_type": "markdown",
   "metadata": {},
   "source": [
    "### Approximate solutions"
   ]
  },
  {
   "cell_type": "code",
   "execution_count": 5,
   "metadata": {
    "collapsed": true
   },
   "outputs": [],
   "source": [
    "def calcu_cube(number, increment, epsilon):\n",
    "    \n",
    "    cube = number\n",
    "    epsilon = epsilon\n",
    "    guess = 0.0\n",
    "    increment = increment\n",
    "    number_guess = 0\n",
    "    while abs(guess**3 - cube) >= epsilon and guess <= cube:\n",
    "        guess += increment\n",
    "        number_guess += 1\n",
    "    print(\"number of guess =\", number_guess)\n",
    "    if (abs(guess**3 - cube) >= epsilon):\n",
    "        print(\"Failed on cube root of \", cube)\n",
    "    else:\n",
    "        print(guess, \"is the cube root of \", cube)"
   ]
  },
  {
   "cell_type": "code",
   "execution_count": 18,
   "metadata": {
    "collapsed": false
   },
   "outputs": [
    {
     "name": "stdout",
     "output_type": "stream",
     "text": [
      "number of guess = 500\n",
      "4.999999999999938 is the cube root of  125\n"
     ]
    }
   ],
   "source": [
    "calcu_cube(125, 0.01, 1e-3)"
   ]
  },
  {
   "cell_type": "markdown",
   "metadata": {},
   "source": [
    "### Bisection search"
   ]
  },
  {
   "cell_type": "code",
   "execution_count": 21,
   "metadata": {
    "collapsed": true
   },
   "outputs": [],
   "source": [
    "def calcu_bisec(number, epsilon):\n",
    "    x = number\n",
    "    epsilon = epsilon\n",
    "    number_guess = 0\n",
    "    low = 1\n",
    "    high = x\n",
    "    ans = (high + low)/2\n",
    "    \n",
    "    while abs(ans**3 - number) >= epsilon and ans <= x:\n",
    "        print(\"low=\",low, \"high=\",high,\"ans=\",ans)\n",
    "        number_guess += 1\n",
    "        if ans**3 < x:\n",
    "            low = ans\n",
    "        else:\n",
    "            high = ans\n",
    "        ans = (high + low)/2\n",
    "    print(\"number of guess =\", number_guess)\n",
    "    print(ans, \" is close to cube root of \", number)"
   ]
  },
  {
   "cell_type": "code",
   "execution_count": 24,
   "metadata": {
    "collapsed": false
   },
   "outputs": [
    {
     "name": "stdout",
     "output_type": "stream",
     "text": [
      "low= 1 high= 125 ans= 63.0\n",
      "low= 1 high= 63.0 ans= 32.0\n",
      "low= 1 high= 32.0 ans= 16.5\n",
      "low= 1 high= 16.5 ans= 8.75\n",
      "low= 1 high= 8.75 ans= 4.875\n",
      "low= 4.875 high= 8.75 ans= 6.8125\n",
      "low= 4.875 high= 6.8125 ans= 5.84375\n",
      "low= 4.875 high= 5.84375 ans= 5.359375\n",
      "low= 4.875 high= 5.359375 ans= 5.1171875\n",
      "low= 4.875 high= 5.1171875 ans= 4.99609375\n",
      "low= 4.99609375 high= 5.1171875 ans= 5.056640625\n",
      "low= 4.99609375 high= 5.056640625 ans= 5.0263671875\n",
      "low= 4.99609375 high= 5.0263671875 ans= 5.01123046875\n",
      "low= 4.99609375 high= 5.01123046875 ans= 5.003662109375\n",
      "low= 4.99609375 high= 5.003662109375 ans= 4.9998779296875\n",
      "low= 4.9998779296875 high= 5.003662109375 ans= 5.00177001953125\n",
      "low= 4.9998779296875 high= 5.00177001953125 ans= 5.000823974609375\n",
      "low= 4.9998779296875 high= 5.000823974609375 ans= 5.0003509521484375\n",
      "low= 4.9998779296875 high= 5.0003509521484375 ans= 5.000114440917969\n",
      "number of guess = 19\n",
      "4.999996185302734  is close to cube root of  125\n"
     ]
    }
   ],
   "source": [
    "calcu_bisec(125, 0.001)"
   ]
  },
  {
   "cell_type": "markdown",
   "metadata": {},
   "source": [
    "### Newton raphson"
   ]
  },
  {
   "cell_type": "markdown",
   "metadata": {},
   "source": [
    "$$ g = g - \\frac{f(x)}{f'(x)}$$\n",
    "<br>\n",
    "In this example, we have\n",
    "<br>\n",
    "$$f(x) = x^3 - 125$$"
   ]
  },
  {
   "cell_type": "code",
   "execution_count": 25,
   "metadata": {
    "collapsed": true
   },
   "outputs": [],
   "source": [
    "def calcu_newton(number, epsilon):\n",
    "    epsilon = epsilon\n",
    "    y = number\n",
    "    guess = y/2.0\n",
    "    number_guess = 0\n",
    "    \n",
    "    while abs(guess**3 - y) >= epsilon:\n",
    "        number_guess += 1\n",
    "        guess = guess -((guess**3)-y)/(3*guess**2)\n",
    "        print(\"current guess is \", guess)\n",
    "    print(\"number of guess = \", number_guess)\n",
    "    print(\"cube root of \", number, \" is \", guess)"
   ]
  },
  {
   "cell_type": "code",
   "execution_count": 26,
   "metadata": {
    "collapsed": false
   },
   "outputs": [
    {
     "name": "stdout",
     "output_type": "stream",
     "text": [
      "current guess is  41.67733333333334\n",
      "current guess is  27.808876605605874\n",
      "current guess is  18.593130360911005\n",
      "current guess is  12.515947069370945\n",
      "current guess is  8.60995227113835\n",
      "current guess is  6.3020341228045735\n",
      "current guess is  5.25048113366917\n",
      "current guess is  5.011759510392058\n",
      "current guess is  5.000027570741767\n",
      "current guess is  5.000000000152028\n",
      "number of guess =  10\n",
      "cube root of  125  is  5.000000000152028\n"
     ]
    }
   ],
   "source": [
    "calcu_newton(125, 1e-3)"
   ]
  },
  {
   "cell_type": "code",
   "execution_count": null,
   "metadata": {
    "collapsed": true
   },
   "outputs": [],
   "source": []
  }
 ],
 "metadata": {
  "kernelspec": {
   "display_name": "Python 3",
   "language": "python",
   "name": "python3"
  },
  "language_info": {
   "codemirror_mode": {
    "name": "ipython",
    "version": 3
   },
   "file_extension": ".py",
   "mimetype": "text/x-python",
   "name": "python",
   "nbconvert_exporter": "python",
   "pygments_lexer": "ipython3",
   "version": "3.6.0"
  }
 },
 "nbformat": 4,
 "nbformat_minor": 2
}
