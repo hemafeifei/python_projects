{
 "cells": [
  {
   "cell_type": "markdown",
   "metadata": {},
   "source": [
    "说明：\n",
    "1.使用make_classification建立数据\n",
    "2.使用SelectKBest选择过滤的方式\n",
    "3.创建SVC分类函数\n",
    "4.使用make_pipeline合并过滤器和分类函数\n",
    "5.用fit训练，并用predict预测."
   ]
  },
  {
   "cell_type": "code",
   "execution_count": 1,
   "metadata": {
    "collapsed": true
   },
   "outputs": [],
   "source": [
    "from sklearn import svm\n",
    "from sklearn.datasets import samples_generator\n",
    "from sklearn.feature_selection import SelectKBest, f_regression\n",
    "from sklearn.pipeline import make_pipeline"
   ]
  },
  {
   "cell_type": "code",
   "execution_count": 3,
   "metadata": {
    "collapsed": false
   },
   "outputs": [],
   "source": [
    "X,y = samples_generator.make_classification(\n",
    "    n_features = 20, n_informative =3, n_redundant=0,\n",
    "    n_classes=4, n_clusters_per_class=2)"
   ]
  },
  {
   "cell_type": "code",
   "execution_count": 4,
   "metadata": {
    "collapsed": true
   },
   "outputs": [],
   "source": [
    "#ANOVA SVM-C\n",
    "anova_filter = SelectKBest(f_regression, k=3)\n"
   ]
  },
  {
   "cell_type": "code",
   "execution_count": 5,
   "metadata": {
    "collapsed": true
   },
   "outputs": [],
   "source": [
    "clf = svm.SVC(kernel='linear')"
   ]
  },
  {
   "cell_type": "code",
   "execution_count": 6,
   "metadata": {
    "collapsed": false
   },
   "outputs": [
    {
     "data": {
      "text/plain": [
       "array([0, 2, 3, 2, 2, 2, 2, 0, 2, 2, 1, 0, 1, 0, 1, 2, 1, 0, 2, 1, 3, 2, 3,\n",
       "       0, 3, 0, 0, 1, 2, 0, 3, 1, 1, 0, 1, 0, 2, 3, 1, 1, 3, 1, 0, 2, 2, 1,\n",
       "       0, 3, 1, 0, 0, 1, 2, 1, 3, 1, 3, 2, 2, 0, 2, 2, 1, 3, 3, 2, 1, 2, 0,\n",
       "       1, 1, 3, 3, 1, 1, 3, 3, 3, 2, 2, 1, 3, 1, 2, 2, 2, 1, 2, 2, 0, 3, 2,\n",
       "       0, 2, 2, 1, 0, 0, 2, 0])"
      ]
     },
     "execution_count": 6,
     "metadata": {},
     "output_type": "execute_result"
    }
   ],
   "source": [
    "anova_svm = make_pipeline(anova_filter, clf)\n",
    "anova_svm.fit(X,y)\n",
    "anova_svm.predict(X)"
   ]
  },
  {
   "cell_type": "code",
   "execution_count": 7,
   "metadata": {
    "collapsed": true
   },
   "outputs": [],
   "source": [
    "from sklearn.model_selection import cross_val_score"
   ]
  },
  {
   "cell_type": "code",
   "execution_count": 8,
   "metadata": {
    "collapsed": false
   },
   "outputs": [
    {
     "data": {
      "text/plain": [
       "array([ 0.61904762,  0.75      ,  0.75      ,  0.65      ,  0.68421053])"
      ]
     },
     "execution_count": 8,
     "metadata": {},
     "output_type": "execute_result"
    }
   ],
   "source": [
    "#测试一下常规模型分数\n",
    "cross_val_score(clf,X,y, cv=5)"
   ]
  },
  {
   "cell_type": "code",
   "execution_count": 12,
   "metadata": {
    "collapsed": false
   },
   "outputs": [
    {
     "data": {
      "text/plain": [
       "array([ 0.61904762,  0.95      ,  0.75      ,  0.7       ,  0.73684211])"
      ]
     },
     "execution_count": 12,
     "metadata": {},
     "output_type": "execute_result"
    }
   ],
   "source": [
    "#测试pipeline后的模型分数\n",
    "cross_val_score(anova_svm, X,y, cv=5)"
   ]
  },
  {
   "cell_type": "code",
   "execution_count": null,
   "metadata": {
    "collapsed": true
   },
   "outputs": [],
   "source": []
  }
 ],
 "metadata": {
  "kernelspec": {
   "display_name": "Python 3",
   "language": "python",
   "name": "python3"
  },
  "language_info": {
   "codemirror_mode": {
    "name": "ipython",
    "version": 3
   },
   "file_extension": ".py",
   "mimetype": "text/x-python",
   "name": "python",
   "nbconvert_exporter": "python",
   "pygments_lexer": "ipython3",
   "version": "3.6.0"
  }
 },
 "nbformat": 4,
 "nbformat_minor": 2
}
