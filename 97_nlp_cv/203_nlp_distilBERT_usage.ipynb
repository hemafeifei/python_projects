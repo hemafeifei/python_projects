{
 "cells": [
  {
   "cell_type": "markdown",
   "metadata": {},
   "source": [
    "* Author: Wei\n",
    "> Updated: Mar'2021"
   ]
  },
  {
   "cell_type": "code",
   "execution_count": 102,
   "metadata": {},
   "outputs": [],
   "source": [
    "from transformers import AutoTokenizer, TFAutoModelForSequenceClassification\n",
    "import tensorflow as tf\n",
    "from pprint import pprint\n",
    "from sklearn.model_selection import train_test_split\n",
    "from pathlib import Path\n",
    "from sklearn.metrics import confusion_matrix,f1_score,classification_report, accuracy_score\n",
    "import transformers\n",
    "from tokenizers import BertWordPieceTokenizer\n",
    "from tqdm import tqdm"
   ]
  },
  {
   "cell_type": "code",
   "execution_count": 4,
   "metadata": {},
   "outputs": [
    {
     "name": "stderr",
     "output_type": "stream",
     "text": [
      "Some layers from the model checkpoint at distilbert-base-uncased were not used when initializing TFDistilBertForSequenceClassification: ['vocab_transform', 'vocab_projector', 'vocab_layer_norm', 'activation_13']\n",
      "- This IS expected if you are initializing TFDistilBertForSequenceClassification from the checkpoint of a model trained on another task or with another architecture (e.g. initializing a BertForSequenceClassification model from a BertForPreTraining model).\n",
      "- This IS NOT expected if you are initializing TFDistilBertForSequenceClassification from the checkpoint of a model that you expect to be exactly identical (initializing a BertForSequenceClassification model from a BertForSequenceClassification model).\n",
      "Some layers of TFDistilBertForSequenceClassification were not initialized from the model checkpoint at distilbert-base-uncased and are newly initialized: ['classifier', 'dropout_19', 'pre_classifier']\n",
      "You should probably TRAIN this model on a down-stream task to be able to use it for predictions and inference.\n"
     ]
    },
    {
     "name": "stdout",
     "output_type": "stream",
     "text": [
      "CPU times: user 2.57 s, sys: 1.67 s, total: 4.23 s\n",
      "Wall time: 7.6 s\n"
     ]
    }
   ],
   "source": [
    "%%time\n",
    "tokenizer = AutoTokenizer.from_pretrained(\"distilbert-base-uncased\")\n",
    "model = TFAutoModelForSequenceClassification.from_pretrained(\"distilbert-base-uncased\")"
   ]
  },
  {
   "cell_type": "code",
   "execution_count": 5,
   "metadata": {},
   "outputs": [
    {
     "name": "stdout",
     "output_type": "stream",
     "text": [
      "Model: \"tf_distil_bert_for_sequence_classification\"\n",
      "_________________________________________________________________\n",
      "Layer (type)                 Output Shape              Param #   \n",
      "=================================================================\n",
      "distilbert (TFDistilBertMain multiple                  66362880  \n",
      "_________________________________________________________________\n",
      "pre_classifier (Dense)       multiple                  590592    \n",
      "_________________________________________________________________\n",
      "classifier (Dense)           multiple                  1538      \n",
      "_________________________________________________________________\n",
      "dropout_19 (Dropout)         multiple                  0         \n",
      "=================================================================\n",
      "Total params: 66,955,010\n",
      "Trainable params: 66,955,010\n",
      "Non-trainable params: 0\n",
      "_________________________________________________________________\n"
     ]
    }
   ],
   "source": [
    "model.summary()"
   ]
  },
  {
   "cell_type": "markdown",
   "metadata": {},
   "source": [
    "## 1 preprocessing"
   ]
  },
  {
   "cell_type": "code",
   "execution_count": 18,
   "metadata": {},
   "outputs": [],
   "source": [
    "batch_sentences = [\"Price and policy fears drive Chinese investors into cloistered stocks.\",\n",
    "                    \"Growth-oriented stocks have suffered globally in recent weeks from rising concerns over inflation.\",\n",
    "                    \"Stocks advanced on Thursday and the Dow and S&P 500 each set record highs after President Joe Biden signed into law another expansive coronavirus relief package.\"]\n",
    "encoded_inputs = tokenizer(batch_sentences, padding=True, truncation=True, return_tensors=\"tf\")\n",
    "# print(encoded_inputs)"
   ]
  },
  {
   "cell_type": "code",
   "execution_count": 19,
   "metadata": {},
   "outputs": [
    {
     "name": "stdout",
     "output_type": "stream",
     "text": [
      "{'attention_mask': <tf.Tensor: shape=(3, 33), dtype=int32, numpy=\n",
      "array([[1, 1, 1, 1, 1, 1, 1, 1, 1, 1, 1, 1, 1, 1, 1, 0, 0, 0, 0, 0, 0, 0,\n",
      "        0, 0, 0, 0, 0, 0, 0, 0, 0, 0, 0],\n",
      "       [1, 1, 1, 1, 1, 1, 1, 1, 1, 1, 1, 1, 1, 1, 1, 1, 1, 1, 0, 0, 0, 0,\n",
      "        0, 0, 0, 0, 0, 0, 0, 0, 0, 0, 0],\n",
      "       [1, 1, 1, 1, 1, 1, 1, 1, 1, 1, 1, 1, 1, 1, 1, 1, 1, 1, 1, 1, 1, 1,\n",
      "        1, 1, 1, 1, 1, 1, 1, 1, 1, 1, 1]], dtype=int32)>,\n",
      " 'input_ids': <tf.Tensor: shape=(3, 33), dtype=int32, numpy=\n",
      "array([[  101,  3976,  1998,  3343, 10069,  3298,  2822,  9387,  2046,\n",
      "        18856, 10054, 14050, 15768,  1012,   102,     0,     0,     0,\n",
      "            0,     0,     0,     0,     0,     0,     0,     0,     0,\n",
      "            0,     0,     0,     0,     0,     0],\n",
      "       [  101,  3930,  1011,  8048, 15768,  2031,  4265, 16452,  1999,\n",
      "         3522,  3134,  2013,  4803,  5936,  2058, 14200,  1012,   102,\n",
      "            0,     0,     0,     0,     0,     0,     0,     0,     0,\n",
      "            0,     0,     0,     0,     0,     0],\n",
      "       [  101, 15768,  3935,  2006,  9432,  1998,  1996, 23268,  1998,\n",
      "         1055,  1004,  1052,  3156,  2169,  2275,  2501, 26836,  2044,\n",
      "         2343,  3533,  7226,  2368,  2772,  2046,  2375,  2178, 25145,\n",
      "        21887, 23350,  4335,  7427,  1012,   102]], dtype=int32)>}\n"
     ]
    }
   ],
   "source": [
    "pprint(encoded_inputs)"
   ]
  },
  {
   "cell_type": "code",
   "execution_count": 20,
   "metadata": {},
   "outputs": [
    {
     "name": "stdout",
     "output_type": "stream",
     "text": [
      "[CLS] price and policy fears drive chinese investors into cloistered stocks. [SEP] [PAD] [PAD] [PAD] [PAD] [PAD] [PAD] [PAD] [PAD] [PAD] [PAD] [PAD] [PAD] [PAD] [PAD] [PAD] [PAD] [PAD] [PAD]\n",
      " \n",
      "[CLS] growth - oriented stocks have suffered globally in recent weeks from rising concerns over inflation. [SEP] [PAD] [PAD] [PAD] [PAD] [PAD] [PAD] [PAD] [PAD] [PAD] [PAD] [PAD] [PAD] [PAD] [PAD] [PAD]\n",
      " \n",
      "[CLS] stocks advanced on thursday and the dow and s & p 500 each set record highs after president joe biden signed into law another expansive coronavirus relief package. [SEP]\n",
      " \n"
     ]
    }
   ],
   "source": [
    "for ids in encoded_inputs[\"input_ids\"]:\n",
    "    print(tokenizer.decode(ids))\n",
    "    print(' ')"
   ]
  },
  {
   "cell_type": "markdown",
   "metadata": {},
   "source": [
    "### 2 model fine-tuning"
   ]
  },
  {
   "cell_type": "code",
   "execution_count": 7,
   "metadata": {},
   "outputs": [],
   "source": [
    "def read_imdb_split(split_dir):\n",
    "    split_dir = Path(split_dir)\n",
    "    texts = []\n",
    "    labels = []\n",
    "    for label_dir in [\"pos\", \"neg\"]:\n",
    "        for text_file in (split_dir/label_dir).iterdir():\n",
    "            texts.append(text_file.read_text())\n",
    "            labels.append(0 if label_dir is \"neg\" else 1)\n",
    "\n",
    "    return texts, labels\n",
    "\n",
    "train_texts, train_labels = read_imdb_split('data/aclImdb/train')\n",
    "test_texts, test_labels = read_imdb_split('data/aclImdb/test')"
   ]
  },
  {
   "cell_type": "code",
   "execution_count": 13,
   "metadata": {},
   "outputs": [
    {
     "data": {
      "text/plain": [
       "12500"
      ]
     },
     "execution_count": 13,
     "metadata": {},
     "output_type": "execute_result"
    }
   ],
   "source": [
    "np.sum(train_labels)"
   ]
  },
  {
   "cell_type": "code",
   "execution_count": 15,
   "metadata": {},
   "outputs": [],
   "source": [
    "train_texts, val_texts, train_labels, val_labels = train_test_split(train_texts, train_labels, test_size=.5, random_state=2021, shuffle=True)"
   ]
  },
  {
   "cell_type": "code",
   "execution_count": 16,
   "metadata": {},
   "outputs": [
    {
     "name": "stdout",
     "output_type": "stream",
     "text": [
      "Training data size is 12500\n",
      " data size is 12500\n",
      "Testing data size is 25000\n"
     ]
    }
   ],
   "source": [
    "print(\"Training data size is {}\".format(len(train_texts)))\n",
    "print(\" data size is {}\".format(len(val_texts)))\n",
    "print(\"Testing data size is {}\".format(len(test_texts)))"
   ]
  },
  {
   "cell_type": "code",
   "execution_count": 104,
   "metadata": {},
   "outputs": [],
   "source": [
    "def generate_bert_ids(tokenizer, texts, labels):\n",
    "    bert_ids = tokenizer(texts, padding=True, truncation=True, return_tensors=\"tf\", max_length=200)\n",
    "    input_ids = np.asarray(bert_ids['input_ids'])\n",
    "    attention_mask = np.asarray(bert_ids['attention_mask'])\n",
    "    return input_ids, attention_mask, np.array(labels)"
   ]
  },
  {
   "cell_type": "code",
   "execution_count": 28,
   "metadata": {},
   "outputs": [
    {
     "name": "stdout",
     "output_type": "stream",
     "text": [
      "CPU times: user 1min 5s, sys: 1.81 s, total: 1min 7s\n",
      "Wall time: 8.12 s\n"
     ]
    }
   ],
   "source": [
    "%%time\n",
    "input_ids_tr, att_mask_tr, label_tr = generate_bert_ids(train_texts[:5000], train_labels[:5000])\n",
    "input_ids_va, att_mask_va, label_va = generate_bert_ids(val_texts[:5000], val_labels[:5000])\n",
    "input_ids_ts, att_mask_ts, label_ts = generate_bert_ids(test_texts, test_labels)"
   ]
  },
  {
   "cell_type": "code",
   "execution_count": 19,
   "metadata": {},
   "outputs": [
    {
     "name": "stdout",
     "output_type": "stream",
     "text": [
      "Training ids length is 200\n",
      "Validation ids length is 200\n",
      "Testing ids length is 200\n"
     ]
    }
   ],
   "source": [
    "print(\"Training ids length is {}\".format(len(input_ids_tr[0])))\n",
    "print(\"Validation ids length is {}\".format(len(input_ids_va[0])))\n",
    "print(\"Testing ids length is {}\".format(len(input_ids_ts[0])))"
   ]
  },
  {
   "cell_type": "code",
   "execution_count": 20,
   "metadata": {},
   "outputs": [],
   "source": [
    "loss = tf.keras.losses.SparseCategoricalCrossentropy(from_logits=True)\n",
    "metric = tf.keras.metrics.SparseCategoricalAccuracy('accuracy')\n",
    "optimizer = tf.keras.optimizers.Adam(learning_rate=3e-5,epsilon=1e-06)\n",
    "model.compile(loss=loss,optimizer=optimizer,metrics=[metric])"
   ]
  },
  {
   "cell_type": "code",
   "execution_count": 21,
   "metadata": {},
   "outputs": [],
   "source": [
    "callbacks = [tf.keras.callbacks.EarlyStopping(monitor='val_loss', patience=2, mode='auto', restore_best_weights=True)]"
   ]
  },
  {
   "cell_type": "code",
   "execution_count": 22,
   "metadata": {
    "scrolled": true
   },
   "outputs": [
    {
     "name": "stdout",
     "output_type": "stream",
     "text": [
      "Epoch 1/3\n",
      "WARNING:tensorflow:The parameters `output_attentions`, `output_hidden_states` and `use_cache` cannot be updated when calling a model.They have to be set to True/False in the config object (i.e.: `config=XConfig.from_pretrained('name', output_attentions=True)`).\n",
      "WARNING:tensorflow:AutoGraph could not transform <bound method Socket.send of <zmq.sugar.socket.Socket object at 0x10bf434b0>> and will run it as-is.\n",
      "Please report this to the TensorFlow team. When filing the bug, set the verbosity to 10 (on Linux, `export AUTOGRAPH_VERBOSITY=10`) and attach the full output.\n",
      "Cause: module, class, method, function, traceback, frame, or code object was expected, got cython_function_or_method\n",
      "To silence this warning, decorate the function with @tf.autograph.experimental.do_not_convert\n",
      "WARNING: AutoGraph could not transform <bound method Socket.send of <zmq.sugar.socket.Socket object at 0x10bf434b0>> and will run it as-is.\n",
      "Please report this to the TensorFlow team. When filing the bug, set the verbosity to 10 (on Linux, `export AUTOGRAPH_VERBOSITY=10`) and attach the full output.\n",
      "Cause: module, class, method, function, traceback, frame, or code object was expected, got cython_function_or_method\n",
      "To silence this warning, decorate the function with @tf.autograph.experimental.do_not_convert\n",
      "WARNING:tensorflow:The parameter `return_dict` cannot be set in graph mode and will always be set to `True`.\n",
      "WARNING:tensorflow:The parameters `output_attentions`, `output_hidden_states` and `use_cache` cannot be updated when calling a model.They have to be set to True/False in the config object (i.e.: `config=XConfig.from_pretrained('name', output_attentions=True)`).\n",
      "WARNING:tensorflow:The parameter `return_dict` cannot be set in graph mode and will always be set to `True`.\n",
      "79/79 [==============================] - ETA: 0s - loss: 0.5587 - accuracy: 0.6995 WARNING:tensorflow:The parameters `output_attentions`, `output_hidden_states` and `use_cache` cannot be updated when calling a model.They have to be set to True/False in the config object (i.e.: `config=XConfig.from_pretrained('name', output_attentions=True)`).\n",
      "WARNING:tensorflow:The parameter `return_dict` cannot be set in graph mode and will always be set to `True`.\n",
      "79/79 [==============================] - 1713s 22s/step - loss: 0.5573 - accuracy: 0.7007 - val_loss: 0.3026 - val_accuracy: 0.8756\n",
      "Epoch 2/3\n",
      "79/79 [==============================] - 2489s 32s/step - loss: 0.2537 - accuracy: 0.9009 - val_loss: 0.2810 - val_accuracy: 0.8842\n",
      "Epoch 3/3\n",
      "79/79 [==============================] - 3127s 40s/step - loss: 0.1477 - accuracy: 0.9498 - val_loss: 0.3200 - val_accuracy: 0.8844\n",
      "CPU times: user 10h 3s, sys: 2h 37min 7s, total: 12h 37min 10s\n",
      "Wall time: 2h 2min 9s\n"
     ]
    }
   ],
   "source": [
    "%%time\n",
    "history = model.fit([input_ids_tr,att_mask_tr],label_tr,\n",
    "                       batch_size=64, \n",
    "                       epochs=3, \n",
    "                       validation_data=([input_ids_va,att_mask_va],label_va),\n",
    "                       callbacks=callbacks)"
   ]
  },
  {
   "cell_type": "markdown",
   "metadata": {},
   "source": [
    "### 3 validation"
   ]
  },
  {
   "cell_type": "code",
   "execution_count": 29,
   "metadata": {},
   "outputs": [
    {
     "name": "stdout",
     "output_type": "stream",
     "text": [
      "CPU times: user 4h 49s, sys: 1h 1s, total: 5h 50s\n",
      "Wall time: 35min 36s\n"
     ]
    }
   ],
   "source": [
    "%time tf_outputs = model.predict([input_ids_ts, att_mask_ts], batch_size=64)"
   ]
  },
  {
   "cell_type": "code",
   "execution_count": 30,
   "metadata": {},
   "outputs": [],
   "source": [
    "preds = tf_outputs\n",
    "pred_arr = tf.nn.softmax(preds[0], axis=-1)\n",
    "pred_labels = tf.argmax(pred_arr, axis=1).numpy()"
   ]
  },
  {
   "cell_type": "code",
   "execution_count": 31,
   "metadata": {},
   "outputs": [
    {
     "data": {
      "text/plain": [
       "0.87804"
      ]
     },
     "execution_count": 31,
     "metadata": {},
     "output_type": "execute_result"
    }
   ],
   "source": [
    "accuracy_score(label_ts,pred_labels)"
   ]
  },
  {
   "cell_type": "code",
   "execution_count": 32,
   "metadata": {},
   "outputs": [
    {
     "name": "stdout",
     "output_type": "stream",
     "text": [
      "F1 score 0.8745319122669849\n",
      "Classification Report\n",
      "              precision    recall  f1-score   support\n",
      "\n",
      "           0       0.86      0.91      0.88     12500\n",
      "           1       0.90      0.85      0.87     12500\n",
      "\n",
      "    accuracy                           0.88     25000\n",
      "   macro avg       0.88      0.88      0.88     25000\n",
      "weighted avg       0.88      0.88      0.88     25000\n",
      "\n"
     ]
    }
   ],
   "source": [
    "f1 = f1_score(label_ts,pred_labels)\n",
    "print('F1 score',f1)\n",
    "print('Classification Report')\n",
    "print(classification_report(label_ts,pred_labels,\n",
    "#                             target_names=target_names\n",
    "                           ))"
   ]
  },
  {
   "cell_type": "code",
   "execution_count": 33,
   "metadata": {},
   "outputs": [
    {
     "name": "stdout",
     "output_type": "stream",
     "text": [
      "[[11325  1175]\n",
      " [ 1874 10626]]\n"
     ]
    }
   ],
   "source": [
    "print(confusion_matrix(label_ts,pred_labels))"
   ]
  },
  {
   "cell_type": "markdown",
   "metadata": {},
   "source": [
    "## 4 re-structuring"
   ]
  },
  {
   "cell_type": "code",
   "execution_count": 34,
   "metadata": {},
   "outputs": [
    {
     "name": "stdout",
     "output_type": "stream",
     "text": [
      "REPLICAS:  1\n"
     ]
    }
   ],
   "source": [
    "# Detect hardware, return appropriate distribution strategy\n",
    "try:\n",
    "    # TPU detection. No parameters necessary if TPU_NAME environment variable is\n",
    "    # set: this is always the case on Kaggle.\n",
    "    tpu = tf.distribute.cluster_resolver.TPUClusterResolver()\n",
    "    print('Running on TPU ', tpu.master())\n",
    "except ValueError:\n",
    "    tpu = None\n",
    "\n",
    "if tpu:\n",
    "    tf.config.experimental_connect_to_cluster(tpu)\n",
    "    tf.tpu.experimental.initialize_tpu_system(tpu)\n",
    "    strategy = tf.distribute.experimental.TPUStrategy(tpu)\n",
    "else:\n",
    "    # Default distribution strategy in Tensorflow. Works on CPU and single GPU.\n",
    "    strategy = tf.distribute.get_strategy()\n",
    "\n",
    "print(\"REPLICAS: \", strategy.num_replicas_in_sync)"
   ]
  },
  {
   "cell_type": "markdown",
   "metadata": {},
   "source": [
    "### 4.1 raw-keras"
   ]
  },
  {
   "cell_type": "code",
   "execution_count": 64,
   "metadata": {},
   "outputs": [],
   "source": [
    "from tensorflow.keras import layers\n",
    "from tensorflow.keras import losses\n",
    "from keras.preprocessing import sequence, text\n",
    "import matplotlib.pyplot as plt"
   ]
  },
  {
   "cell_type": "code",
   "execution_count": 53,
   "metadata": {},
   "outputs": [],
   "source": [
    "# using keras tokenizer here\n",
    "token = text.Tokenizer(num_words=20000) # or use None)\n",
    "max_len = 1500\n",
    "\n",
    "token.fit_on_texts(list(train_texts) + list(val_texts) + list(test_texts))\n",
    "xtrain_seq = token.texts_to_sequences(train_texts)\n",
    "xvalid_seq = token.texts_to_sequences(val_texts)\n",
    "xtest_seq = token.texts_to_sequences(test_texts)\n",
    "\n",
    "#zero pad the sequences\n",
    "xtrain_pad = sequence.pad_sequences(xtrain_seq, maxlen=max_len)\n",
    "xvalid_pad = sequence.pad_sequences(xvalid_seq, maxlen=max_len)\n",
    "xtest_pad = sequence.pad_sequences(xtest_seq, maxlen=max_len)\n",
    "\n",
    "word_index = token.word_index"
   ]
  },
  {
   "cell_type": "code",
   "execution_count": 54,
   "metadata": {},
   "outputs": [
    {
     "name": "stdout",
     "output_type": "stream",
     "text": [
      "Keras wordvector length is 124252\n"
     ]
    }
   ],
   "source": [
    "print(\"Keras wordvector length is {}\".format(len(word_index)))"
   ]
  },
  {
   "cell_type": "code",
   "execution_count": 77,
   "metadata": {},
   "outputs": [
    {
     "name": "stdout",
     "output_type": "stream",
     "text": [
      "Model: \"sequential_6\"\n",
      "_________________________________________________________________\n",
      "Layer (type)                 Output Shape              Param #   \n",
      "=================================================================\n",
      "embedding_6 (Embedding)      (None, None, 32)          3976096   \n",
      "_________________________________________________________________\n",
      "dropout_32 (Dropout)         (None, None, 32)          0         \n",
      "_________________________________________________________________\n",
      "global_average_pooling1d_6 ( (None, 32)                0         \n",
      "_________________________________________________________________\n",
      "dropout_33 (Dropout)         (None, 32)                0         \n",
      "_________________________________________________________________\n",
      "dense_6 (Dense)              (None, 1)                 33        \n",
      "=================================================================\n",
      "Total params: 3,976,129\n",
      "Trainable params: 3,976,129\n",
      "Non-trainable params: 0\n",
      "_________________________________________________________________\n"
     ]
    }
   ],
   "source": [
    "# create model structure\n",
    "model_keras = tf.keras.Sequential([\n",
    "    layers.Embedding(len(word_index) + 1, 32),\n",
    "    layers.Dropout(0.2),\n",
    "    layers.GlobalAveragePooling1D(),\n",
    "    layers.Dropout(0.2),\n",
    "    layers.Dense(1)\n",
    "])\n",
    "model_keras.summary()"
   ]
  },
  {
   "cell_type": "code",
   "execution_count": 82,
   "metadata": {},
   "outputs": [],
   "source": [
    "model_keras.compile(loss=losses.BinaryCrossentropy(from_logits=True),\n",
    "             optimizer=tf.keras.optimizers.Adam(learning_rate=1e-3),\n",
    "             metrics=tf.keras.metrics.BinaryAccuracy(threshold=0.5))"
   ]
  },
  {
   "cell_type": "code",
   "execution_count": 83,
   "metadata": {},
   "outputs": [
    {
     "name": "stdout",
     "output_type": "stream",
     "text": [
      "Epoch 1/100\n",
      "196/196 [==============================] - 9s 45ms/step - loss: 0.6900 - binary_accuracy: 0.4978 - val_loss: 0.6861 - val_binary_accuracy: 0.5000\n",
      "Epoch 2/100\n",
      "196/196 [==============================] - 9s 44ms/step - loss: 0.6833 - binary_accuracy: 0.4951 - val_loss: 0.6754 - val_binary_accuracy: 0.5002\n",
      "Epoch 3/100\n",
      "196/196 [==============================] - 9s 45ms/step - loss: 0.6704 - binary_accuracy: 0.5009 - val_loss: 0.6579 - val_binary_accuracy: 0.5111\n",
      "Epoch 4/100\n",
      "196/196 [==============================] - 9s 45ms/step - loss: 0.6492 - binary_accuracy: 0.5200 - val_loss: 0.6341 - val_binary_accuracy: 0.5228\n",
      "Epoch 5/100\n",
      "196/196 [==============================] - 9s 45ms/step - loss: 0.6230 - binary_accuracy: 0.5440 - val_loss: 0.6070 - val_binary_accuracy: 0.5616\n",
      "Epoch 6/100\n",
      "196/196 [==============================] - 9s 45ms/step - loss: 0.5930 - binary_accuracy: 0.5817 - val_loss: 0.5803 - val_binary_accuracy: 0.6370\n",
      "Epoch 7/100\n",
      "196/196 [==============================] - 9s 45ms/step - loss: 0.5628 - binary_accuracy: 0.6285 - val_loss: 0.5528 - val_binary_accuracy: 0.6419\n",
      "Epoch 8/100\n",
      "196/196 [==============================] - 9s 45ms/step - loss: 0.5350 - binary_accuracy: 0.6691 - val_loss: 0.5290 - val_binary_accuracy: 0.6524\n",
      "Epoch 9/100\n",
      "196/196 [==============================] - 9s 46ms/step - loss: 0.5065 - binary_accuracy: 0.6990 - val_loss: 0.5053 - val_binary_accuracy: 0.7402\n",
      "Epoch 10/100\n",
      "196/196 [==============================] - 9s 45ms/step - loss: 0.4776 - binary_accuracy: 0.7514 - val_loss: 0.4851 - val_binary_accuracy: 0.7086\n",
      "Epoch 11/100\n",
      "196/196 [==============================] - 9s 45ms/step - loss: 0.4537 - binary_accuracy: 0.7825 - val_loss: 0.4644 - val_binary_accuracy: 0.7482\n",
      "Epoch 12/100\n",
      "196/196 [==============================] - 9s 45ms/step - loss: 0.4331 - binary_accuracy: 0.7918 - val_loss: 0.4464 - val_binary_accuracy: 0.7696\n",
      "Epoch 13/100\n",
      "196/196 [==============================] - 9s 46ms/step - loss: 0.4099 - binary_accuracy: 0.8208 - val_loss: 0.4301 - val_binary_accuracy: 0.8032\n",
      "Epoch 14/100\n",
      "196/196 [==============================] - 9s 45ms/step - loss: 0.3941 - binary_accuracy: 0.8260 - val_loss: 0.4159 - val_binary_accuracy: 0.8242\n",
      "Epoch 15/100\n",
      "196/196 [==============================] - 9s 44ms/step - loss: 0.3764 - binary_accuracy: 0.8353 - val_loss: 0.4023 - val_binary_accuracy: 0.8191\n",
      "Epoch 16/100\n",
      "196/196 [==============================] - 9s 45ms/step - loss: 0.3613 - binary_accuracy: 0.8515 - val_loss: 0.3904 - val_binary_accuracy: 0.8243\n",
      "Epoch 17/100\n",
      "196/196 [==============================] - 9s 45ms/step - loss: 0.3494 - binary_accuracy: 0.8557 - val_loss: 0.3797 - val_binary_accuracy: 0.8402\n",
      "Epoch 18/100\n",
      "196/196 [==============================] - 9s 45ms/step - loss: 0.3320 - binary_accuracy: 0.8669 - val_loss: 0.3739 - val_binary_accuracy: 0.8119\n",
      "Epoch 19/100\n",
      "196/196 [==============================] - 9s 45ms/step - loss: 0.3221 - binary_accuracy: 0.8721 - val_loss: 0.3616 - val_binary_accuracy: 0.8506\n",
      "Epoch 20/100\n",
      "196/196 [==============================] - 9s 45ms/step - loss: 0.3064 - binary_accuracy: 0.8804 - val_loss: 0.3572 - val_binary_accuracy: 0.8689\n",
      "Epoch 21/100\n",
      "196/196 [==============================] - 9s 45ms/step - loss: 0.3016 - binary_accuracy: 0.8847 - val_loss: 0.3490 - val_binary_accuracy: 0.8694\n",
      "Epoch 22/100\n",
      "196/196 [==============================] - 9s 45ms/step - loss: 0.2876 - binary_accuracy: 0.8901 - val_loss: 0.3398 - val_binary_accuracy: 0.8566\n",
      "Epoch 23/100\n",
      "196/196 [==============================] - 9s 45ms/step - loss: 0.2806 - binary_accuracy: 0.8928 - val_loss: 0.3341 - val_binary_accuracy: 0.8556\n",
      "Epoch 24/100\n",
      "196/196 [==============================] - 9s 45ms/step - loss: 0.2722 - binary_accuracy: 0.8931 - val_loss: 0.3290 - val_binary_accuracy: 0.8655\n",
      "Epoch 25/100\n",
      "196/196 [==============================] - 9s 45ms/step - loss: 0.2600 - binary_accuracy: 0.8989 - val_loss: 0.3262 - val_binary_accuracy: 0.8741\n",
      "Epoch 26/100\n",
      "196/196 [==============================] - 9s 46ms/step - loss: 0.2565 - binary_accuracy: 0.9057 - val_loss: 0.3194 - val_binary_accuracy: 0.8691\n",
      "Epoch 27/100\n",
      "196/196 [==============================] - 9s 45ms/step - loss: 0.2455 - binary_accuracy: 0.9084 - val_loss: 0.3156 - val_binary_accuracy: 0.8664\n",
      "Epoch 28/100\n",
      "196/196 [==============================] - 9s 45ms/step - loss: 0.2406 - binary_accuracy: 0.9098 - val_loss: 0.3120 - val_binary_accuracy: 0.8675\n",
      "Epoch 29/100\n",
      "196/196 [==============================] - 9s 45ms/step - loss: 0.2324 - binary_accuracy: 0.9125 - val_loss: 0.3084 - val_binary_accuracy: 0.8702\n",
      "Epoch 30/100\n",
      "196/196 [==============================] - 9s 45ms/step - loss: 0.2270 - binary_accuracy: 0.9169 - val_loss: 0.3104 - val_binary_accuracy: 0.8838\n",
      "Epoch 31/100\n",
      "196/196 [==============================] - 9s 45ms/step - loss: 0.2189 - binary_accuracy: 0.9202 - val_loss: 0.3026 - val_binary_accuracy: 0.8768\n",
      "Epoch 32/100\n",
      "196/196 [==============================] - 9s 45ms/step - loss: 0.2058 - binary_accuracy: 0.9263 - val_loss: 0.3013 - val_binary_accuracy: 0.8809\n",
      "Epoch 33/100\n",
      "196/196 [==============================] - 9s 45ms/step - loss: 0.2095 - binary_accuracy: 0.9249 - val_loss: 0.2978 - val_binary_accuracy: 0.8763\n",
      "Epoch 34/100\n",
      "196/196 [==============================] - 9s 46ms/step - loss: 0.1945 - binary_accuracy: 0.9289 - val_loss: 0.2968 - val_binary_accuracy: 0.8710\n",
      "Epoch 35/100\n",
      "196/196 [==============================] - 9s 45ms/step - loss: 0.2011 - binary_accuracy: 0.9238 - val_loss: 0.3049 - val_binary_accuracy: 0.8907\n",
      "Epoch 36/100\n",
      "196/196 [==============================] - 9s 45ms/step - loss: 0.1957 - binary_accuracy: 0.9324 - val_loss: 0.2923 - val_binary_accuracy: 0.8824\n",
      "Epoch 37/100\n",
      "196/196 [==============================] - 9s 46ms/step - loss: 0.1841 - binary_accuracy: 0.9352 - val_loss: 0.2908 - val_binary_accuracy: 0.8791\n",
      "Epoch 38/100\n",
      "196/196 [==============================] - 9s 45ms/step - loss: 0.1775 - binary_accuracy: 0.9369 - val_loss: 0.2895 - val_binary_accuracy: 0.8795\n",
      "Epoch 39/100\n",
      "196/196 [==============================] - 9s 45ms/step - loss: 0.1774 - binary_accuracy: 0.9350 - val_loss: 0.2886 - val_binary_accuracy: 0.8788\n",
      "Epoch 40/100\n",
      "196/196 [==============================] - 9s 46ms/step - loss: 0.1697 - binary_accuracy: 0.9401 - val_loss: 0.2874 - val_binary_accuracy: 0.8801\n",
      "Epoch 41/100\n",
      "196/196 [==============================] - 9s 46ms/step - loss: 0.1646 - binary_accuracy: 0.9418 - val_loss: 0.2866 - val_binary_accuracy: 0.8841\n",
      "Epoch 42/100\n",
      "196/196 [==============================] - 9s 46ms/step - loss: 0.1619 - binary_accuracy: 0.9417 - val_loss: 0.2860 - val_binary_accuracy: 0.8815\n",
      "Epoch 43/100\n",
      "196/196 [==============================] - 9s 46ms/step - loss: 0.1562 - binary_accuracy: 0.9451 - val_loss: 0.2858 - val_binary_accuracy: 0.8886\n",
      "Epoch 44/100\n",
      "196/196 [==============================] - 9s 46ms/step - loss: 0.1533 - binary_accuracy: 0.9477 - val_loss: 0.2853 - val_binary_accuracy: 0.8882\n",
      "Epoch 45/100\n",
      "196/196 [==============================] - 9s 46ms/step - loss: 0.1544 - binary_accuracy: 0.9461 - val_loss: 0.2846 - val_binary_accuracy: 0.8880\n",
      "Epoch 46/100\n",
      "196/196 [==============================] - 9s 45ms/step - loss: 0.1480 - binary_accuracy: 0.9503 - val_loss: 0.2843 - val_binary_accuracy: 0.8857\n",
      "Epoch 47/100\n",
      "196/196 [==============================] - 9s 45ms/step - loss: 0.1402 - binary_accuracy: 0.9518 - val_loss: 0.2849 - val_binary_accuracy: 0.8904\n",
      "Epoch 48/100\n",
      "196/196 [==============================] - 9s 45ms/step - loss: 0.1365 - binary_accuracy: 0.9574 - val_loss: 0.2862 - val_binary_accuracy: 0.8934\n",
      "CPU times: user 40min 37s, sys: 4min 3s, total: 44min 41s\n",
      "Wall time: 7min 6s\n"
     ]
    }
   ],
   "source": [
    "%%time\n",
    "# fit the model\n",
    "epochs = 100\n",
    "history = model_keras.fit(xtrain_pad, np.array(train_labels),\n",
    "                       batch_size=64, \n",
    "                       epochs=epochs, \n",
    "                       validation_data=(xvalid_pad,np.array(val_labels)),\n",
    "                       callbacks=callbacks)"
   ]
  },
  {
   "cell_type": "code",
   "execution_count": 84,
   "metadata": {},
   "outputs": [],
   "source": [
    "# plot history training results\n",
    "history_dict = history.history\n",
    "# history_dict.keys()\n",
    "acc = history_dict['binary_accuracy']\n",
    "val_acc = history_dict['val_binary_accuracy']\n",
    "loss = history_dict['loss']\n",
    "val_loss = history_dict['val_loss']\n",
    "epochs = range(1, len(acc) + 1)"
   ]
  },
  {
   "cell_type": "code",
   "execution_count": 85,
   "metadata": {},
   "outputs": [
    {
     "data": {
      "image/png": "[encoded data removed]",
      "text/plain": [
       "<Figure size 432x288 with 1 Axes>"
      ]
     },
     "metadata": {
      "needs_background": "light"
     },
     "output_type": "display_data"
    },
    {
     "data": {
      "image/png": "[encoded data removed]",
      "text/plain": [
       "<Figure size 432x288 with 1 Axes>"
      ]
     },
     "metadata": {
      "needs_background": "light"
     },
     "output_type": "display_data"
    }
   ],
   "source": [
    "# plot on loss\n",
    "plt.plot(epochs, loss, 'r', label='Training loss')\n",
    "plt.plot(epochs, val_loss, 'b', label='Validation loss')\n",
    "plt.title('Training and validation loss')\n",
    "plt.xlabel('Epochs')\n",
    "plt.ylabel('Loss')\n",
    "plt.legend()\n",
    "plt.show()\n",
    "\n",
    "# plot on accuracy\n",
    "plt.plot(epochs, acc, 'r', label='Training acc')\n",
    "plt.plot(epochs, val_acc, 'b', label='Validation acc')\n",
    "plt.title('Training and validation accuracy')\n",
    "plt.xlabel('Epochs')\n",
    "plt.ylabel('Accuracy')\n",
    "plt.legend(loc='lower right')\n",
    "plt.show()"
   ]
  },
  {
   "cell_type": "code",
   "execution_count": 86,
   "metadata": {},
   "outputs": [],
   "source": [
    "preds = model_keras.predict_classes(xtest_pad)"
   ]
  },
  {
   "cell_type": "code",
   "execution_count": 87,
   "metadata": {},
   "outputs": [
    {
     "data": {
      "text/plain": [
       "0.87284"
      ]
     },
     "execution_count": 87,
     "metadata": {},
     "output_type": "execute_result"
    }
   ],
   "source": [
    "accuracy_score(label_ts, preds)"
   ]
  },
  {
   "cell_type": "code",
   "execution_count": 89,
   "metadata": {},
   "outputs": [
    {
     "name": "stdout",
     "output_type": "stream",
     "text": [
      "F1 score 0.8658140222025241\n",
      "Classification Report\n",
      "              precision    recall  f1-score   support\n",
      "\n",
      "           0       0.84      0.93      0.88     12500\n",
      "           1       0.92      0.82      0.87     12500\n",
      "\n",
      "    accuracy                           0.87     25000\n",
      "   macro avg       0.88      0.87      0.87     25000\n",
      "weighted avg       0.88      0.87      0.87     25000\n",
      "\n"
     ]
    }
   ],
   "source": [
    "f1 = f1_score(label_ts,preds)\n",
    "print('F1 score',f1)\n",
    "print('Classification Report')\n",
    "print(classification_report(label_ts,preds,\n",
    "#                             target_names=target_names\n",
    "                           ))"
   ]
  },
  {
   "cell_type": "code",
   "execution_count": 90,
   "metadata": {},
   "outputs": [
    {
     "name": "stdout",
     "output_type": "stream",
     "text": [
      "[[11565   935]\n",
      " [ 2244 10256]]\n"
     ]
    }
   ],
   "source": [
    "print(confusion_matrix(label_ts,preds))"
   ]
  },
  {
   "cell_type": "markdown",
   "metadata": {},
   "source": [
    "### 4.2 self defined BERT"
   ]
  },
  {
   "cell_type": "markdown",
   "metadata": {},
   "source": [
    "## 5 understand the tokenizer"
   ]
  },
  {
   "cell_type": "markdown",
   "metadata": {},
   "source": [
    "### 5.1 basic usage"
   ]
  },
  {
   "cell_type": "code",
   "execution_count": 156,
   "metadata": {},
   "outputs": [
    {
     "data": {
      "text/plain": [
       "30522"
      ]
     },
     "execution_count": 156,
     "metadata": {},
     "output_type": "execute_result"
    }
   ],
   "source": [
    "tokenizer.vocab_size"
   ]
  },
  {
   "cell_type": "code",
   "execution_count": 160,
   "metadata": {},
   "outputs": [
    {
     "data": {
      "text/plain": [
       "['he',\n",
       " 'remains',\n",
       " 'characteristic',\n",
       " '##ally',\n",
       " 'confident',\n",
       " 'and',\n",
       " 'optimistic',\n",
       " '.']"
      ]
     },
     "execution_count": 160,
     "metadata": {},
     "output_type": "execute_result"
    }
   ],
   "source": [
    "sent = \"He remains characteristically confident and optimistic.\"\n",
    "tkens = tokenizer.tokenize(sent)\n",
    "tkens"
   ]
  },
  {
   "cell_type": "code",
   "execution_count": 161,
   "metadata": {},
   "outputs": [
    {
     "data": {
      "text/plain": [
       "[2002, 3464, 8281, 3973, 9657, 1998, 21931, 1012]"
      ]
     },
     "execution_count": 161,
     "metadata": {},
     "output_type": "execute_result"
    }
   ],
   "source": [
    "tokenizer.convert_tokens_to_ids(tkens)"
   ]
  },
  {
   "cell_type": "code",
   "execution_count": 162,
   "metadata": {},
   "outputs": [
    {
     "data": {
      "text/plain": [
       "'he remains characteristically confident and optimistic .'"
      ]
     },
     "execution_count": 162,
     "metadata": {},
     "output_type": "execute_result"
    }
   ],
   "source": [
    "tokenizer.convert_tokens_to_string(tkens)"
   ]
  },
  {
   "cell_type": "markdown",
   "metadata": {},
   "source": [
    "### 5.2 BERT Tokenizer"
   ]
  },
  {
   "cell_type": "code",
   "execution_count": 163,
   "metadata": {},
   "outputs": [],
   "source": [
    "from transformers import BertTokenizer"
   ]
  },
  {
   "cell_type": "code",
   "execution_count": 164,
   "metadata": {},
   "outputs": [],
   "source": [
    "tz = BertTokenizer.from_pretrained(\"bert-base-uncased\")"
   ]
  },
  {
   "cell_type": "code",
   "execution_count": 165,
   "metadata": {},
   "outputs": [],
   "source": [
    "sent = \"Let's learn deep learning!\""
   ]
  },
  {
   "cell_type": "code",
   "execution_count": 169,
   "metadata": {},
   "outputs": [],
   "source": [
    "encoded = tz.encode_plus(\n",
    "    text=sent,  # the sentence to be encoded\n",
    "    add_special_tokens=True,  # Add [CLS] and [SEP]\n",
    "    max_length = 32,  # maximum length of a sentence\n",
    "    pad_to_max_length=True,  # Add [PAD]s\n",
    "    return_attention_mask = True,  # Generate the attention mask\n",
    "    return_tensors = 'tf',  # ask the function to return PyTorch tensors\n",
    ")\n",
    "\n",
    "# Get the input IDs and attention mask in tensor format\n",
    "input_ids = encoded['input_ids']\n",
    "attn_mask = encoded['attention_mask']"
   ]
  },
  {
   "cell_type": "code",
   "execution_count": 175,
   "metadata": {},
   "outputs": [
    {
     "data": {
      "text/plain": [
       "[('input_ids', <tf.Tensor: shape=(1, 32), dtype=int32, numpy=\n",
       "  array([[ 101, 2292, 1005, 1055, 4553, 2784, 4083,  999,  102,    0,    0,\n",
       "             0,    0,    0,    0,    0,    0,    0,    0,    0,    0,    0,\n",
       "             0,    0,    0,    0,    0,    0,    0,    0,    0,    0]],\n",
       "        dtype=int32)>),\n",
       " ('token_type_ids', <tf.Tensor: shape=(1, 32), dtype=int32, numpy=\n",
       "  array([[0, 0, 0, 0, 0, 0, 0, 0, 0, 0, 0, 0, 0, 0, 0, 0, 0, 0, 0, 0, 0, 0,\n",
       "          0, 0, 0, 0, 0, 0, 0, 0, 0, 0]], dtype=int32)>),\n",
       " ('attention_mask', <tf.Tensor: shape=(1, 32), dtype=int32, numpy=\n",
       "  array([[1, 1, 1, 1, 1, 1, 1, 1, 1, 0, 0, 0, 0, 0, 0, 0, 0, 0, 0, 0, 0, 0,\n",
       "          0, 0, 0, 0, 0, 0, 0, 0, 0, 0]], dtype=int32)>)]"
      ]
     },
     "execution_count": 175,
     "metadata": {},
     "output_type": "execute_result"
    }
   ],
   "source": [
    "[(k, v) for (k,v) in encoded.items()]"
   ]
  },
  {
   "cell_type": "code",
   "execution_count": 198,
   "metadata": {},
   "outputs": [],
   "source": [
    "sent_list = [\"i like skinning\", \"i don't know who i can turn to, it is really a disaster\", \"this is the third biggest city\"]"
   ]
  },
  {
   "cell_type": "code",
   "execution_count": 203,
   "metadata": {},
   "outputs": [],
   "source": [
    "encoded = tz(\n",
    "    text=sent_list,  # the sentence to be encoded\n",
    "    add_special_tokens=True,  # Add [CLS] and [SEP]\n",
    "    max_length = 32,  # maximum length of a sentence\n",
    "    pad_to_max_length=True,  # Add [PAD]s\n",
    "    return_attention_mask = True,  # Generate the attention mask\n",
    "    return_tensors = 'tf',  # ask the function to return PyTorch tensors\n",
    ")\n",
    "\n",
    "# Get the input IDs and attention mask in tensor format\n",
    "input_ids = encoded['input_ids']\n",
    "attn_mask = encoded['attention_mask']"
   ]
  },
  {
   "cell_type": "code",
   "execution_count": 204,
   "metadata": {},
   "outputs": [
    {
     "data": {
      "text/plain": [
       "[('input_ids', <tf.Tensor: shape=(3, 32), dtype=int32, numpy=\n",
       "  array([[ 101, 1045, 2066, 3096, 5582,  102,    0,    0,    0,    0,    0,\n",
       "             0,    0,    0,    0,    0,    0,    0,    0,    0,    0,    0,\n",
       "             0,    0,    0,    0,    0,    0,    0,    0,    0,    0],\n",
       "         [ 101, 1045, 2123, 1005, 1056, 2113, 2040, 1045, 2064, 2735, 2000,\n",
       "          1010, 2009, 2003, 2428, 1037, 7071,  102,    0,    0,    0,    0,\n",
       "             0,    0,    0,    0,    0,    0,    0,    0,    0,    0],\n",
       "         [ 101, 2023, 2003, 1996, 2353, 5221, 2103,  102,    0,    0,    0,\n",
       "             0,    0,    0,    0,    0,    0,    0,    0,    0,    0,    0,\n",
       "             0,    0,    0,    0,    0,    0,    0,    0,    0,    0]],\n",
       "        dtype=int32)>),\n",
       " ('token_type_ids', <tf.Tensor: shape=(3, 32), dtype=int32, numpy=\n",
       "  array([[0, 0, 0, 0, 0, 0, 0, 0, 0, 0, 0, 0, 0, 0, 0, 0, 0, 0, 0, 0, 0, 0,\n",
       "          0, 0, 0, 0, 0, 0, 0, 0, 0, 0],\n",
       "         [0, 0, 0, 0, 0, 0, 0, 0, 0, 0, 0, 0, 0, 0, 0, 0, 0, 0, 0, 0, 0, 0,\n",
       "          0, 0, 0, 0, 0, 0, 0, 0, 0, 0],\n",
       "         [0, 0, 0, 0, 0, 0, 0, 0, 0, 0, 0, 0, 0, 0, 0, 0, 0, 0, 0, 0, 0, 0,\n",
       "          0, 0, 0, 0, 0, 0, 0, 0, 0, 0]], dtype=int32)>),\n",
       " ('attention_mask', <tf.Tensor: shape=(3, 32), dtype=int32, numpy=\n",
       "  array([[1, 1, 1, 1, 1, 1, 0, 0, 0, 0, 0, 0, 0, 0, 0, 0, 0, 0, 0, 0, 0, 0,\n",
       "          0, 0, 0, 0, 0, 0, 0, 0, 0, 0],\n",
       "         [1, 1, 1, 1, 1, 1, 1, 1, 1, 1, 1, 1, 1, 1, 1, 1, 1, 1, 0, 0, 0, 0,\n",
       "          0, 0, 0, 0, 0, 0, 0, 0, 0, 0],\n",
       "         [1, 1, 1, 1, 1, 1, 1, 1, 0, 0, 0, 0, 0, 0, 0, 0, 0, 0, 0, 0, 0, 0,\n",
       "          0, 0, 0, 0, 0, 0, 0, 0, 0, 0]], dtype=int32)>)]"
      ]
     },
     "execution_count": 204,
     "metadata": {},
     "output_type": "execute_result"
    }
   ],
   "source": [
    "[(k, v) for (k,v) in encoded.items()]"
   ]
  },
  {
   "cell_type": "code",
   "execution_count": 201,
   "metadata": {},
   "outputs": [
    {
     "name": "stdout",
     "output_type": "stream",
     "text": [
      "[[ 101 2292 1005 1055 4553 2784 4083  999  102]]\n",
      "[[1 1 1 1 1 1 1 1 1]]\n"
     ]
    }
   ],
   "source": [
    "_input1, _att1, _ = generate_bert_ids(tz, sent, 1)\n",
    "print(_input1)\n",
    "print(_att1)"
   ]
  },
  {
   "cell_type": "code",
   "execution_count": 202,
   "metadata": {},
   "outputs": [
    {
     "name": "stdout",
     "output_type": "stream",
     "text": [
      "[[ 101 1045 2066 3096 5582  102    0    0    0    0    0    0    0    0\n",
      "     0    0    0    0]\n",
      " [ 101 1045 2123 1005 1056 2113 2040 1045 2064 2735 2000 1010 2009 2003\n",
      "  2428 1037 7071  102]\n",
      " [ 101 2023 2003 1996 2353 5221 2103  102    0    0    0    0    0    0\n",
      "     0    0    0    0]]\n",
      "[[1 1 1 1 1 1 0 0 0 0 0 0 0 0 0 0 0 0]\n",
      " [1 1 1 1 1 1 1 1 1 1 1 1 1 1 1 1 1 1]\n",
      " [1 1 1 1 1 1 1 1 0 0 0 0 0 0 0 0 0 0]]\n"
     ]
    }
   ],
   "source": [
    "_input2, _att2, _ = generate_bert_ids(tz, sent_list, [0,1])\n",
    "print(_input2)\n",
    "print(_att2)"
   ]
  },
  {
   "cell_type": "markdown",
   "metadata": {},
   "source": [
    "* usage of tokenizer\n",
    "    * for single sentence, you can use tz.encode_plut\n",
    "    * for texts list or dataframe, it is recommend to define a function with tokenizer"
   ]
  },
  {
   "cell_type": "code",
   "execution_count": null,
   "metadata": {},
   "outputs": [],
   "source": []
  }
 ],
 "metadata": {
  "kernelspec": {
   "display_name": "Python 3",
   "language": "python",
   "name": "python3"
  },
  "language_info": {
   "codemirror_mode": {
    "name": "ipython",
    "version": 3
   },
   "file_extension": ".py",
   "mimetype": "text/x-python",
   "name": "python",
   "nbconvert_exporter": "python",
   "pygments_lexer": "ipython3",
   "version": "3.7.9"
  }
 },
 "nbformat": 4,
 "nbformat_minor": 2
}
