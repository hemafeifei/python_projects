{
 "cells": [
  {
   "cell_type": "code",
   "execution_count": 1,
   "metadata": {},
   "outputs": [],
   "source": [
    "import matplotlib.pyplot as plt\n",
    "import os\n",
    "import re\n",
    "import shutil\n",
    "import string\n",
    "import tensorflow as tf\n",
    "import pickle\n",
    "\n",
    "from tensorflow.keras import layers\n",
    "from tensorflow.keras import losses\n",
    "from tensorflow.keras import preprocessing\n",
    "from tensorflow.keras.layers.experimental.preprocessing import TextVectorization"
   ]
  },
  {
   "cell_type": "code",
   "execution_count": 2,
   "metadata": {},
   "outputs": [
    {
     "name": "stdout",
     "output_type": "stream",
     "text": [
      "2.4.1\n"
     ]
    }
   ],
   "source": [
    "print(tf.__version__)"
   ]
  },
  {
   "cell_type": "code",
   "execution_count": 3,
   "metadata": {},
   "outputs": [],
   "source": [
    "train_dir = 'data/aclImdb/train/'"
   ]
  },
  {
   "cell_type": "code",
   "execution_count": 5,
   "metadata": {},
   "outputs": [],
   "source": [
    "# remove_dir = os.path.join(train_dir, 'unsup')\n",
    "# shutil.rmtree(remove_dir)"
   ]
  },
  {
   "cell_type": "code",
   "execution_count": 6,
   "metadata": {},
   "outputs": [
    {
     "name": "stdout",
     "output_type": "stream",
     "text": [
      "Found 25000 files belonging to 2 classes.\n",
      "Using 20000 files for training.\n"
     ]
    }
   ],
   "source": [
    "batch_size = 32\n",
    "seed = 2021\n",
    "\n",
    "raw_train_ds = tf.keras.preprocessing.text_dataset_from_directory(\n",
    "    'data/aclImdb/train', \n",
    "    batch_size=batch_size, \n",
    "    validation_split=0.2, \n",
    "    subset='training', \n",
    "    seed=seed)"
   ]
  },
  {
   "cell_type": "code",
   "execution_count": 60,
   "metadata": {},
   "outputs": [
    {
     "name": "stdout",
     "output_type": "stream",
     "text": [
      "Label 0 corresponds to neg\n",
      "Label 1 corresponds to pos\n"
     ]
    }
   ],
   "source": [
    "print(\"Label 0 corresponds to\", raw_train_ds.class_names[0])\n",
    "print(\"Label 1 corresponds to\", raw_train_ds.class_names[1])"
   ]
  },
  {
   "cell_type": "code",
   "execution_count": 61,
   "metadata": {},
   "outputs": [
    {
     "name": "stdout",
     "output_type": "stream",
     "text": [
      "Found 25000 files belonging to 2 classes.\n",
      "Using 5000 files for validation.\n"
     ]
    }
   ],
   "source": [
    "raw_val_ds = tf.keras.preprocessing.text_dataset_from_directory(\n",
    "    'data/aclImdb/train', \n",
    "    batch_size=batch_size, \n",
    "    validation_split=0.2, \n",
    "    subset='validation', \n",
    "    seed=seed)"
   ]
  },
  {
   "cell_type": "code",
   "execution_count": 62,
   "metadata": {},
   "outputs": [
    {
     "name": "stdout",
     "output_type": "stream",
     "text": [
      "Found 25000 files belonging to 2 classes.\n"
     ]
    }
   ],
   "source": [
    "raw_test_ds = tf.keras.preprocessing.text_dataset_from_directory(\n",
    "    'data/aclImdb/test', \n",
    "    batch_size=batch_size)"
   ]
  },
  {
   "cell_type": "markdown",
   "metadata": {},
   "source": [
    "### prepare the dataset for training"
   ]
  },
  {
   "cell_type": "code",
   "execution_count": 63,
   "metadata": {},
   "outputs": [],
   "source": [
    "def custom_standardization(input_data):\n",
    "      lowercase = tf.strings.lower(input_data)\n",
    "      stripped_html = tf.strings.regex_replace(lowercase, '<br />', ' ')\n",
    "      return tf.strings.regex_replace(stripped_html,\n",
    "                                  '[%s]' % re.escape(string.punctuation),\n",
    "                                  '')"
   ]
  },
  {
   "cell_type": "code",
   "execution_count": 64,
   "metadata": {},
   "outputs": [],
   "source": [
    "max_features = 10000\n",
    "sequence_length = 250\n",
    "\n",
    "vectorize_layer = TextVectorization(\n",
    "    standardize=custom_standardization,\n",
    "    max_tokens=max_features,\n",
    "    output_mode='int',\n",
    "    output_sequence_length=sequence_length)"
   ]
  },
  {
   "cell_type": "code",
   "execution_count": 65,
   "metadata": {},
   "outputs": [],
   "source": [
    "train_text = raw_train_ds.map(lambda x, y: x)\n",
    "vectorize_layer.adapt(train_text)"
   ]
  },
  {
   "cell_type": "code",
   "execution_count": 66,
   "metadata": {},
   "outputs": [],
   "source": [
    "def vectorize_text(text, label):\n",
    "    text = tf.expand_dims(text, -1)\n",
    "    return vectorize_layer(text), label"
   ]
  },
  {
   "cell_type": "code",
   "execution_count": 67,
   "metadata": {},
   "outputs": [
    {
     "name": "stdout",
     "output_type": "stream",
     "text": [
      "Review tf.Tensor(b\"Surprisingly enough does movie does have some redeeming quality in it when it moves toward its end. For the other part this movie is being a really bad and lame one, with a small budget, insultingly bad written script and everything that goes with it.<br /><br />It's silly that with all the money going around in the Christian circles they never can seem to get sufficient funds to make a decent movie with. I'm not a religious, so I couldn't care less really but film-making does some like a good tool to reach a new audience for churches and getting people more interested and curious in reading the bible for instance. In that regard these movies always seem like a wasted opportunity.<br /><br />The low budget does really hurt the movie and brings it down. It makes the movie laughable to watch with its effects and it just gives the overall movie a campy B-movie like feeling.<br /><br />But what's hurting this movie more is its writing. The stuff that just happens in this movie is just insulting to the intelligence and then I'm not even complaining or talking about the religious aspects of the whole story. The way the movie progresses is just so improbable and the people within this movie do such highly unlikely things that it's being insulting to its viewers.<br /><br />I also hated how the movie was being like a soap opera at times. Seemed to me that they simply had a hard time turning this into a full length movie and they added in some characters and dramatic developments just to fill things up. I just couldn't cared less really at times.<br /><br />Still it needs to be said that the movie gets more solid and steady toward its end, when its story gets more focused on its essence. Still it remains predictable all but it prevented this movie from being a complete wreck to watch and as far as these type of movies are concerned, there are far worser one to watch out there, though I don't think this movie will win over any new souls.<br /><br />4/10\", shape=(), dtype=string)\n",
      "Label neg\n",
      "Vectorized review (<tf.Tensor: shape=(1, 250), dtype=int64, numpy=\n",
      "array([[1188,  189,  120,   17,  120,   25,   46, 1525,  487,    8,    9,\n",
      "          51,    9, 1071, 1703,   29,  126,   16,    2,   82,  166,   11,\n",
      "          17,    7,  107,    4,   63,   78,    3,  826,   28,   15,    4,\n",
      "         389,  408,    1,   78,  421,  226,    3,  278,   12,  264,   15,\n",
      "           9,   29,  686,   12,   15,   31,    2,  273,  164,  184,    8,\n",
      "           2, 1493, 6639,   34,  110,   68,  291,    6,   75, 7403,    1,\n",
      "           6,   96,    4,  540,   17,   15,  141,   21,    4, 1798,   37,\n",
      "          10,  412,  439,  319,   63,   18, 1649,  120,   46,   38,    4,\n",
      "          49, 6078,    6, 1933,    4,  155,  297,   16,    1,    3,  387,\n",
      "          80,   50,  928,    3, 1995,    8,  877,    2, 3526,   16, 1724,\n",
      "           8,   12, 2873,  128,   91,  205,  291,   38,    4, 1014, 1390,\n",
      "           2,  476,  408,  120,   63, 1488,    2,   17,    3,  949,    9,\n",
      "         185,    9,  157,    2,   17, 1235,    6,  103,   15,   29,  301,\n",
      "           3,    9,   41,  390,    2,  436,   17,    4, 2552, 2588,   38,\n",
      "         525,   18,  706, 9807,   11,   17,   50,    7,   29,  468,    2,\n",
      "         523,   12,   41,  558,    8,   11,   17,    7,   41, 3198,    6,\n",
      "           2, 1621,    3,   92,  141,   21,   53, 5210,   40,  639,   42,\n",
      "           2, 1798, 1320,    5,    2,  218,   62,    2,   94,    2,   17,\n",
      "        4548,    7,   41,   37, 6495,    3,    2,   80,  760,   11,   17,\n",
      "          79,  137,  535, 2373,  177,   12,   29,  107, 3198,    6,   29,\n",
      "         721,   10,   81, 1714,   85,    2,   17,   13,  107,   38,    4,\n",
      "        1862, 1450,   30,  204,  445,    6,   69,   12,   34,  316,   67,\n",
      "           4,  262,   58, 1561,   11,   77,    4,  376]])>, <tf.Tensor: shape=(), dtype=int32, numpy=0>)\n"
     ]
    }
   ],
   "source": [
    "# retrieve a batch (of 32 reviews and labels) from the dataset\n",
    "text_batch, label_batch = next(iter(raw_train_ds))\n",
    "first_review, first_label = text_batch[0], label_batch[0]\n",
    "print(\"Review\", first_review)\n",
    "print(\"Label\", raw_train_ds.class_names[first_label])\n",
    "print(\"Vectorized review\", vectorize_text(first_review, first_label))"
   ]
  },
  {
   "cell_type": "code",
   "execution_count": 71,
   "metadata": {},
   "outputs": [
    {
     "name": "stdout",
     "output_type": "stream",
     "text": [
      "1287 --->  plan\n",
      " 77 --->  into\n",
      "Vocabulary size: 10000\n"
     ]
    }
   ],
   "source": [
    "print(\"1287 ---> \",vectorize_layer.get_vocabulary()[1287])\n",
    "print(\" 77 ---> \",vectorize_layer.get_vocabulary()[77])\n",
    "print('Vocabulary size: {}'.format(len(vectorize_layer.get_vocabulary())))"
   ]
  },
  {
   "cell_type": "code",
   "execution_count": 72,
   "metadata": {},
   "outputs": [],
   "source": [
    "train_ds = raw_train_ds.map(vectorize_text)\n",
    "val_ds = raw_val_ds.map(vectorize_text)\n",
    "test_ds = raw_test_ds.map(vectorize_text)"
   ]
  },
  {
   "cell_type": "code",
   "execution_count": 73,
   "metadata": {},
   "outputs": [],
   "source": [
    "# configure the dataset for perdormance\n",
    "AUTOTUNE = tf.data.AUTOTUNE\n",
    "\n",
    "train_ds = train_ds.cache().prefetch(buffer_size=AUTOTUNE)\n",
    "val_ds = val_ds.cache().prefetch(buffer_size=AUTOTUNE)\n",
    "test_ds = test_ds.cache().prefetch(buffer_size=AUTOTUNE)"
   ]
  },
  {
   "cell_type": "code",
   "execution_count": 74,
   "metadata": {},
   "outputs": [
    {
     "name": "stdout",
     "output_type": "stream",
     "text": [
      "Model: \"sequential_5\"\n",
      "_________________________________________________________________\n",
      "Layer (type)                 Output Shape              Param #   \n",
      "=================================================================\n",
      "embedding_1 (Embedding)      (None, None, 16)          160016    \n",
      "_________________________________________________________________\n",
      "dropout_2 (Dropout)          (None, None, 16)          0         \n",
      "_________________________________________________________________\n",
      "global_average_pooling1d_1 ( (None, 16)                0         \n",
      "_________________________________________________________________\n",
      "dropout_3 (Dropout)          (None, 16)                0         \n",
      "_________________________________________________________________\n",
      "dense_1 (Dense)              (None, 1)                 17        \n",
      "=================================================================\n",
      "Total params: 160,033\n",
      "Trainable params: 160,033\n",
      "Non-trainable params: 0\n",
      "_________________________________________________________________\n"
     ]
    }
   ],
   "source": [
    "# create the model\n",
    "embedding_dim = 16\n",
    "drop_rate = 0.2\n",
    "model = tf.keras.Sequential([\n",
    "    layers.Embedding(max_features + 1, embedding_dim),\n",
    "    layers.Dropout(drop_rate),\n",
    "    layers.GlobalAveragePooling1D(),\n",
    "    layers.Dropout(drop_rate),\n",
    "    layers.Dense(1)\n",
    "])\n",
    "\n",
    "model.summary()"
   ]
  },
  {
   "cell_type": "code",
   "execution_count": 75,
   "metadata": {},
   "outputs": [],
   "source": [
    "model.compile(loss=losses.BinaryCrossentropy(from_logits=True), \n",
    "             optimizer='adam',\n",
    "             metrics=tf.keras.metrics.BinaryAccuracy(threshold=0.0))"
   ]
  },
  {
   "cell_type": "code",
   "execution_count": 76,
   "metadata": {},
   "outputs": [
    {
     "name": "stdout",
     "output_type": "stream",
     "text": [
      "Epoch 1/30\n",
      "625/625 - 3s - loss: 0.6625 - binary_accuracy: 0.6974 - val_loss: 0.6124 - val_binary_accuracy: 0.7664\n",
      "Epoch 2/30\n",
      "625/625 - 1s - loss: 0.5457 - binary_accuracy: 0.8036 - val_loss: 0.4969 - val_binary_accuracy: 0.8208\n",
      "Epoch 3/30\n",
      "625/625 - 1s - loss: 0.4419 - binary_accuracy: 0.8469 - val_loss: 0.4212 - val_binary_accuracy: 0.8464\n",
      "Epoch 4/30\n",
      "625/625 - 1s - loss: 0.3752 - binary_accuracy: 0.8676 - val_loss: 0.3771 - val_binary_accuracy: 0.8582\n",
      "Epoch 5/30\n",
      "625/625 - 1s - loss: 0.3322 - binary_accuracy: 0.8820 - val_loss: 0.3500 - val_binary_accuracy: 0.8616\n",
      "Epoch 6/30\n",
      "625/625 - 1s - loss: 0.3013 - binary_accuracy: 0.8900 - val_loss: 0.3321 - val_binary_accuracy: 0.8652\n",
      "Epoch 7/30\n",
      "625/625 - 1s - loss: 0.2793 - binary_accuracy: 0.9003 - val_loss: 0.3197 - val_binary_accuracy: 0.8680\n",
      "Epoch 8/30\n",
      "625/625 - 1s - loss: 0.2598 - binary_accuracy: 0.9056 - val_loss: 0.3108 - val_binary_accuracy: 0.8706\n",
      "Epoch 9/30\n",
      "625/625 - 1s - loss: 0.2432 - binary_accuracy: 0.9118 - val_loss: 0.3044 - val_binary_accuracy: 0.8736\n",
      "Epoch 10/30\n",
      "625/625 - 1s - loss: 0.2294 - binary_accuracy: 0.9186 - val_loss: 0.3000 - val_binary_accuracy: 0.8744\n",
      "Epoch 11/30\n",
      "625/625 - 1s - loss: 0.2166 - binary_accuracy: 0.9236 - val_loss: 0.2970 - val_binary_accuracy: 0.8756\n",
      "Epoch 12/30\n",
      "625/625 - 1s - loss: 0.2044 - binary_accuracy: 0.9263 - val_loss: 0.2957 - val_binary_accuracy: 0.8770\n",
      "Epoch 13/30\n",
      "625/625 - 1s - loss: 0.1948 - binary_accuracy: 0.9319 - val_loss: 0.2950 - val_binary_accuracy: 0.8772\n",
      "Epoch 14/30\n",
      "625/625 - 1s - loss: 0.1859 - binary_accuracy: 0.9344 - val_loss: 0.2949 - val_binary_accuracy: 0.8780\n",
      "Epoch 15/30\n",
      "625/625 - 1s - loss: 0.1765 - binary_accuracy: 0.9395 - val_loss: 0.2963 - val_binary_accuracy: 0.8786\n",
      "Epoch 16/30\n",
      "625/625 - 1s - loss: 0.1688 - binary_accuracy: 0.9430 - val_loss: 0.2979 - val_binary_accuracy: 0.8796\n",
      "Epoch 17/30\n",
      "625/625 - 1s - loss: 0.1606 - binary_accuracy: 0.9469 - val_loss: 0.3002 - val_binary_accuracy: 0.8810\n",
      "Epoch 18/30\n",
      "625/625 - 1s - loss: 0.1538 - binary_accuracy: 0.9490 - val_loss: 0.3033 - val_binary_accuracy: 0.8812\n",
      "Epoch 19/30\n",
      "625/625 - 1s - loss: 0.1462 - binary_accuracy: 0.9514 - val_loss: 0.3065 - val_binary_accuracy: 0.8806\n"
     ]
    }
   ],
   "source": [
    "epochs = 30\n",
    "callbacks = [tf.keras.callbacks.EarlyStopping(monitor='val_loss', patience=5)]\n",
    "history = model.fit(\n",
    "    train_ds,\n",
    "    validation_data=val_ds,\n",
    "    epochs=epochs,\n",
    "    callbacks=callbacks,\n",
    "    verbose=2)"
   ]
  },
  {
   "cell_type": "code",
   "execution_count": 77,
   "metadata": {},
   "outputs": [
    {
     "name": "stdout",
     "output_type": "stream",
     "text": [
      "782/782 [==============================] - 2s 3ms/step - loss: 0.3331 - binary_accuracy: 0.8678\n",
      "Loss:  0.33314836025238037\n",
      "Accuracy:  0.8677999973297119\n"
     ]
    }
   ],
   "source": [
    "loss, accuracy = model.evaluate(test_ds)\n",
    "\n",
    "print(\"Loss: \", loss)\n",
    "print(\"Accuracy: \", accuracy)"
   ]
  },
  {
   "cell_type": "code",
   "execution_count": 78,
   "metadata": {},
   "outputs": [
    {
     "data": {
      "text/plain": [
       "dict_keys(['loss', 'binary_accuracy', 'val_loss', 'val_binary_accuracy'])"
      ]
     },
     "execution_count": 78,
     "metadata": {},
     "output_type": "execute_result"
    }
   ],
   "source": [
    "history_dict = history.history\n",
    "history_dict.keys()"
   ]
  },
  {
   "cell_type": "code",
   "execution_count": 79,
   "metadata": {},
   "outputs": [
    {
     "data": {
      "image/png": "[encoded data removed]",
      "text/plain": [
       "<Figure size 432x288 with 1 Axes>"
      ]
     },
     "metadata": {
      "needs_background": "light"
     },
     "output_type": "display_data"
    }
   ],
   "source": [
    "acc = history_dict['binary_accuracy']\n",
    "val_acc = history_dict['val_binary_accuracy']\n",
    "loss = history_dict['loss']\n",
    "val_loss = history_dict['val_loss']\n",
    "\n",
    "epochs = range(1, len(acc) + 1)\n",
    "\n",
    "# \"bo\" is for \"blue dot\"\n",
    "plt.plot(epochs, loss, 'r', label='Training loss')\n",
    "# b is for \"solid blue line\"\n",
    "plt.plot(epochs, val_loss, 'b', label='Validation loss')\n",
    "plt.title('Training and validation loss')\n",
    "plt.xlabel('Epochs')\n",
    "plt.ylabel('Loss')\n",
    "plt.legend()\n",
    "\n",
    "plt.show()"
   ]
  },
  {
   "cell_type": "code",
   "execution_count": 80,
   "metadata": {},
   "outputs": [
    {
     "data": {
      "image/png": "[encoded data removed]",
      "text/plain": [
       "<Figure size 432x288 with 1 Axes>"
      ]
     },
     "metadata": {
      "needs_background": "light"
     },
     "output_type": "display_data"
    }
   ],
   "source": [
    "plt.plot(epochs, acc, 'r', label='Training acc')\n",
    "plt.plot(epochs, val_acc, 'b', label='Validation acc')\n",
    "plt.title('Training and validation accuracy')\n",
    "plt.xlabel('Epochs')\n",
    "plt.ylabel('Accuracy')\n",
    "plt.legend(loc='lower right')\n",
    "\n",
    "plt.show()"
   ]
  },
  {
   "cell_type": "markdown",
   "metadata": {},
   "source": [
    "### saving the model"
   ]
  },
  {
   "cell_type": "code",
   "execution_count": null,
   "metadata": {},
   "outputs": [],
   "source": [
    "def export_vertorized_model(vetor_layer, model, eval_ds, export=False):\n",
    "\n",
    "    # Pickle the config and weights\n",
    "    pickle.dump({'config': vetor_layer.get_config(),\n",
    "                 'weights': vetor_layer.get_weights()}\n",
    "                , open(\"model/vectorized_model.pkl\", \"wb\"))\n",
    "\n",
    "    loss, accuracy = model.evaluate(eval_ds)\n",
    "    print(accuracy)\n",
    "    if export == True:\n",
    "        model.save('model/vectorized_model')"
   ]
  },
  {
   "cell_type": "markdown",
   "metadata": {},
   "source": [
    "### load and re-use the model"
   ]
  },
  {
   "cell_type": "code",
   "execution_count": 40,
   "metadata": {},
   "outputs": [
    {
     "name": "stdout",
     "output_type": "stream",
     "text": [
      "Model: \"sequential\"\n",
      "_________________________________________________________________\n",
      "Layer (type)                 Output Shape              Param #   \n",
      "=================================================================\n",
      "embedding (Embedding)        (None, None, 16)          160016    \n",
      "_________________________________________________________________\n",
      "dropout (Dropout)            (None, None, 16)          0         \n",
      "_________________________________________________________________\n",
      "global_average_pooling1d (Gl (None, 16)                0         \n",
      "_________________________________________________________________\n",
      "dropout_1 (Dropout)          (None, 16)                0         \n",
      "_________________________________________________________________\n",
      "dense (Dense)                (None, 1)                 17        \n",
      "=================================================================\n",
      "Total params: 160,033\n",
      "Trainable params: 160,033\n",
      "Non-trainable params: 0\n",
      "_________________________________________________________________\n"
     ]
    }
   ],
   "source": [
    "new_model = tf.keras.models.load_model('model/vectorized_model')\n",
    "\n",
    "# Check its architecture\n",
    "new_model.summary()"
   ]
  },
  {
   "cell_type": "code",
   "execution_count": 51,
   "metadata": {},
   "outputs": [],
   "source": [
    "with open('model/vectorized_model.pkl', 'rb') as r:\n",
    "    config_file = pickle.load(r)\n",
    "    vt_layer = TextVectorization.from_config(config_file['config'])\n",
    "    # You have to call `adapt` with some dummy data (BUG in Keras)\n",
    "    vt_layer.adapt(tf.data.Dataset.from_tensor_slices([\"xyz\"]))\n",
    "    vt_layer.set_weights(config_file['weights'])"
   ]
  },
  {
   "cell_type": "code",
   "execution_count": 48,
   "metadata": {},
   "outputs": [
    {
     "name": "stdout",
     "output_type": "stream",
     "text": [
      "Found 25000 files belonging to 2 classes.\n"
     ]
    }
   ],
   "source": [
    "# load test data\n",
    "text_pth = 'data/aclImdb/'\n",
    "raw_test_ds = tf.keras.preprocessing.text_dataset_from_directory(\n",
    "    os.path.join(text_pth, 'test/'),\n",
    "    batch_size=64)"
   ]
  },
  {
   "cell_type": "code",
   "execution_count": 53,
   "metadata": {},
   "outputs": [],
   "source": [
    "export_model = tf.keras.Sequential([\n",
    "  vt_layer,\n",
    "  new_model,\n",
    "  layers.Activation('sigmoid')\n",
    "])\n",
    "\n",
    "export_model.compile(\n",
    "    loss=losses.BinaryCrossentropy(from_logits=False), optimizer=\"adam\", metrics=['accuracy']\n",
    ")"
   ]
  },
  {
   "cell_type": "code",
   "execution_count": 54,
   "metadata": {},
   "outputs": [
    {
     "name": "stdout",
     "output_type": "stream",
     "text": [
      "391/391 [==============================] - 3s 6ms/step - loss: 0.3171 - accuracy: 0.8713\n",
      "0.8720800280570984\n"
     ]
    }
   ],
   "source": [
    "# Test it with `raw_test_ds`, which yields raw strings\n",
    "loss, accuracy = export_model.evaluate(raw_test_ds)\n",
    "print(accuracy)"
   ]
  },
  {
   "cell_type": "code",
   "execution_count": null,
   "metadata": {},
   "outputs": [],
   "source": []
  }
 ],
 "metadata": {
  "kernelspec": {
   "display_name": "Python 3",
   "language": "python",
   "name": "python3"
  },
  "language_info": {
   "codemirror_mode": {
    "name": "ipython",
    "version": 3
   },
   "file_extension": ".py",
   "mimetype": "text/x-python",
   "name": "python",
   "nbconvert_exporter": "python",
   "pygments_lexer": "ipython3",
   "version": "3.7.9"
  }
 },
 "nbformat": 4,
 "nbformat_minor": 2
}
